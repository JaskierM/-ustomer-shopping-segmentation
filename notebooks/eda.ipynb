{
 "cells": [
  {
   "cell_type": "markdown",
   "id": "ab430612-b04d-404f-aaae-3df6f572a8e8",
   "metadata": {},
   "source": [
    "## 1 Preliminaries"
   ]
  },
  {
   "cell_type": "markdown",
   "id": "9c676b93-8031-4320-b757-0e3cf267ad49",
   "metadata": {},
   "source": [
    "## 1.1 Imports and Configurations"
   ]
  },
  {
   "cell_type": "code",
   "execution_count": 2,
   "id": "b5d326ee-d3ff-4c13-89cf-94733117de09",
   "metadata": {},
   "outputs": [],
   "source": [
    "import pandas as pd\n",
    "\n",
    "from pathlib import Path\n",
    "from ydata_profiling import ProfileReport"
   ]
  },
  {
   "cell_type": "markdown",
   "id": "0c406d63-b340-4f74-abfa-9b2c41862727",
   "metadata": {},
   "source": [
    "### Constants"
   ]
  },
  {
   "cell_type": "code",
   "execution_count": 5,
   "id": "ffc946fe-cb49-4a35-808d-b9b84566bb03",
   "metadata": {},
   "outputs": [],
   "source": [
    "# 1 Preliminaries\n",
    "\n",
    "MARKETING_PATH = Path('../data/raw/customer_shopping_data.csv')\n",
    "REPORTS_DIR = Path('../reports/')\n",
    "REPORTS_DIR.mkdir(exist_ok=True)"
   ]
  },
  {
   "cell_type": "markdown",
   "id": "37f67f06-0f79-423b-9562-5273ca06ca8c",
   "metadata": {},
   "source": [
    "## 1.2 Read and Clean Data"
   ]
  },
  {
   "cell_type": "code",
   "execution_count": 8,
   "id": "2611a5e3-d693-480e-8830-62cc18a250f3",
   "metadata": {},
   "outputs": [],
   "source": [
    "def read_data(path):\n",
    "    return pd.read_csv(path)"
   ]
  },
  {
   "cell_type": "code",
   "execution_count": 9,
   "id": "0ff68d04-aeed-49fa-9eed-184a600e62ac",
   "metadata": {},
   "outputs": [],
   "source": [
    "df = read_data(MARKETING_PATH)"
   ]
  },
  {
   "cell_type": "code",
   "execution_count": 10,
   "id": "1dcc8f61-6af9-41b6-a1a7-f0fc3c7f0111",
   "metadata": {},
   "outputs": [
    {
     "name": "stdout",
     "output_type": "stream",
     "text": [
      "<class 'pandas.core.frame.DataFrame'>\n",
      "RangeIndex: 99457 entries, 0 to 99456\n",
      "Data columns (total 10 columns):\n",
      " #   Column          Non-Null Count  Dtype  \n",
      "---  ------          --------------  -----  \n",
      " 0   invoice_no      99457 non-null  object \n",
      " 1   customer_id     99457 non-null  object \n",
      " 2   gender          99457 non-null  object \n",
      " 3   age             99457 non-null  int64  \n",
      " 4   category        99457 non-null  object \n",
      " 5   quantity        99457 non-null  int64  \n",
      " 6   price           99457 non-null  float64\n",
      " 7   payment_method  99457 non-null  object \n",
      " 8   invoice_date    99457 non-null  object \n",
      " 9   shopping_mall   99457 non-null  object \n",
      "dtypes: float64(1), int64(2), object(7)\n",
      "memory usage: 7.6+ MB\n"
     ]
    }
   ],
   "source": [
    "df.info()"
   ]
  },
  {
   "cell_type": "markdown",
   "id": "5889a0a3-125b-4b63-b466-8850b568bc43",
   "metadata": {},
   "source": [
    "## 2 EDA"
   ]
  },
  {
   "cell_type": "markdown",
   "id": "ec2c8803-fd45-428c-a91a-d1dde5acb02b",
   "metadata": {},
   "source": [
    "## 2.1 Profile Report"
   ]
  },
  {
   "cell_type": "code",
   "execution_count": 11,
   "id": "6664e8bd-5d00-4ca6-b9be-d19d19a0d8c6",
   "metadata": {},
   "outputs": [],
   "source": [
    "profile_report = ProfileReport(df, title='Profile Report', dark_mode=True)"
   ]
  },
  {
   "cell_type": "code",
   "execution_count": 12,
   "id": "46eb7a5a-d06b-47ec-bf07-f5faa2773dc4",
   "metadata": {},
   "outputs": [
    {
     "data": {
      "application/vnd.jupyter.widget-view+json": {
       "model_id": "742f492e41e145d09876b93846cfa696",
       "version_major": 2,
       "version_minor": 0
      },
      "text/plain": [
       "Summarize dataset:   0%|          | 0/5 [00:00<?, ?it/s]"
      ]
     },
     "metadata": {},
     "output_type": "display_data"
    },
    {
     "data": {
      "application/vnd.jupyter.widget-view+json": {
       "model_id": "5bc8d094532344feba4e597a1c4342fa",
       "version_major": 2,
       "version_minor": 0
      },
      "text/plain": [
       "Generate report structure:   0%|          | 0/1 [00:00<?, ?it/s]"
      ]
     },
     "metadata": {},
     "output_type": "display_data"
    },
    {
     "data": {
      "application/vnd.jupyter.widget-view+json": {
       "model_id": "48109bb2f886435bb90a908091861d12",
       "version_major": 2,
       "version_minor": 0
      },
      "text/plain": [
       "Render HTML:   0%|          | 0/1 [00:00<?, ?it/s]"
      ]
     },
     "metadata": {},
     "output_type": "display_data"
    },
    {
     "data": {
      "application/vnd.jupyter.widget-view+json": {
       "model_id": "19cc27d38de1407b9925257b3ff934cd",
       "version_major": 2,
       "version_minor": 0
      },
      "text/plain": [
       "Export report to file:   0%|          | 0/1 [00:00<?, ?it/s]"
      ]
     },
     "metadata": {},
     "output_type": "display_data"
    }
   ],
   "source": [
    "profile_report.to_file(REPORTS_DIR.joinpath('eda_report.html'))"
   ]
  }
 ],
 "metadata": {
  "kernelspec": {
   "display_name": "Python 3 (ipykernel)",
   "language": "python",
   "name": "python3"
  },
  "language_info": {
   "codemirror_mode": {
    "name": "ipython",
    "version": 3
   },
   "file_extension": ".py",
   "mimetype": "text/x-python",
   "name": "python",
   "nbconvert_exporter": "python",
   "pygments_lexer": "ipython3",
   "version": "3.11.5"
  }
 },
 "nbformat": 4,
 "nbformat_minor": 5
}
