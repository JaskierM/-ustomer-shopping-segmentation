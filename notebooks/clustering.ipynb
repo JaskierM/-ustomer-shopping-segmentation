{
 "cells": [
  {
   "cell_type": "markdown",
   "id": "519495d1-6735-4e35-abd4-ea2a42643b3f",
   "metadata": {},
   "source": [
    "## 1 Preliminaries"
   ]
  },
  {
   "cell_type": "markdown",
   "id": "05727ff3-3918-471e-bc35-711263da4beb",
   "metadata": {},
   "source": [
    "## 1.1 Imports and Configurations"
   ]
  },
  {
   "cell_type": "markdown",
   "id": "9f4c9cf1-a939-4c9e-b34a-0525563e6898",
   "metadata": {},
   "source": [
    "### Imports"
   ]
  },
  {
   "cell_type": "code",
   "execution_count": 1,
   "id": "e87775a7-4c5d-4154-8565-4092ed107ea5",
   "metadata": {},
   "outputs": [],
   "source": [
    "import warnings\n",
    "import numpy as np\n",
    "import pandas as pd\n",
    "import matplotlib.pyplot as plt\n",
    "import seaborn as sns\n",
    "import sklearn\n",
    "import random\n",
    "import math\n",
    "\n",
    "from pathlib import Path\n",
    "from pandas.api.types import CategoricalDtype\n",
    "from ydata_profiling import ProfileReport\n",
    "from yellowbrick.cluster import KElbowVisualizer, SilhouetteVisualizer\n",
    "from scipy.cluster.hierarchy import linkage, dendrogram\n",
    "from sklearn.feature_selection import mutual_info_regression\n",
    "from sklearn.pipeline import Pipeline\n",
    "from sklearn.compose import ColumnTransformer\n",
    "from sklearn.impute import SimpleImputer\n",
    "from sklearn.preprocessing import StandardScaler, QuantileTransformer, OneHotEncoder, OrdinalEncoder\n",
    "from sklearn.decomposition import PCA\n",
    "from sklearn.neighbors import NearestNeighbors\n",
    "from sklearn.cluster import KMeans, AgglomerativeClustering, DBSCAN"
   ]
  },
  {
   "cell_type": "markdown",
   "id": "aba0bdfb-49d1-4636-a45a-9c348ebb05ed",
   "metadata": {},
   "source": [
    "### Constants"
   ]
  },
  {
   "cell_type": "code",
   "execution_count": 113,
   "id": "eaa92e43-fd45-4bc1-bb20-12d0bd787c5c",
   "metadata": {},
   "outputs": [],
   "source": [
    "# 1 Preliminaries\n",
    "\n",
    "RANDOM_STATE = 42\n",
    "\n",
    "MARKETING_PATH =  Path('../data/raw/customer_shopping_data.csv')\n",
    "REPORTS_DIR = Path('../reports/')\n",
    "\n",
    "FEATURES_TO_DEL = ['invoice_no', 'customer_id']\n",
    "\n",
    "FEATURE_OUTLIER_THRESHOLDS = {\n",
    "    'price': {'upper': 4000},\n",
    "}\n",
    "\n",
    "FEATURES_CAT = ['gender', 'category', 'payment_method', 'shopping_mall']\n",
    "FEATURES_DATE = ['invoice_date']\n",
    "\n",
    "FEATURE_ORD_LEVELS = {\n",
    "    'quantity': ['1', '2', '3', '4', '5'],\n",
    "}\n",
    "\n",
    "# 2 Feature Utility Scores\n",
    "\n",
    "MI_SCORES_FEATURE_TO_ESTIMATE = 'category_quantity_mall_spent'\n",
    "MI_SCORES_THRESHOLD = 0\n",
    "\n",
    "## 3 Feature Engineering\n",
    "\n",
    "FEATURES_NEW_TO_DEL = ['invoice_date', 'age']\n",
    "\n",
    "FEATURE_NEW_ORD_LEVELS = {\n",
    "    'quantity': ['1', '2', '3', '4', '5'],\n",
    "    'age_group': ['Juvenile', 'Youth', 'Average', 'Elderly'],\n",
    "}\n",
    "\n",
    "PCA_N_COMPONENTS = 20\n",
    "HOPKINS_B = 10"
   ]
  },
  {
   "cell_type": "markdown",
   "id": "32a27c62-0089-42b2-94da-8e1adc9898b0",
   "metadata": {},
   "source": [
    "### Configs"
   ]
  },
  {
   "cell_type": "code",
   "execution_count": 114,
   "id": "f80f6ae9-f3a1-47ed-88ee-b108e68002e4",
   "metadata": {},
   "outputs": [],
   "source": [
    "warnings.filterwarnings('ignore')\n",
    "\n",
    "random.seed(RANDOM_STATE)\n",
    "np.random.seed(RANDOM_STATE)\n",
    "\n",
    "REPORTS_DIR.mkdir(exist_ok=True)"
   ]
  },
  {
   "cell_type": "markdown",
   "id": "104fa4fb-a335-4de5-ad77-9fb6a5bd5a3a",
   "metadata": {},
   "source": [
    "## 1.2 Data Preprocessing"
   ]
  },
  {
   "cell_type": "markdown",
   "id": "0c798984-adf5-48a7-9127-8a7dc56d696a",
   "metadata": {},
   "source": [
    "### Read"
   ]
  },
  {
   "cell_type": "code",
   "execution_count": 115,
   "id": "6ca4cbdb-0f69-4c0a-bc27-5ecd78f1c721",
   "metadata": {},
   "outputs": [],
   "source": [
    "def read_data(path):\n",
    "    return pd.read_csv(path)"
   ]
  },
  {
   "cell_type": "code",
   "execution_count": 116,
   "id": "1a4ce77a-ac30-4b08-9073-970f20835709",
   "metadata": {},
   "outputs": [
    {
     "data": {
      "text/html": [
       "<div>\n",
       "<style scoped>\n",
       "    .dataframe tbody tr th:only-of-type {\n",
       "        vertical-align: middle;\n",
       "    }\n",
       "\n",
       "    .dataframe tbody tr th {\n",
       "        vertical-align: top;\n",
       "    }\n",
       "\n",
       "    .dataframe thead th {\n",
       "        text-align: right;\n",
       "    }\n",
       "</style>\n",
       "<table border=\"1\" class=\"dataframe\">\n",
       "  <thead>\n",
       "    <tr style=\"text-align: right;\">\n",
       "      <th></th>\n",
       "      <th>invoice_no</th>\n",
       "      <th>customer_id</th>\n",
       "      <th>gender</th>\n",
       "      <th>age</th>\n",
       "      <th>category</th>\n",
       "      <th>quantity</th>\n",
       "      <th>price</th>\n",
       "      <th>payment_method</th>\n",
       "      <th>invoice_date</th>\n",
       "      <th>shopping_mall</th>\n",
       "    </tr>\n",
       "  </thead>\n",
       "  <tbody>\n",
       "    <tr>\n",
       "      <th>0</th>\n",
       "      <td>I138884</td>\n",
       "      <td>C241288</td>\n",
       "      <td>Female</td>\n",
       "      <td>28</td>\n",
       "      <td>Clothing</td>\n",
       "      <td>5</td>\n",
       "      <td>1500.40</td>\n",
       "      <td>Credit Card</td>\n",
       "      <td>5/8/2022</td>\n",
       "      <td>Kanyon</td>\n",
       "    </tr>\n",
       "    <tr>\n",
       "      <th>1</th>\n",
       "      <td>I317333</td>\n",
       "      <td>C111565</td>\n",
       "      <td>Male</td>\n",
       "      <td>21</td>\n",
       "      <td>Shoes</td>\n",
       "      <td>3</td>\n",
       "      <td>1800.51</td>\n",
       "      <td>Debit Card</td>\n",
       "      <td>12/12/2021</td>\n",
       "      <td>Forum Istanbul</td>\n",
       "    </tr>\n",
       "    <tr>\n",
       "      <th>2</th>\n",
       "      <td>I127801</td>\n",
       "      <td>C266599</td>\n",
       "      <td>Male</td>\n",
       "      <td>20</td>\n",
       "      <td>Clothing</td>\n",
       "      <td>1</td>\n",
       "      <td>300.08</td>\n",
       "      <td>Cash</td>\n",
       "      <td>9/11/2021</td>\n",
       "      <td>Metrocity</td>\n",
       "    </tr>\n",
       "    <tr>\n",
       "      <th>3</th>\n",
       "      <td>I173702</td>\n",
       "      <td>C988172</td>\n",
       "      <td>Female</td>\n",
       "      <td>66</td>\n",
       "      <td>Shoes</td>\n",
       "      <td>5</td>\n",
       "      <td>3000.85</td>\n",
       "      <td>Credit Card</td>\n",
       "      <td>16/05/2021</td>\n",
       "      <td>Metropol AVM</td>\n",
       "    </tr>\n",
       "    <tr>\n",
       "      <th>4</th>\n",
       "      <td>I337046</td>\n",
       "      <td>C189076</td>\n",
       "      <td>Female</td>\n",
       "      <td>53</td>\n",
       "      <td>Books</td>\n",
       "      <td>4</td>\n",
       "      <td>60.60</td>\n",
       "      <td>Cash</td>\n",
       "      <td>24/10/2021</td>\n",
       "      <td>Kanyon</td>\n",
       "    </tr>\n",
       "  </tbody>\n",
       "</table>\n",
       "</div>"
      ],
      "text/plain": [
       "  invoice_no customer_id  gender  age  category  quantity    price  \\\n",
       "0    I138884     C241288  Female   28  Clothing         5  1500.40   \n",
       "1    I317333     C111565    Male   21     Shoes         3  1800.51   \n",
       "2    I127801     C266599    Male   20  Clothing         1   300.08   \n",
       "3    I173702     C988172  Female   66     Shoes         5  3000.85   \n",
       "4    I337046     C189076  Female   53     Books         4    60.60   \n",
       "\n",
       "  payment_method invoice_date   shopping_mall  \n",
       "0    Credit Card     5/8/2022          Kanyon  \n",
       "1     Debit Card   12/12/2021  Forum Istanbul  \n",
       "2           Cash    9/11/2021       Metrocity  \n",
       "3    Credit Card   16/05/2021    Metropol AVM  \n",
       "4           Cash   24/10/2021          Kanyon  "
      ]
     },
     "execution_count": 116,
     "metadata": {},
     "output_type": "execute_result"
    }
   ],
   "source": [
    "df = read_data(MARKETING_PATH)\n",
    "df.head()"
   ]
  },
  {
   "cell_type": "markdown",
   "id": "c6f92338-a391-4b3f-a89c-4c01daca2c75",
   "metadata": {},
   "source": [
    "### Clean"
   ]
  },
  {
   "cell_type": "code",
   "execution_count": 117,
   "id": "7527961e-a85d-4c5f-850a-542bffd811dc",
   "metadata": {},
   "outputs": [],
   "source": [
    "def clean(df, features_to_del):\n",
    "    df = df.drop(columns=features_to_del)\n",
    "    df['category_quantity_mall_counts'] = df.groupby(['category', 'quantity', 'shopping_mall'])['price'].transform('count')\n",
    "    df['category_quantity_mall_spent'] = df.groupby(['category', 'quantity', 'shopping_mall'])['price'].transform('sum')\n",
    "    return df"
   ]
  },
  {
   "cell_type": "code",
   "execution_count": 118,
   "id": "b9ded247-8ed1-4d41-b82f-2fd4d93f9264",
   "metadata": {},
   "outputs": [
    {
     "data": {
      "text/html": [
       "<div>\n",
       "<style scoped>\n",
       "    .dataframe tbody tr th:only-of-type {\n",
       "        vertical-align: middle;\n",
       "    }\n",
       "\n",
       "    .dataframe tbody tr th {\n",
       "        vertical-align: top;\n",
       "    }\n",
       "\n",
       "    .dataframe thead th {\n",
       "        text-align: right;\n",
       "    }\n",
       "</style>\n",
       "<table border=\"1\" class=\"dataframe\">\n",
       "  <thead>\n",
       "    <tr style=\"text-align: right;\">\n",
       "      <th></th>\n",
       "      <th>gender</th>\n",
       "      <th>age</th>\n",
       "      <th>category</th>\n",
       "      <th>quantity</th>\n",
       "      <th>price</th>\n",
       "      <th>payment_method</th>\n",
       "      <th>invoice_date</th>\n",
       "      <th>shopping_mall</th>\n",
       "      <th>category_quantity_mall_counts</th>\n",
       "      <th>category_quantity_mall_spent</th>\n",
       "    </tr>\n",
       "  </thead>\n",
       "  <tbody>\n",
       "    <tr>\n",
       "      <th>0</th>\n",
       "      <td>Female</td>\n",
       "      <td>28</td>\n",
       "      <td>Clothing</td>\n",
       "      <td>5</td>\n",
       "      <td>1500.40</td>\n",
       "      <td>Credit Card</td>\n",
       "      <td>5/8/2022</td>\n",
       "      <td>Kanyon</td>\n",
       "      <td>1380</td>\n",
       "      <td>2070552.00</td>\n",
       "    </tr>\n",
       "    <tr>\n",
       "      <th>1</th>\n",
       "      <td>Male</td>\n",
       "      <td>21</td>\n",
       "      <td>Shoes</td>\n",
       "      <td>3</td>\n",
       "      <td>1800.51</td>\n",
       "      <td>Debit Card</td>\n",
       "      <td>12/12/2021</td>\n",
       "      <td>Forum Istanbul</td>\n",
       "      <td>88</td>\n",
       "      <td>158444.88</td>\n",
       "    </tr>\n",
       "    <tr>\n",
       "      <th>2</th>\n",
       "      <td>Male</td>\n",
       "      <td>20</td>\n",
       "      <td>Clothing</td>\n",
       "      <td>1</td>\n",
       "      <td>300.08</td>\n",
       "      <td>Cash</td>\n",
       "      <td>9/11/2021</td>\n",
       "      <td>Metrocity</td>\n",
       "      <td>1040</td>\n",
       "      <td>312083.20</td>\n",
       "    </tr>\n",
       "    <tr>\n",
       "      <th>3</th>\n",
       "      <td>Female</td>\n",
       "      <td>66</td>\n",
       "      <td>Shoes</td>\n",
       "      <td>5</td>\n",
       "      <td>3000.85</td>\n",
       "      <td>Credit Card</td>\n",
       "      <td>16/05/2021</td>\n",
       "      <td>Metropol AVM</td>\n",
       "      <td>228</td>\n",
       "      <td>684193.80</td>\n",
       "    </tr>\n",
       "    <tr>\n",
       "      <th>4</th>\n",
       "      <td>Female</td>\n",
       "      <td>53</td>\n",
       "      <td>Books</td>\n",
       "      <td>4</td>\n",
       "      <td>60.60</td>\n",
       "      <td>Cash</td>\n",
       "      <td>24/10/2021</td>\n",
       "      <td>Kanyon</td>\n",
       "      <td>168</td>\n",
       "      <td>10180.80</td>\n",
       "    </tr>\n",
       "  </tbody>\n",
       "</table>\n",
       "</div>"
      ],
      "text/plain": [
       "   gender  age  category  quantity    price payment_method invoice_date  \\\n",
       "0  Female   28  Clothing         5  1500.40    Credit Card     5/8/2022   \n",
       "1    Male   21     Shoes         3  1800.51     Debit Card   12/12/2021   \n",
       "2    Male   20  Clothing         1   300.08           Cash    9/11/2021   \n",
       "3  Female   66     Shoes         5  3000.85    Credit Card   16/05/2021   \n",
       "4  Female   53     Books         4    60.60           Cash   24/10/2021   \n",
       "\n",
       "    shopping_mall  category_quantity_mall_counts  category_quantity_mall_spent  \n",
       "0          Kanyon                           1380                    2070552.00  \n",
       "1  Forum Istanbul                             88                     158444.88  \n",
       "2       Metrocity                           1040                     312083.20  \n",
       "3    Metropol AVM                            228                     684193.80  \n",
       "4          Kanyon                            168                      10180.80  "
      ]
     },
     "execution_count": 118,
     "metadata": {},
     "output_type": "execute_result"
    }
   ],
   "source": [
    "df = clean(df, FEATURES_TO_DEL) \n",
    "df.head()"
   ]
  },
  {
   "cell_type": "markdown",
   "id": "41a4f101-a861-4c28-b7f7-6eb39ba707e6",
   "metadata": {},
   "source": [
    "### Missing Values"
   ]
  },
  {
   "cell_type": "code",
   "execution_count": 119,
   "id": "e133392c-8bc3-48b2-bba8-5126a214ad34",
   "metadata": {},
   "outputs": [
    {
     "data": {
      "text/plain": [
       "0"
      ]
     },
     "execution_count": 119,
     "metadata": {},
     "output_type": "execute_result"
    }
   ],
   "source": [
    "df.isna().sum().sum()"
   ]
  },
  {
   "cell_type": "markdown",
   "id": "a41993de-d793-4605-adb9-ba4178ff8d6f",
   "metadata": {},
   "source": [
    "### Outliers"
   ]
  },
  {
   "cell_type": "code",
   "execution_count": 120,
   "id": "2357d96f-86af-4355-ae23-f99b487797c0",
   "metadata": {},
   "outputs": [],
   "source": [
    "def get_outlier_indexes(df, feature_outlier_thresholds):\n",
    "    outlier_indexes = set()\n",
    "    \n",
    "    for feature, thresholds in feature_outlier_thresholds.items():\n",
    "        if 'upper' in thresholds.keys():\n",
    "            outlier_indexes = outlier_indexes.union(set(df[df[feature] > thresholds['upper']].index))\n",
    "        elif 'lower' in thresholds.keys():\n",
    "            outlier_indexes = outlier_indexes.union(set(df[df[feature] < thresholds['lower']].index))\n",
    "\n",
    "    return list(outlier_indexes)"
   ]
  },
  {
   "cell_type": "code",
   "execution_count": 121,
   "id": "228b95f7-af7a-4df6-9d5f-625445eb0166",
   "metadata": {},
   "outputs": [],
   "source": [
    "def drop_outliers(df, outlier_indexes):\n",
    "    return df.drop(index=outlier_indexes)"
   ]
  },
  {
   "cell_type": "code",
   "execution_count": 122,
   "id": "0445a264-524d-4256-9c2d-f1e314de0970",
   "metadata": {},
   "outputs": [
    {
     "data": {
      "text/plain": [
       "2002"
      ]
     },
     "execution_count": 122,
     "metadata": {},
     "output_type": "execute_result"
    }
   ],
   "source": [
    "outlier_indexes = get_outlier_indexes(df, FEATURE_OUTLIER_THRESHOLDS)\n",
    "len(outlier_indexes)"
   ]
  },
  {
   "cell_type": "code",
   "execution_count": 123,
   "id": "8b903f76-f76b-4c5e-8cc8-42c502b109ff",
   "metadata": {},
   "outputs": [
    {
     "data": {
      "text/plain": [
       "(97455, 10)"
      ]
     },
     "execution_count": 123,
     "metadata": {},
     "output_type": "execute_result"
    }
   ],
   "source": [
    "df_without_outliers = drop_outliers(df, outlier_indexes)\n",
    "df_without_outliers.shape"
   ]
  },
  {
   "cell_type": "markdown",
   "id": "3e5f1e11-eb31-4f14-a397-1cddb8bbaece",
   "metadata": {},
   "source": [
    "### Encode"
   ]
  },
  {
   "cell_type": "code",
   "execution_count": 124,
   "id": "44b6df64-cdf3-4217-82c0-7412239fc3f0",
   "metadata": {},
   "outputs": [],
   "source": [
    "def encode(df, features_cat, features_date, feature_ord_levels, format='%d-%m-%Y'):\n",
    "    \n",
    "    def encode_cat(df, features_cat):\n",
    "        for feature in features_cat:\n",
    "            df[feature] = df[feature].astype('category')\n",
    "        return df\n",
    "\n",
    "    def encode_date(df, features_date):\n",
    "        for feature in features_date:\n",
    "            df[feature] = pd.to_datetime(df[feature], format=format)\n",
    "        return df\n",
    "\n",
    "    def encode_ord(df, feature_ord_levels):\n",
    "        for feature, levels in feature_ord_levels.items():\n",
    "            df[feature] = df[feature].astype('str').astype(CategoricalDtype(levels, ordered=True))\n",
    "        return df\n",
    "    \n",
    "    df = encode_cat(df, features_cat)\n",
    "    df = encode_date(df, features_date)\n",
    "    df = encode_ord(df, feature_ord_levels)\n",
    "    return df"
   ]
  },
  {
   "cell_type": "code",
   "execution_count": 125,
   "id": "f1f95f05-8b8c-4d82-a067-8dd2d73ab569",
   "metadata": {},
   "outputs": [
    {
     "data": {
      "text/html": [
       "<div>\n",
       "<style scoped>\n",
       "    .dataframe tbody tr th:only-of-type {\n",
       "        vertical-align: middle;\n",
       "    }\n",
       "\n",
       "    .dataframe tbody tr th {\n",
       "        vertical-align: top;\n",
       "    }\n",
       "\n",
       "    .dataframe thead th {\n",
       "        text-align: right;\n",
       "    }\n",
       "</style>\n",
       "<table border=\"1\" class=\"dataframe\">\n",
       "  <thead>\n",
       "    <tr style=\"text-align: right;\">\n",
       "      <th></th>\n",
       "      <th>gender</th>\n",
       "      <th>age</th>\n",
       "      <th>category</th>\n",
       "      <th>quantity</th>\n",
       "      <th>price</th>\n",
       "      <th>payment_method</th>\n",
       "      <th>invoice_date</th>\n",
       "      <th>shopping_mall</th>\n",
       "      <th>category_quantity_mall_counts</th>\n",
       "      <th>category_quantity_mall_spent</th>\n",
       "    </tr>\n",
       "  </thead>\n",
       "  <tbody>\n",
       "    <tr>\n",
       "      <th>0</th>\n",
       "      <td>Female</td>\n",
       "      <td>28</td>\n",
       "      <td>Clothing</td>\n",
       "      <td>5</td>\n",
       "      <td>1500.40</td>\n",
       "      <td>Credit Card</td>\n",
       "      <td>2022-08-05</td>\n",
       "      <td>Kanyon</td>\n",
       "      <td>1380</td>\n",
       "      <td>2070552.00</td>\n",
       "    </tr>\n",
       "    <tr>\n",
       "      <th>1</th>\n",
       "      <td>Male</td>\n",
       "      <td>21</td>\n",
       "      <td>Shoes</td>\n",
       "      <td>3</td>\n",
       "      <td>1800.51</td>\n",
       "      <td>Debit Card</td>\n",
       "      <td>2021-12-12</td>\n",
       "      <td>Forum Istanbul</td>\n",
       "      <td>88</td>\n",
       "      <td>158444.88</td>\n",
       "    </tr>\n",
       "    <tr>\n",
       "      <th>2</th>\n",
       "      <td>Male</td>\n",
       "      <td>20</td>\n",
       "      <td>Clothing</td>\n",
       "      <td>1</td>\n",
       "      <td>300.08</td>\n",
       "      <td>Cash</td>\n",
       "      <td>2021-11-09</td>\n",
       "      <td>Metrocity</td>\n",
       "      <td>1040</td>\n",
       "      <td>312083.20</td>\n",
       "    </tr>\n",
       "    <tr>\n",
       "      <th>3</th>\n",
       "      <td>Female</td>\n",
       "      <td>66</td>\n",
       "      <td>Shoes</td>\n",
       "      <td>5</td>\n",
       "      <td>3000.85</td>\n",
       "      <td>Credit Card</td>\n",
       "      <td>2021-05-16</td>\n",
       "      <td>Metropol AVM</td>\n",
       "      <td>228</td>\n",
       "      <td>684193.80</td>\n",
       "    </tr>\n",
       "    <tr>\n",
       "      <th>4</th>\n",
       "      <td>Female</td>\n",
       "      <td>53</td>\n",
       "      <td>Books</td>\n",
       "      <td>4</td>\n",
       "      <td>60.60</td>\n",
       "      <td>Cash</td>\n",
       "      <td>2021-10-24</td>\n",
       "      <td>Kanyon</td>\n",
       "      <td>168</td>\n",
       "      <td>10180.80</td>\n",
       "    </tr>\n",
       "  </tbody>\n",
       "</table>\n",
       "</div>"
      ],
      "text/plain": [
       "   gender  age  category quantity    price payment_method invoice_date  \\\n",
       "0  Female   28  Clothing        5  1500.40    Credit Card   2022-08-05   \n",
       "1    Male   21     Shoes        3  1800.51     Debit Card   2021-12-12   \n",
       "2    Male   20  Clothing        1   300.08           Cash   2021-11-09   \n",
       "3  Female   66     Shoes        5  3000.85    Credit Card   2021-05-16   \n",
       "4  Female   53     Books        4    60.60           Cash   2021-10-24   \n",
       "\n",
       "    shopping_mall  category_quantity_mall_counts  category_quantity_mall_spent  \n",
       "0          Kanyon                           1380                    2070552.00  \n",
       "1  Forum Istanbul                             88                     158444.88  \n",
       "2       Metrocity                           1040                     312083.20  \n",
       "3    Metropol AVM                            228                     684193.80  \n",
       "4          Kanyon                            168                      10180.80  "
      ]
     },
     "execution_count": 125,
     "metadata": {},
     "output_type": "execute_result"
    }
   ],
   "source": [
    "df = encode(df, FEATURES_CAT,  FEATURES_DATE, FEATURE_ORD_LEVELS, format='%d/%m/%Y')\n",
    "df.head()"
   ]
  },
  {
   "cell_type": "code",
   "execution_count": 126,
   "id": "3653e3b1-9127-44a9-a7cf-2b44b71f9e01",
   "metadata": {},
   "outputs": [
    {
     "data": {
      "text/plain": [
       "gender                                 category\n",
       "age                                       int64\n",
       "category                               category\n",
       "quantity                               category\n",
       "price                                   float64\n",
       "payment_method                         category\n",
       "invoice_date                     datetime64[ns]\n",
       "shopping_mall                          category\n",
       "category_quantity_mall_counts             int64\n",
       "category_quantity_mall_spent            float64\n",
       "dtype: object"
      ]
     },
     "execution_count": 126,
     "metadata": {},
     "output_type": "execute_result"
    }
   ],
   "source": [
    "df.dtypes"
   ]
  },
  {
   "cell_type": "markdown",
   "id": "490c4dc1-d85c-4f45-8dcc-a27cd89c5d7f",
   "metadata": {},
   "source": [
    "### Summary"
   ]
  },
  {
   "cell_type": "code",
   "execution_count": 127,
   "id": "9c9363c0-64e2-4db9-bc1a-51b4351fa9e2",
   "metadata": {},
   "outputs": [],
   "source": [
    "def load_data(path, features_to_del, features_cat, features_date, feature_ord_levels):\n",
    "    df = read_data(path)\n",
    "    df = clean(df, features_to_del)\n",
    "    #df = impute(df)\n",
    "\n",
    "    outlier_indexes = get_outlier_indexes(df, FEATURE_OUTLIER_THRESHOLDS)\n",
    "    df = drop_outliers(df, outlier_indexes)\n",
    "    \n",
    "    df = encode(df, features_cat, features_date, feature_ord_levels, format='%d/%m/%Y')\n",
    "    return df"
   ]
  },
  {
   "cell_type": "code",
   "execution_count": 128,
   "id": "30134bd5-079e-4be5-b745-a65f026c091a",
   "metadata": {},
   "outputs": [
    {
     "data": {
      "text/html": [
       "<div>\n",
       "<style scoped>\n",
       "    .dataframe tbody tr th:only-of-type {\n",
       "        vertical-align: middle;\n",
       "    }\n",
       "\n",
       "    .dataframe tbody tr th {\n",
       "        vertical-align: top;\n",
       "    }\n",
       "\n",
       "    .dataframe thead th {\n",
       "        text-align: right;\n",
       "    }\n",
       "</style>\n",
       "<table border=\"1\" class=\"dataframe\">\n",
       "  <thead>\n",
       "    <tr style=\"text-align: right;\">\n",
       "      <th></th>\n",
       "      <th>gender</th>\n",
       "      <th>age</th>\n",
       "      <th>category</th>\n",
       "      <th>quantity</th>\n",
       "      <th>price</th>\n",
       "      <th>payment_method</th>\n",
       "      <th>invoice_date</th>\n",
       "      <th>shopping_mall</th>\n",
       "      <th>category_quantity_mall_counts</th>\n",
       "      <th>category_quantity_mall_spent</th>\n",
       "    </tr>\n",
       "  </thead>\n",
       "  <tbody>\n",
       "    <tr>\n",
       "      <th>0</th>\n",
       "      <td>Female</td>\n",
       "      <td>28</td>\n",
       "      <td>Clothing</td>\n",
       "      <td>5</td>\n",
       "      <td>1500.40</td>\n",
       "      <td>Credit Card</td>\n",
       "      <td>2022-08-05</td>\n",
       "      <td>Kanyon</td>\n",
       "      <td>1380</td>\n",
       "      <td>2070552.00</td>\n",
       "    </tr>\n",
       "    <tr>\n",
       "      <th>1</th>\n",
       "      <td>Male</td>\n",
       "      <td>21</td>\n",
       "      <td>Shoes</td>\n",
       "      <td>3</td>\n",
       "      <td>1800.51</td>\n",
       "      <td>Debit Card</td>\n",
       "      <td>2021-12-12</td>\n",
       "      <td>Forum Istanbul</td>\n",
       "      <td>88</td>\n",
       "      <td>158444.88</td>\n",
       "    </tr>\n",
       "    <tr>\n",
       "      <th>2</th>\n",
       "      <td>Male</td>\n",
       "      <td>20</td>\n",
       "      <td>Clothing</td>\n",
       "      <td>1</td>\n",
       "      <td>300.08</td>\n",
       "      <td>Cash</td>\n",
       "      <td>2021-11-09</td>\n",
       "      <td>Metrocity</td>\n",
       "      <td>1040</td>\n",
       "      <td>312083.20</td>\n",
       "    </tr>\n",
       "    <tr>\n",
       "      <th>3</th>\n",
       "      <td>Female</td>\n",
       "      <td>66</td>\n",
       "      <td>Shoes</td>\n",
       "      <td>5</td>\n",
       "      <td>3000.85</td>\n",
       "      <td>Credit Card</td>\n",
       "      <td>2021-05-16</td>\n",
       "      <td>Metropol AVM</td>\n",
       "      <td>228</td>\n",
       "      <td>684193.80</td>\n",
       "    </tr>\n",
       "    <tr>\n",
       "      <th>4</th>\n",
       "      <td>Female</td>\n",
       "      <td>53</td>\n",
       "      <td>Books</td>\n",
       "      <td>4</td>\n",
       "      <td>60.60</td>\n",
       "      <td>Cash</td>\n",
       "      <td>2021-10-24</td>\n",
       "      <td>Kanyon</td>\n",
       "      <td>168</td>\n",
       "      <td>10180.80</td>\n",
       "    </tr>\n",
       "  </tbody>\n",
       "</table>\n",
       "</div>"
      ],
      "text/plain": [
       "   gender  age  category quantity    price payment_method invoice_date  \\\n",
       "0  Female   28  Clothing        5  1500.40    Credit Card   2022-08-05   \n",
       "1    Male   21     Shoes        3  1800.51     Debit Card   2021-12-12   \n",
       "2    Male   20  Clothing        1   300.08           Cash   2021-11-09   \n",
       "3  Female   66     Shoes        5  3000.85    Credit Card   2021-05-16   \n",
       "4  Female   53     Books        4    60.60           Cash   2021-10-24   \n",
       "\n",
       "    shopping_mall  category_quantity_mall_counts  category_quantity_mall_spent  \n",
       "0          Kanyon                           1380                    2070552.00  \n",
       "1  Forum Istanbul                             88                     158444.88  \n",
       "2       Metrocity                           1040                     312083.20  \n",
       "3    Metropol AVM                            228                     684193.80  \n",
       "4          Kanyon                            168                      10180.80  "
      ]
     },
     "execution_count": 128,
     "metadata": {},
     "output_type": "execute_result"
    }
   ],
   "source": [
    "df = load_data(MARKETING_PATH, FEATURES_TO_DEL, FEATURES_CAT, FEATURES_DATE, FEATURE_ORD_LEVELS)\n",
    "df.head()"
   ]
  },
  {
   "cell_type": "code",
   "execution_count": 129,
   "id": "487b8bae-3ad4-4086-a0e3-6cdc4b50af16",
   "metadata": {},
   "outputs": [
    {
     "data": {
      "text/plain": [
       "0"
      ]
     },
     "execution_count": 129,
     "metadata": {},
     "output_type": "execute_result"
    }
   ],
   "source": [
    "df.isna().sum().sum()"
   ]
  },
  {
   "cell_type": "code",
   "execution_count": 130,
   "id": "f168ad1b-23f4-47ab-aef3-0c1f79607647",
   "metadata": {},
   "outputs": [
    {
     "data": {
      "text/plain": [
       "gender                                 category\n",
       "age                                       int64\n",
       "category                               category\n",
       "quantity                               category\n",
       "price                                   float64\n",
       "payment_method                         category\n",
       "invoice_date                     datetime64[ns]\n",
       "shopping_mall                          category\n",
       "category_quantity_mall_counts             int64\n",
       "category_quantity_mall_spent            float64\n",
       "dtype: object"
      ]
     },
     "execution_count": 130,
     "metadata": {},
     "output_type": "execute_result"
    }
   ],
   "source": [
    "df.dtypes"
   ]
  },
  {
   "cell_type": "markdown",
   "id": "6e8b75ca-7f53-45d7-bd02-5e8ceafd6d5e",
   "metadata": {},
   "source": [
    "## 2 Feature Utility Scores"
   ]
  },
  {
   "cell_type": "markdown",
   "id": "633d4ce3-5283-4c68-8158-c1bedb29ac56",
   "metadata": {},
   "source": [
    "## 2.1 MI Scores"
   ]
  },
  {
   "cell_type": "code",
   "execution_count": 131,
   "id": "aca51e7c-e45e-416d-a90d-6b9f6a992b8f",
   "metadata": {},
   "outputs": [],
   "source": [
    "def make_mi_scores(X, y, random_state=0):\n",
    "    X = X.copy()\n",
    "    for feature in X.select_dtypes(['object', 'category', 'datetime64[ns]']):\n",
    "        X[feature], _ = X[feature].factorize()\n",
    "        \n",
    "    discrete_features = [pd.api.types.is_integer_dtype(t) for t in X.dtypes]\n",
    "    mi_scores = mutual_info_regression(X, y, discrete_features=discrete_features, random_state=random_state)\n",
    "    mi_scores = pd.Series(mi_scores, name='MI Scores', index=X.columns)\n",
    "    mi_scores = mi_scores.sort_values(ascending=False)\n",
    "    return mi_scores"
   ]
  },
  {
   "cell_type": "code",
   "execution_count": 132,
   "id": "f08ac495-2464-4300-be7f-c46418a5ffde",
   "metadata": {},
   "outputs": [],
   "source": [
    "def plot_mi_scores(scores):\n",
    "    scores = scores.sort_values(ascending=True)\n",
    "    width = np.arange(len(scores))\n",
    "    ticks = list(scores.index)\n",
    "    plt.barh(width, scores)\n",
    "    plt.yticks(width, ticks)\n",
    "    plt.title('Mutual Information Scores')"
   ]
  },
  {
   "cell_type": "code",
   "execution_count": 133,
   "id": "743c65ae-be57-4ca9-87d3-d4f5fa849898",
   "metadata": {},
   "outputs": [
    {
     "data": {
      "text/plain": [
       "category_quantity_mall_counts    5.197792\n",
       "price                            3.408725\n",
       "shopping_mall                    2.111768\n",
       "category                         1.822894\n",
       "quantity                         1.603832\n",
       "gender                           0.003403\n",
       "invoice_date                     0.000683\n",
       "age                              0.000000\n",
       "payment_method                   0.000000\n",
       "Name: MI Scores, dtype: float64"
      ]
     },
     "execution_count": 133,
     "metadata": {},
     "output_type": "execute_result"
    }
   ],
   "source": [
    "X_mi = df.copy()\n",
    "y_mi = X_mi.pop(MI_SCORES_FEATURE_TO_ESTIMATE)\n",
    "\n",
    "mi_scores = make_mi_scores(X_mi, y_mi, random_state=RANDOM_STATE)\n",
    "mi_scores"
   ]
  },
  {
   "cell_type": "code",
   "execution_count": 134,
   "id": "e94efc13-836d-491f-8812-ca19d064fd4f",
   "metadata": {},
   "outputs": [
    {
     "data": {
      "image/png": "[encoded data removed]",
      "text/plain": [
       "<Figure size 800x550 with 1 Axes>"
      ]
     },
     "metadata": {},
     "output_type": "display_data"
    }
   ],
   "source": [
    "plot_mi_scores(mi_scores)"
   ]
  },
  {
   "cell_type": "markdown",
   "id": "954cb858-092a-4300-9bfd-7697b5ee5483",
   "metadata": {},
   "source": [
    "## 3 Feature Engineering"
   ]
  },
  {
   "cell_type": "markdown",
   "id": "6a8fe82e-ebf3-4644-8529-13a4fb7e0380",
   "metadata": {},
   "source": [
    "## 3.1 Create Features with Pandas"
   ]
  },
  {
   "cell_type": "code",
   "execution_count": 135,
   "id": "24fd1dd1-3bcb-45ad-8258-af3d5c7bbe58",
   "metadata": {},
   "outputs": [],
   "source": [
    "def extractions(df, feature_ord_levels):\n",
    "    def split_by_age(age):\n",
    "        if age <= 18:\n",
    "            return 'Juvenile'\n",
    "        if 19 <= age <= 44:\n",
    "            return 'Youth'\n",
    "        elif 45 <= age <= 59:\n",
    "            return 'Average'\n",
    "        elif 60 <= age:\n",
    "            return 'Elderly'\n",
    "\n",
    "    def get_season(invoice_date):\n",
    "        season = invoice_date.dt.month % 12 // 3 + 1\n",
    "        season = season.replace({1: 'Winter', 2: 'Spring', 3: 'Summer', 4: 'Fall'})\n",
    "        return season\n",
    "\n",
    "    X = pd.DataFrame()\n",
    "    X['age_group'] = df.apply(lambda row: split_by_age(row['age']), axis=1) \\\n",
    "        .astype(CategoricalDtype(feature_ord_levels['age_group'], ordered=True))\n",
    "    X['season'] = get_season(df['invoice_date']).astype('category')\n",
    "    \n",
    "    return X"
   ]
  },
  {
   "cell_type": "code",
   "execution_count": 136,
   "id": "74b9af82-d630-4715-a7ea-327360cb7f34",
   "metadata": {},
   "outputs": [],
   "source": [
    "def group_transforms(df):\n",
    "    X = pd.DataFrame() \n",
    "    X['med_category_price'] = df.groupby('category')['price'].transform('median')\n",
    "    X['med_quantity_price'] = df.groupby('quantity')['price'].transform('median')\n",
    "    return X"
   ]
  },
  {
   "cell_type": "markdown",
   "id": "4dbbf652-961c-4e25-9458-d9143c1eaa51",
   "metadata": {},
   "source": [
    "## 3.2 Create Final Dataset"
   ]
  },
  {
   "cell_type": "code",
   "execution_count": 137,
   "id": "ae2e2f8a-0a97-4c0d-a5e0-d2c688cce870",
   "metadata": {},
   "outputs": [],
   "source": [
    "def create_features(df, feature_target, mi_threshold, feature_outlier_thresholds, \n",
    "                    feature_new_ord_levels, feature_new_to_del, random_state=0):\n",
    "    X = df.copy()\n",
    "    \n",
    "    mi_scores = make_mi_scores(X.drop(columns=feature_target), X[feature_target], \n",
    "                               random_state=random_state)\n",
    "    #X = drop_uninformative(X, feature_target, mi_scores, mi_threshold)\n",
    "\n",
    "    outlier_indexes = get_outlier_indexes(X, feature_outlier_thresholds)\n",
    "    X = drop_outliers(X, outlier_indexes)\n",
    "    \n",
    "    #X = X.join(math_transforms(X, last_year))\n",
    "    #X = X.join(counts(X))\n",
    "    X = X.join(extractions(X, feature_new_ord_levels))\n",
    "    X = X.join(group_transforms(X))\n",
    "    X = X.drop(columns=feature_new_to_del)\n",
    "    \n",
    "    return X"
   ]
  },
  {
   "cell_type": "code",
   "execution_count": 138,
   "id": "2a9dd7c2-2939-41e5-88c9-087db22d49ea",
   "metadata": {},
   "outputs": [],
   "source": [
    "df_new = create_features(\n",
    "    df, \n",
    "    MI_SCORES_FEATURE_TO_ESTIMATE,\n",
    "    MI_SCORES_THRESHOLD,\n",
    "    FEATURE_OUTLIER_THRESHOLDS,\n",
    "    FEATURE_NEW_ORD_LEVELS,\n",
    "    FEATURES_NEW_TO_DEL,\n",
    "    random_state=RANDOM_STATE,\n",
    ")"
   ]
  },
  {
   "cell_type": "code",
   "execution_count": 139,
   "id": "3424e71d-ab3f-43fd-b36a-81133dfee49d",
   "metadata": {},
   "outputs": [
    {
     "name": "stdout",
     "output_type": "stream",
     "text": [
      "<class 'pandas.core.frame.DataFrame'>\n",
      "Index: 97455 entries, 0 to 99456\n",
      "Data columns (total 12 columns):\n",
      " #   Column                         Non-Null Count  Dtype   \n",
      "---  ------                         --------------  -----   \n",
      " 0   gender                         97455 non-null  category\n",
      " 1   category                       97455 non-null  category\n",
      " 2   quantity                       97455 non-null  category\n",
      " 3   price                          97455 non-null  float64 \n",
      " 4   payment_method                 97455 non-null  category\n",
      " 5   shopping_mall                  97455 non-null  category\n",
      " 6   category_quantity_mall_counts  97455 non-null  int64   \n",
      " 7   category_quantity_mall_spent   97455 non-null  float64 \n",
      " 8   age_group                      97455 non-null  category\n",
      " 9   season                         97455 non-null  category\n",
      " 10  med_category_price             97455 non-null  float64 \n",
      " 11  med_quantity_price             97455 non-null  float64 \n",
      "dtypes: category(7), float64(4), int64(1)\n",
      "memory usage: 7.1 MB\n"
     ]
    }
   ],
   "source": [
    "df_new.info()"
   ]
  },
  {
   "cell_type": "markdown",
   "id": "18db9260-fc5d-4d30-86e4-f49acfeef4f7",
   "metadata": {},
   "source": [
    "## 3.3 MI Scores for New Features"
   ]
  },
  {
   "cell_type": "code",
   "execution_count": 140,
   "id": "c0a96c7a-22ce-4b7e-a942-277aac78a48f",
   "metadata": {},
   "outputs": [
    {
     "data": {
      "text/plain": [
       "category_quantity_mall_counts    5.197824\n",
       "price                            3.414103\n",
       "shopping_mall                    2.111328\n",
       "med_category_price               1.828466\n",
       "category                         1.822925\n",
       "quantity                         1.603863\n",
       "med_quantity_price               1.603009\n",
       "age_group                        0.002444\n",
       "payment_method                   0.001756\n",
       "gender                           0.000000\n",
       "season                           0.000000\n",
       "Name: MI Scores, dtype: float64"
      ]
     },
     "execution_count": 140,
     "metadata": {},
     "output_type": "execute_result"
    }
   ],
   "source": [
    "X_new_mi = df_new.copy()\n",
    "y_new_mi = X_new_mi.pop(MI_SCORES_FEATURE_TO_ESTIMATE)\n",
    "\n",
    "new_mi_scores = make_mi_scores(X_new_mi, y_new_mi, random_state=RANDOM_STATE)\n",
    "new_mi_scores"
   ]
  },
  {
   "cell_type": "code",
   "execution_count": 141,
   "id": "0eb4b92e-c896-42e6-ae11-4f505b5c442c",
   "metadata": {},
   "outputs": [
    {
     "data": {
      "image/png": "[encoded data removed]",
      "text/plain": [
       "<Figure size 800x550 with 1 Axes>"
      ]
     },
     "metadata": {},
     "output_type": "display_data"
    }
   ],
   "source": [
    "plot_mi_scores(new_mi_scores)"
   ]
  },
  {
   "cell_type": "markdown",
   "id": "2eecd61f-07cc-4320-9cca-0a4e5dc0045d",
   "metadata": {},
   "source": [
    "## 3.4 Feature Engineering Report"
   ]
  },
  {
   "cell_type": "code",
   "execution_count": 142,
   "id": "0778f8ad-e326-42d5-ae4c-268754449464",
   "metadata": {},
   "outputs": [],
   "source": [
    "profiling_report = ProfileReport(df_new, title='Feature Engineering Profile Report')"
   ]
  },
  {
   "cell_type": "code",
   "execution_count": 143,
   "id": "82a16dd2-1a07-4c73-bd7e-f9f8abfc6d78",
   "metadata": {},
   "outputs": [
    {
     "data": {
      "application/vnd.jupyter.widget-view+json": {
       "model_id": "afb899fc0f3c4588b5f2a0e5feb0514c",
       "version_major": 2,
       "version_minor": 0
      },
      "text/plain": [
       "Summarize dataset:   0%|          | 0/5 [00:00<?, ?it/s]"
      ]
     },
     "metadata": {},
     "output_type": "display_data"
    },
    {
     "data": {
      "application/vnd.jupyter.widget-view+json": {
       "model_id": "13df50830f474faa84d8da4603b44ed8",
       "version_major": 2,
       "version_minor": 0
      },
      "text/plain": [
       "Generate report structure:   0%|          | 0/1 [00:00<?, ?it/s]"
      ]
     },
     "metadata": {},
     "output_type": "display_data"
    },
    {
     "data": {
      "application/vnd.jupyter.widget-view+json": {
       "model_id": "b403a9aabbf74bd09be39a7c0e891e54",
       "version_major": 2,
       "version_minor": 0
      },
      "text/plain": [
       "Render HTML:   0%|          | 0/1 [00:00<?, ?it/s]"
      ]
     },
     "metadata": {},
     "output_type": "display_data"
    },
    {
     "data": {
      "application/vnd.jupyter.widget-view+json": {
       "model_id": "6e4eed8cf7e94be496244d57394921dd",
       "version_major": 2,
       "version_minor": 0
      },
      "text/plain": [
       "Export report to file:   0%|          | 0/1 [00:00<?, ?it/s]"
      ]
     },
     "metadata": {},
     "output_type": "display_data"
    }
   ],
   "source": [
    "profiling_report.to_file(REPORTS_DIR.joinpath('feature_engineering_report.html'))"
   ]
  },
  {
   "cell_type": "markdown",
   "id": "428bc46f-50de-4ccb-b783-1473a718c42e",
   "metadata": {},
   "source": [
    "## 3.5 Preprocessing Pipeline"
   ]
  },
  {
   "cell_type": "code",
   "execution_count": 144,
   "id": "6838240b-3926-45c7-be25-57e3239afb4c",
   "metadata": {},
   "outputs": [],
   "source": [
    "def get_preprocessor(df, feature_ord_levels):\n",
    "    features_num = list(df.select_dtypes(('int64', 'float64')).columns)\n",
    "    features_ord = list(feature_ord_levels.keys())\n",
    "    features_cat = [feature for feature in df.select_dtypes('category').columns \\\n",
    "                    if feature not in feature_ord_levels]\n",
    "\n",
    "    assert len(features_num) + len(features_ord) + len(features_cat) == df.shape[1]\n",
    "    \n",
    "    num_transformer = Pipeline([\n",
    "        ('scaler', StandardScaler()),\n",
    "        ('transformer', QuantileTransformer()),\n",
    "    ])\n",
    "\n",
    "    cat_transformer = Pipeline([\n",
    "        ('oh_encoder', OneHotEncoder(handle_unknown='ignore')),\n",
    "    ])\n",
    "    \n",
    "    ord_transformer = Pipeline([\n",
    "        ('ord_encoder', OrdinalEncoder()),\n",
    "    ])\n",
    "\n",
    "    preprocessor = ColumnTransformer([\n",
    "        ('num', num_transformer, features_num),\n",
    "        ('ord', ord_transformer, features_ord),\n",
    "        ('cat', cat_transformer, features_cat),\n",
    "    ])\n",
    "    return preprocessor"
   ]
  },
  {
   "cell_type": "code",
   "execution_count": 145,
   "id": "17eaefe9-51bf-41bf-a053-068772884468",
   "metadata": {},
   "outputs": [],
   "source": [
    "preprocessor = get_preprocessor(df_new, FEATURE_NEW_ORD_LEVELS)"
   ]
  },
  {
   "cell_type": "code",
   "execution_count": 146,
   "id": "01fe6fc1-dfbe-47fc-bee6-11ee0a8f768f",
   "metadata": {},
   "outputs": [],
   "source": [
    "X = pd.DataFrame(preprocessor.fit_transform(df_new))\n",
    "X.columns = preprocessor.get_feature_names_out()"
   ]
  },
  {
   "cell_type": "code",
   "execution_count": 147,
   "id": "5561db5e-b267-433f-8653-4bb9d8a5bdf7",
   "metadata": {},
   "outputs": [
    {
     "name": "stdout",
     "output_type": "stream",
     "text": [
      "<class 'pandas.core.frame.DataFrame'>\n",
      "RangeIndex: 97455 entries, 0 to 97454\n",
      "Data columns (total 34 columns):\n",
      " #   Column                                Non-Null Count  Dtype  \n",
      "---  ------                                --------------  -----  \n",
      " 0   num__price                            97455 non-null  float64\n",
      " 1   num__category_quantity_mall_counts    97455 non-null  float64\n",
      " 2   num__category_quantity_mall_spent     97455 non-null  float64\n",
      " 3   num__med_category_price               97455 non-null  float64\n",
      " 4   num__med_quantity_price               97455 non-null  float64\n",
      " 5   ord__quantity                         97455 non-null  float64\n",
      " 6   ord__age_group                        97455 non-null  float64\n",
      " 7   cat__gender_Female                    97455 non-null  float64\n",
      " 8   cat__gender_Male                      97455 non-null  float64\n",
      " 9   cat__category_Books                   97455 non-null  float64\n",
      " 10  cat__category_Clothing                97455 non-null  float64\n",
      " 11  cat__category_Cosmetics               97455 non-null  float64\n",
      " 12  cat__category_Food & Beverage         97455 non-null  float64\n",
      " 13  cat__category_Shoes                   97455 non-null  float64\n",
      " 14  cat__category_Souvenir                97455 non-null  float64\n",
      " 15  cat__category_Technology              97455 non-null  float64\n",
      " 16  cat__category_Toys                    97455 non-null  float64\n",
      " 17  cat__payment_method_Cash              97455 non-null  float64\n",
      " 18  cat__payment_method_Credit Card       97455 non-null  float64\n",
      " 19  cat__payment_method_Debit Card        97455 non-null  float64\n",
      " 20  cat__shopping_mall_Cevahir AVM        97455 non-null  float64\n",
      " 21  cat__shopping_mall_Emaar Square Mall  97455 non-null  float64\n",
      " 22  cat__shopping_mall_Forum Istanbul     97455 non-null  float64\n",
      " 23  cat__shopping_mall_Istinye Park       97455 non-null  float64\n",
      " 24  cat__shopping_mall_Kanyon             97455 non-null  float64\n",
      " 25  cat__shopping_mall_Mall of Istanbul   97455 non-null  float64\n",
      " 26  cat__shopping_mall_Metrocity          97455 non-null  float64\n",
      " 27  cat__shopping_mall_Metropol AVM       97455 non-null  float64\n",
      " 28  cat__shopping_mall_Viaport Outlet     97455 non-null  float64\n",
      " 29  cat__shopping_mall_Zorlu Center       97455 non-null  float64\n",
      " 30  cat__season_Fall                      97455 non-null  float64\n",
      " 31  cat__season_Spring                    97455 non-null  float64\n",
      " 32  cat__season_Summer                    97455 non-null  float64\n",
      " 33  cat__season_Winter                    97455 non-null  float64\n",
      "dtypes: float64(34)\n",
      "memory usage: 25.3 MB\n"
     ]
    }
   ],
   "source": [
    "X.info()"
   ]
  },
  {
   "cell_type": "markdown",
   "id": "f7c887ec-cca1-4bee-958b-3424c0a84192",
   "metadata": {},
   "source": [
    "## 3.6 Dimensionality Reduction"
   ]
  },
  {
   "cell_type": "markdown",
   "id": "ba068d7a-e332-4668-9787-4d104fff83cd",
   "metadata": {},
   "source": [
    "### PCA"
   ]
  },
  {
   "cell_type": "code",
   "execution_count": 148,
   "id": "24e7a4a5-a5c3-44fa-ae5a-84432fbd94af",
   "metadata": {},
   "outputs": [],
   "source": [
    "def apply_pca(X, n_components=None, standardize=True, random_state=0):\n",
    "    if standardize:\n",
    "        X = (X - X.mean(axis=0)) / X.std(axis=0)\n",
    "\n",
    "    pca = PCA(n_components=n_components, random_state=random_state)\n",
    "    X_pca = pca.fit_transform(X)\n",
    "    \n",
    "    component_names = [f'PC{i + 1}' for i in range(X_pca.shape[1])]\n",
    "    X_pca = pd.DataFrame(X_pca, columns=component_names)\n",
    "    \n",
    "    loadings = pd.DataFrame(\n",
    "        pca.components_.T,\n",
    "        columns=component_names,\n",
    "        index=X.columns,\n",
    "    )\n",
    "    \n",
    "    return pca, X_pca, loadings"
   ]
  },
  {
   "cell_type": "code",
   "execution_count": 149,
   "id": "039f9851-5902-4f1a-8537-5aa607c4d59e",
   "metadata": {},
   "outputs": [],
   "source": [
    "def plot_variance(pca, width=8, dpi=100):\n",
    "    fig, ax = plt.subplots(1, 2)\n",
    "    n = pca.n_components_\n",
    "    grid = np.arange(1, n + 1)\n",
    "    \n",
    "    evr = pca.explained_variance_ratio_\n",
    "    ax[0].bar(grid, evr)\n",
    "    ax[0].set(\n",
    "        xlabel='Component',\n",
    "        title='% Explained Variance',\n",
    "        ylim=(0.0, 1.0),\n",
    "    )\n",
    "    \n",
    "    cv = np.cumsum(evr)\n",
    "    ax[1].plot(np.r_[0, grid], np.r_[0, cv], 'o-')\n",
    "    ax[1].set(\n",
    "        xlabel='Component',\n",
    "        title='% Cumulative Variance',\n",
    "        ylim=(0.0, 1.0),\n",
    "    )\n",
    "    \n",
    "    fig.set(figwidth=width, dpi=dpi)\n",
    "    plt.show()\n",
    "    return ax"
   ]
  },
  {
   "cell_type": "code",
   "execution_count": 150,
   "id": "817a0cc7-4ee2-4a7a-bf4a-ea868f668160",
   "metadata": {},
   "outputs": [],
   "source": [
    "pca, _, _ = apply_pca(X, standardize=False, random_state=RANDOM_STATE)"
   ]
  },
  {
   "cell_type": "code",
   "execution_count": 152,
   "id": "fb5e0347-bf8c-44ed-9f26-e09e87d5a4f7",
   "metadata": {
    "scrolled": true
   },
   "outputs": [
    {
     "data": {
      "image/png": "[encoded data removed]",
      "text/plain": [
       "<Figure size 1000x550 with 2 Axes>"
      ]
     },
     "metadata": {},
     "output_type": "display_data"
    },
    {
     "data": {
      "text/plain": [
       "array([<Axes: title={'center': '% Explained Variance'}, xlabel='Component'>,\n",
       "       <Axes: title={'center': '% Cumulative Variance'}, xlabel='Component'>],\n",
       "      dtype=object)"
      ]
     },
     "execution_count": 152,
     "metadata": {},
     "output_type": "execute_result"
    }
   ],
   "source": [
    "plot_variance(pca, width=10)"
   ]
  }
 ],
 "metadata": {
  "kernelspec": {
   "display_name": "Python 3 (ipykernel)",
   "language": "python",
   "name": "python3"
  },
  "language_info": {
   "codemirror_mode": {
    "name": "ipython",
    "version": 3
   },
   "file_extension": ".py",
   "mimetype": "text/x-python",
   "name": "python",
   "nbconvert_exporter": "python",
   "pygments_lexer": "ipython3",
   "version": "3.11.5"
  }
 },
 "nbformat": 4,
 "nbformat_minor": 5
}
