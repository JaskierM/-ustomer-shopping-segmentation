{
 "cells": [
  {
   "cell_type": "markdown",
   "id": "519495d1-6735-4e35-abd4-ea2a42643b3f",
   "metadata": {},
   "source": [
    "## 1 Preliminaries"
   ]
  },
  {
   "cell_type": "markdown",
   "id": "05727ff3-3918-471e-bc35-711263da4beb",
   "metadata": {},
   "source": [
    "## 1.1 Imports and Configurations"
   ]
  },
  {
   "cell_type": "markdown",
   "id": "9f4c9cf1-a939-4c9e-b34a-0525563e6898",
   "metadata": {},
   "source": [
    "### Imports"
   ]
  },
  {
   "cell_type": "code",
   "execution_count": 1,
   "id": "e87775a7-4c5d-4154-8565-4092ed107ea5",
   "metadata": {},
   "outputs": [],
   "source": [
    "import warnings\n",
    "import numpy as np\n",
    "import pandas as pd\n",
    "import matplotlib.pyplot as plt\n",
    "import seaborn as sns\n",
    "import sklearn\n",
    "import random\n",
    "import math\n",
    "\n",
    "from tqdm import tqdm\n",
    "from pathlib import Path\n",
    "from pandas.api.types import CategoricalDtype\n",
    "from ydata_profiling import ProfileReport\n",
    "from yellowbrick.cluster import KElbowVisualizer, SilhouetteVisualizer\n",
    "from scipy.cluster.hierarchy import linkage, dendrogram\n",
    "from sklearn.feature_selection import mutual_info_regression\n",
    "from sklearn.pipeline import Pipeline\n",
    "from sklearn.compose import ColumnTransformer\n",
    "from sklearn.impute import SimpleImputer\n",
    "from sklearn.preprocessing import StandardScaler, QuantileTransformer, OneHotEncoder, OrdinalEncoder\n",
    "from sklearn.decomposition import PCA\n",
    "from sklearn.neighbors import NearestNeighbors\n",
    "from sklearn.cluster import KMeans, AgglomerativeClustering, DBSCAN"
   ]
  },
  {
   "cell_type": "markdown",
   "id": "aba0bdfb-49d1-4636-a45a-9c348ebb05ed",
   "metadata": {},
   "source": [
    "### Constants"
   ]
  },
  {
   "cell_type": "code",
   "execution_count": 78,
   "id": "eaa92e43-fd45-4bc1-bb20-12d0bd787c5c",
   "metadata": {},
   "outputs": [],
   "source": [
    "# 1 Preliminaries\n",
    "\n",
    "RANDOM_STATE = 42\n",
    "\n",
    "MARKETING_PATH =  Path('../data/raw/customer_shopping_data.csv')\n",
    "REPORTS_DIR = Path('../reports/')\n",
    "DATA_PART = 0.2\n",
    "\n",
    "FEATURES_TO_DEL = ['invoice_no', 'customer_id']\n",
    "\n",
    "FEATURE_OUTLIER_THRESHOLDS = {\n",
    "    'price': {'upper': 4000},\n",
    "}\n",
    "\n",
    "FEATURES_CAT = ['gender', 'category', 'payment_method', 'shopping_mall']\n",
    "FEATURES_DATE = ['invoice_date']\n",
    "\n",
    "FEATURE_ORD_LEVELS = {\n",
    "    'quantity': ['1', '2', '3', '4', '5'],\n",
    "}\n",
    "\n",
    "# 2 Feature Utility Scores\n",
    "\n",
    "MI_SCORES_FEATURE_TO_ESTIMATE = 'category_quantity_mall_spent'\n",
    "MI_SCORES_THRESHOLD = 0\n",
    "\n",
    "## 3 Feature Engineering\n",
    "\n",
    "FEATURES_NEW_TO_DEL = ['invoice_date', 'age']\n",
    "\n",
    "FEATURE_NEW_ORD_LEVELS = {\n",
    "    'quantity': ['1', '2', '3', '4', '5'],\n",
    "    'age_group': ['Juvenile', 'Youth', 'Average', 'Elderly'],\n",
    "}\n",
    "\n",
    "PCA_N_COMPONENTS = 20\n",
    "\n",
    "## 4 Clustering\n",
    "\n",
    "N_CLUSTERS = 3\n",
    "\n",
    "FEATURES_NUM_INTERESTING = ['price', 'prop_counts', 'prop_spent']\n",
    "FEATURES_CAT_INTERESTING = ['gender', 'category', 'quantity', 'payment_method', 'shopping_mall', 'age_group', 'season']"
   ]
  },
  {
   "cell_type": "markdown",
   "id": "32a27c62-0089-42b2-94da-8e1adc9898b0",
   "metadata": {},
   "source": [
    "### Configs"
   ]
  },
  {
   "cell_type": "code",
   "execution_count": 3,
   "id": "f80f6ae9-f3a1-47ed-88ee-b108e68002e4",
   "metadata": {},
   "outputs": [],
   "source": [
    "warnings.filterwarnings('ignore')\n",
    "\n",
    "random.seed(RANDOM_STATE)\n",
    "np.random.seed(RANDOM_STATE)\n",
    "\n",
    "REPORTS_DIR.mkdir(exist_ok=True)"
   ]
  },
  {
   "cell_type": "markdown",
   "id": "104fa4fb-a335-4de5-ad77-9fb6a5bd5a3a",
   "metadata": {},
   "source": [
    "## 1.2 Data Preprocessing"
   ]
  },
  {
   "cell_type": "markdown",
   "id": "0c798984-adf5-48a7-9127-8a7dc56d696a",
   "metadata": {},
   "source": [
    "### Read"
   ]
  },
  {
   "cell_type": "code",
   "execution_count": 4,
   "id": "6ca4cbdb-0f69-4c0a-bc27-5ecd78f1c721",
   "metadata": {},
   "outputs": [],
   "source": [
    "def read_data(path, data_part=1.0):\n",
    "    df = pd.read_csv(path)\n",
    "    return df.sample(int(len(df) * data_part)).reset_index(drop=True)"
   ]
  },
  {
   "cell_type": "code",
   "execution_count": 5,
   "id": "1a4ce77a-ac30-4b08-9073-970f20835709",
   "metadata": {},
   "outputs": [
    {
     "data": {
      "text/html": [
       "<div>\n",
       "<style scoped>\n",
       "    .dataframe tbody tr th:only-of-type {\n",
       "        vertical-align: middle;\n",
       "    }\n",
       "\n",
       "    .dataframe tbody tr th {\n",
       "        vertical-align: top;\n",
       "    }\n",
       "\n",
       "    .dataframe thead th {\n",
       "        text-align: right;\n",
       "    }\n",
       "</style>\n",
       "<table border=\"1\" class=\"dataframe\">\n",
       "  <thead>\n",
       "    <tr style=\"text-align: right;\">\n",
       "      <th></th>\n",
       "      <th>invoice_no</th>\n",
       "      <th>customer_id</th>\n",
       "      <th>gender</th>\n",
       "      <th>age</th>\n",
       "      <th>category</th>\n",
       "      <th>quantity</th>\n",
       "      <th>price</th>\n",
       "      <th>payment_method</th>\n",
       "      <th>invoice_date</th>\n",
       "      <th>shopping_mall</th>\n",
       "    </tr>\n",
       "  </thead>\n",
       "  <tbody>\n",
       "    <tr>\n",
       "      <th>0</th>\n",
       "      <td>I704758</td>\n",
       "      <td>C971218</td>\n",
       "      <td>Female</td>\n",
       "      <td>56</td>\n",
       "      <td>Food &amp; Beverage</td>\n",
       "      <td>4</td>\n",
       "      <td>20.92</td>\n",
       "      <td>Cash</td>\n",
       "      <td>14/05/2021</td>\n",
       "      <td>Kanyon</td>\n",
       "    </tr>\n",
       "    <tr>\n",
       "      <th>1</th>\n",
       "      <td>I218404</td>\n",
       "      <td>C949846</td>\n",
       "      <td>Male</td>\n",
       "      <td>22</td>\n",
       "      <td>Food &amp; Beverage</td>\n",
       "      <td>5</td>\n",
       "      <td>26.15</td>\n",
       "      <td>Cash</td>\n",
       "      <td>9/9/2022</td>\n",
       "      <td>Metrocity</td>\n",
       "    </tr>\n",
       "    <tr>\n",
       "      <th>2</th>\n",
       "      <td>I195516</td>\n",
       "      <td>C440398</td>\n",
       "      <td>Female</td>\n",
       "      <td>53</td>\n",
       "      <td>Food &amp; Beverage</td>\n",
       "      <td>4</td>\n",
       "      <td>20.92</td>\n",
       "      <td>Debit Card</td>\n",
       "      <td>1/4/2021</td>\n",
       "      <td>Kanyon</td>\n",
       "    </tr>\n",
       "    <tr>\n",
       "      <th>3</th>\n",
       "      <td>I833735</td>\n",
       "      <td>C113971</td>\n",
       "      <td>Female</td>\n",
       "      <td>65</td>\n",
       "      <td>Food &amp; Beverage</td>\n",
       "      <td>5</td>\n",
       "      <td>26.15</td>\n",
       "      <td>Credit Card</td>\n",
       "      <td>3/8/2022</td>\n",
       "      <td>Cevahir AVM</td>\n",
       "    </tr>\n",
       "    <tr>\n",
       "      <th>4</th>\n",
       "      <td>I144592</td>\n",
       "      <td>C529879</td>\n",
       "      <td>Female</td>\n",
       "      <td>51</td>\n",
       "      <td>Shoes</td>\n",
       "      <td>4</td>\n",
       "      <td>2400.68</td>\n",
       "      <td>Credit Card</td>\n",
       "      <td>15/04/2021</td>\n",
       "      <td>Metropol AVM</td>\n",
       "    </tr>\n",
       "  </tbody>\n",
       "</table>\n",
       "</div>"
      ],
      "text/plain": [
       "  invoice_no customer_id  gender  age         category  quantity    price  \\\n",
       "0    I704758     C971218  Female   56  Food & Beverage         4    20.92   \n",
       "1    I218404     C949846    Male   22  Food & Beverage         5    26.15   \n",
       "2    I195516     C440398  Female   53  Food & Beverage         4    20.92   \n",
       "3    I833735     C113971  Female   65  Food & Beverage         5    26.15   \n",
       "4    I144592     C529879  Female   51            Shoes         4  2400.68   \n",
       "\n",
       "  payment_method invoice_date shopping_mall  \n",
       "0           Cash   14/05/2021        Kanyon  \n",
       "1           Cash     9/9/2022     Metrocity  \n",
       "2     Debit Card     1/4/2021        Kanyon  \n",
       "3    Credit Card     3/8/2022   Cevahir AVM  \n",
       "4    Credit Card   15/04/2021  Metropol AVM  "
      ]
     },
     "execution_count": 5,
     "metadata": {},
     "output_type": "execute_result"
    }
   ],
   "source": [
    "df = read_data(MARKETING_PATH, DATA_PART)\n",
    "df.head()"
   ]
  },
  {
   "cell_type": "markdown",
   "id": "c6f92338-a391-4b3f-a89c-4c01daca2c75",
   "metadata": {},
   "source": [
    "### Clean"
   ]
  },
  {
   "cell_type": "code",
   "execution_count": 6,
   "id": "7527961e-a85d-4c5f-850a-542bffd811dc",
   "metadata": {},
   "outputs": [],
   "source": [
    "def clean(df, features_to_del):\n",
    "    df = df.drop(columns=features_to_del)\n",
    "    df['category_quantity_mall_counts'] = df.groupby(['category', 'quantity', 'shopping_mall'])['price'].transform('count')\n",
    "    df['category_quantity_mall_spent'] = df.groupby(['category', 'quantity', 'shopping_mall'])['price'].transform('sum')\n",
    "    return df"
   ]
  },
  {
   "cell_type": "code",
   "execution_count": 7,
   "id": "b9ded247-8ed1-4d41-b82f-2fd4d93f9264",
   "metadata": {},
   "outputs": [
    {
     "data": {
      "text/html": [
       "<div>\n",
       "<style scoped>\n",
       "    .dataframe tbody tr th:only-of-type {\n",
       "        vertical-align: middle;\n",
       "    }\n",
       "\n",
       "    .dataframe tbody tr th {\n",
       "        vertical-align: top;\n",
       "    }\n",
       "\n",
       "    .dataframe thead th {\n",
       "        text-align: right;\n",
       "    }\n",
       "</style>\n",
       "<table border=\"1\" class=\"dataframe\">\n",
       "  <thead>\n",
       "    <tr style=\"text-align: right;\">\n",
       "      <th></th>\n",
       "      <th>gender</th>\n",
       "      <th>age</th>\n",
       "      <th>category</th>\n",
       "      <th>quantity</th>\n",
       "      <th>price</th>\n",
       "      <th>payment_method</th>\n",
       "      <th>invoice_date</th>\n",
       "      <th>shopping_mall</th>\n",
       "      <th>category_quantity_mall_counts</th>\n",
       "      <th>category_quantity_mall_spent</th>\n",
       "    </tr>\n",
       "  </thead>\n",
       "  <tbody>\n",
       "    <tr>\n",
       "      <th>0</th>\n",
       "      <td>Female</td>\n",
       "      <td>56</td>\n",
       "      <td>Food &amp; Beverage</td>\n",
       "      <td>4</td>\n",
       "      <td>20.92</td>\n",
       "      <td>Cash</td>\n",
       "      <td>14/05/2021</td>\n",
       "      <td>Kanyon</td>\n",
       "      <td>113</td>\n",
       "      <td>2363.96</td>\n",
       "    </tr>\n",
       "    <tr>\n",
       "      <th>1</th>\n",
       "      <td>Male</td>\n",
       "      <td>22</td>\n",
       "      <td>Food &amp; Beverage</td>\n",
       "      <td>5</td>\n",
       "      <td>26.15</td>\n",
       "      <td>Cash</td>\n",
       "      <td>9/9/2022</td>\n",
       "      <td>Metrocity</td>\n",
       "      <td>93</td>\n",
       "      <td>2431.95</td>\n",
       "    </tr>\n",
       "    <tr>\n",
       "      <th>2</th>\n",
       "      <td>Female</td>\n",
       "      <td>53</td>\n",
       "      <td>Food &amp; Beverage</td>\n",
       "      <td>4</td>\n",
       "      <td>20.92</td>\n",
       "      <td>Debit Card</td>\n",
       "      <td>1/4/2021</td>\n",
       "      <td>Kanyon</td>\n",
       "      <td>113</td>\n",
       "      <td>2363.96</td>\n",
       "    </tr>\n",
       "    <tr>\n",
       "      <th>3</th>\n",
       "      <td>Female</td>\n",
       "      <td>65</td>\n",
       "      <td>Food &amp; Beverage</td>\n",
       "      <td>5</td>\n",
       "      <td>26.15</td>\n",
       "      <td>Credit Card</td>\n",
       "      <td>3/8/2022</td>\n",
       "      <td>Cevahir AVM</td>\n",
       "      <td>30</td>\n",
       "      <td>784.50</td>\n",
       "    </tr>\n",
       "    <tr>\n",
       "      <th>4</th>\n",
       "      <td>Female</td>\n",
       "      <td>51</td>\n",
       "      <td>Shoes</td>\n",
       "      <td>4</td>\n",
       "      <td>2400.68</td>\n",
       "      <td>Credit Card</td>\n",
       "      <td>15/04/2021</td>\n",
       "      <td>Metropol AVM</td>\n",
       "      <td>28</td>\n",
       "      <td>67219.04</td>\n",
       "    </tr>\n",
       "  </tbody>\n",
       "</table>\n",
       "</div>"
      ],
      "text/plain": [
       "   gender  age         category  quantity    price payment_method  \\\n",
       "0  Female   56  Food & Beverage         4    20.92           Cash   \n",
       "1    Male   22  Food & Beverage         5    26.15           Cash   \n",
       "2  Female   53  Food & Beverage         4    20.92     Debit Card   \n",
       "3  Female   65  Food & Beverage         5    26.15    Credit Card   \n",
       "4  Female   51            Shoes         4  2400.68    Credit Card   \n",
       "\n",
       "  invoice_date shopping_mall  category_quantity_mall_counts  \\\n",
       "0   14/05/2021        Kanyon                            113   \n",
       "1     9/9/2022     Metrocity                             93   \n",
       "2     1/4/2021        Kanyon                            113   \n",
       "3     3/8/2022   Cevahir AVM                             30   \n",
       "4   15/04/2021  Metropol AVM                             28   \n",
       "\n",
       "   category_quantity_mall_spent  \n",
       "0                       2363.96  \n",
       "1                       2431.95  \n",
       "2                       2363.96  \n",
       "3                        784.50  \n",
       "4                      67219.04  "
      ]
     },
     "execution_count": 7,
     "metadata": {},
     "output_type": "execute_result"
    }
   ],
   "source": [
    "df = clean(df, FEATURES_TO_DEL) \n",
    "df.head()"
   ]
  },
  {
   "cell_type": "markdown",
   "id": "41a4f101-a861-4c28-b7f7-6eb39ba707e6",
   "metadata": {},
   "source": [
    "### Missing Values"
   ]
  },
  {
   "cell_type": "code",
   "execution_count": 8,
   "id": "e133392c-8bc3-48b2-bba8-5126a214ad34",
   "metadata": {},
   "outputs": [
    {
     "data": {
      "text/plain": [
       "0"
      ]
     },
     "execution_count": 8,
     "metadata": {},
     "output_type": "execute_result"
    }
   ],
   "source": [
    "df.isna().sum().sum()"
   ]
  },
  {
   "cell_type": "markdown",
   "id": "a41993de-d793-4605-adb9-ba4178ff8d6f",
   "metadata": {},
   "source": [
    "### Outliers"
   ]
  },
  {
   "cell_type": "code",
   "execution_count": 9,
   "id": "2357d96f-86af-4355-ae23-f99b487797c0",
   "metadata": {},
   "outputs": [],
   "source": [
    "def get_outlier_indexes(df, feature_outlier_thresholds):\n",
    "    outlier_indexes = set()\n",
    "    \n",
    "    for feature, thresholds in feature_outlier_thresholds.items():\n",
    "        if 'upper' in thresholds.keys():\n",
    "            outlier_indexes = outlier_indexes.union(set(df[df[feature] > thresholds['upper']].index))\n",
    "        elif 'lower' in thresholds.keys():\n",
    "            outlier_indexes = outlier_indexes.union(set(df[df[feature] < thresholds['lower']].index))\n",
    "\n",
    "    return list(outlier_indexes)"
   ]
  },
  {
   "cell_type": "code",
   "execution_count": 10,
   "id": "228b95f7-af7a-4df6-9d5f-625445eb0166",
   "metadata": {},
   "outputs": [],
   "source": [
    "def drop_outliers(df, outlier_indexes):\n",
    "    return df.drop(index=outlier_indexes)"
   ]
  },
  {
   "cell_type": "code",
   "execution_count": 11,
   "id": "0445a264-524d-4256-9c2d-f1e314de0970",
   "metadata": {},
   "outputs": [
    {
     "data": {
      "text/plain": [
       "413"
      ]
     },
     "execution_count": 11,
     "metadata": {},
     "output_type": "execute_result"
    }
   ],
   "source": [
    "outlier_indexes = get_outlier_indexes(df, FEATURE_OUTLIER_THRESHOLDS)\n",
    "len(outlier_indexes)"
   ]
  },
  {
   "cell_type": "code",
   "execution_count": 12,
   "id": "8b903f76-f76b-4c5e-8cc8-42c502b109ff",
   "metadata": {},
   "outputs": [
    {
     "data": {
      "text/plain": [
       "(19478, 10)"
      ]
     },
     "execution_count": 12,
     "metadata": {},
     "output_type": "execute_result"
    }
   ],
   "source": [
    "df_without_outliers = drop_outliers(df, outlier_indexes)\n",
    "df_without_outliers.shape"
   ]
  },
  {
   "cell_type": "markdown",
   "id": "3e5f1e11-eb31-4f14-a397-1cddb8bbaece",
   "metadata": {},
   "source": [
    "### Encode"
   ]
  },
  {
   "cell_type": "code",
   "execution_count": 13,
   "id": "44b6df64-cdf3-4217-82c0-7412239fc3f0",
   "metadata": {},
   "outputs": [],
   "source": [
    "def encode(df, features_cat, features_date, feature_ord_levels, format='%d-%m-%Y'):\n",
    "    \n",
    "    def encode_cat(df, features_cat):\n",
    "        for feature in features_cat:\n",
    "            df[feature] = df[feature].astype('category')\n",
    "        return df\n",
    "\n",
    "    def encode_date(df, features_date):\n",
    "        for feature in features_date:\n",
    "            df[feature] = pd.to_datetime(df[feature], format=format)\n",
    "        return df\n",
    "\n",
    "    def encode_ord(df, feature_ord_levels):\n",
    "        for feature, levels in feature_ord_levels.items():\n",
    "            df[feature] = df[feature].astype('str').astype(CategoricalDtype(levels, ordered=True))\n",
    "        return df\n",
    "    \n",
    "    df = encode_cat(df, features_cat)\n",
    "    df = encode_date(df, features_date)\n",
    "    df = encode_ord(df, feature_ord_levels)\n",
    "    return df"
   ]
  },
  {
   "cell_type": "code",
   "execution_count": 14,
   "id": "f1f95f05-8b8c-4d82-a067-8dd2d73ab569",
   "metadata": {},
   "outputs": [
    {
     "data": {
      "text/html": [
       "<div>\n",
       "<style scoped>\n",
       "    .dataframe tbody tr th:only-of-type {\n",
       "        vertical-align: middle;\n",
       "    }\n",
       "\n",
       "    .dataframe tbody tr th {\n",
       "        vertical-align: top;\n",
       "    }\n",
       "\n",
       "    .dataframe thead th {\n",
       "        text-align: right;\n",
       "    }\n",
       "</style>\n",
       "<table border=\"1\" class=\"dataframe\">\n",
       "  <thead>\n",
       "    <tr style=\"text-align: right;\">\n",
       "      <th></th>\n",
       "      <th>gender</th>\n",
       "      <th>age</th>\n",
       "      <th>category</th>\n",
       "      <th>quantity</th>\n",
       "      <th>price</th>\n",
       "      <th>payment_method</th>\n",
       "      <th>invoice_date</th>\n",
       "      <th>shopping_mall</th>\n",
       "      <th>category_quantity_mall_counts</th>\n",
       "      <th>category_quantity_mall_spent</th>\n",
       "    </tr>\n",
       "  </thead>\n",
       "  <tbody>\n",
       "    <tr>\n",
       "      <th>0</th>\n",
       "      <td>Female</td>\n",
       "      <td>56</td>\n",
       "      <td>Food &amp; Beverage</td>\n",
       "      <td>4</td>\n",
       "      <td>20.92</td>\n",
       "      <td>Cash</td>\n",
       "      <td>2021-05-14</td>\n",
       "      <td>Kanyon</td>\n",
       "      <td>113</td>\n",
       "      <td>2363.96</td>\n",
       "    </tr>\n",
       "    <tr>\n",
       "      <th>1</th>\n",
       "      <td>Male</td>\n",
       "      <td>22</td>\n",
       "      <td>Food &amp; Beverage</td>\n",
       "      <td>5</td>\n",
       "      <td>26.15</td>\n",
       "      <td>Cash</td>\n",
       "      <td>2022-09-09</td>\n",
       "      <td>Metrocity</td>\n",
       "      <td>93</td>\n",
       "      <td>2431.95</td>\n",
       "    </tr>\n",
       "    <tr>\n",
       "      <th>2</th>\n",
       "      <td>Female</td>\n",
       "      <td>53</td>\n",
       "      <td>Food &amp; Beverage</td>\n",
       "      <td>4</td>\n",
       "      <td>20.92</td>\n",
       "      <td>Debit Card</td>\n",
       "      <td>2021-04-01</td>\n",
       "      <td>Kanyon</td>\n",
       "      <td>113</td>\n",
       "      <td>2363.96</td>\n",
       "    </tr>\n",
       "    <tr>\n",
       "      <th>3</th>\n",
       "      <td>Female</td>\n",
       "      <td>65</td>\n",
       "      <td>Food &amp; Beverage</td>\n",
       "      <td>5</td>\n",
       "      <td>26.15</td>\n",
       "      <td>Credit Card</td>\n",
       "      <td>2022-08-03</td>\n",
       "      <td>Cevahir AVM</td>\n",
       "      <td>30</td>\n",
       "      <td>784.50</td>\n",
       "    </tr>\n",
       "    <tr>\n",
       "      <th>4</th>\n",
       "      <td>Female</td>\n",
       "      <td>51</td>\n",
       "      <td>Shoes</td>\n",
       "      <td>4</td>\n",
       "      <td>2400.68</td>\n",
       "      <td>Credit Card</td>\n",
       "      <td>2021-04-15</td>\n",
       "      <td>Metropol AVM</td>\n",
       "      <td>28</td>\n",
       "      <td>67219.04</td>\n",
       "    </tr>\n",
       "  </tbody>\n",
       "</table>\n",
       "</div>"
      ],
      "text/plain": [
       "   gender  age         category quantity    price payment_method invoice_date  \\\n",
       "0  Female   56  Food & Beverage        4    20.92           Cash   2021-05-14   \n",
       "1    Male   22  Food & Beverage        5    26.15           Cash   2022-09-09   \n",
       "2  Female   53  Food & Beverage        4    20.92     Debit Card   2021-04-01   \n",
       "3  Female   65  Food & Beverage        5    26.15    Credit Card   2022-08-03   \n",
       "4  Female   51            Shoes        4  2400.68    Credit Card   2021-04-15   \n",
       "\n",
       "  shopping_mall  category_quantity_mall_counts  category_quantity_mall_spent  \n",
       "0        Kanyon                            113                       2363.96  \n",
       "1     Metrocity                             93                       2431.95  \n",
       "2        Kanyon                            113                       2363.96  \n",
       "3   Cevahir AVM                             30                        784.50  \n",
       "4  Metropol AVM                             28                      67219.04  "
      ]
     },
     "execution_count": 14,
     "metadata": {},
     "output_type": "execute_result"
    }
   ],
   "source": [
    "df = encode(df, FEATURES_CAT,  FEATURES_DATE, FEATURE_ORD_LEVELS, format='%d/%m/%Y')\n",
    "df.head()"
   ]
  },
  {
   "cell_type": "code",
   "execution_count": 15,
   "id": "3653e3b1-9127-44a9-a7cf-2b44b71f9e01",
   "metadata": {},
   "outputs": [
    {
     "data": {
      "text/plain": [
       "gender                                 category\n",
       "age                                       int64\n",
       "category                               category\n",
       "quantity                               category\n",
       "price                                   float64\n",
       "payment_method                         category\n",
       "invoice_date                     datetime64[ns]\n",
       "shopping_mall                          category\n",
       "category_quantity_mall_counts             int64\n",
       "category_quantity_mall_spent            float64\n",
       "dtype: object"
      ]
     },
     "execution_count": 15,
     "metadata": {},
     "output_type": "execute_result"
    }
   ],
   "source": [
    "df.dtypes"
   ]
  },
  {
   "cell_type": "markdown",
   "id": "490c4dc1-d85c-4f45-8dcc-a27cd89c5d7f",
   "metadata": {},
   "source": [
    "### Summary"
   ]
  },
  {
   "cell_type": "code",
   "execution_count": 16,
   "id": "9c9363c0-64e2-4db9-bc1a-51b4351fa9e2",
   "metadata": {},
   "outputs": [],
   "source": [
    "def load_data(path, data_part, features_to_del, features_cat, features_date, feature_ord_levels):\n",
    "    df = read_data(path, data_part)\n",
    "    df = clean(df, features_to_del)\n",
    "    #df = impute(df)\n",
    "\n",
    "    outlier_indexes = get_outlier_indexes(df, FEATURE_OUTLIER_THRESHOLDS)\n",
    "    df = drop_outliers(df, outlier_indexes)\n",
    "    \n",
    "    df = encode(df, features_cat, features_date, feature_ord_levels, format='%d/%m/%Y')\n",
    "    return df"
   ]
  },
  {
   "cell_type": "code",
   "execution_count": 17,
   "id": "30134bd5-079e-4be5-b745-a65f026c091a",
   "metadata": {},
   "outputs": [
    {
     "data": {
      "text/html": [
       "<div>\n",
       "<style scoped>\n",
       "    .dataframe tbody tr th:only-of-type {\n",
       "        vertical-align: middle;\n",
       "    }\n",
       "\n",
       "    .dataframe tbody tr th {\n",
       "        vertical-align: top;\n",
       "    }\n",
       "\n",
       "    .dataframe thead th {\n",
       "        text-align: right;\n",
       "    }\n",
       "</style>\n",
       "<table border=\"1\" class=\"dataframe\">\n",
       "  <thead>\n",
       "    <tr style=\"text-align: right;\">\n",
       "      <th></th>\n",
       "      <th>gender</th>\n",
       "      <th>age</th>\n",
       "      <th>category</th>\n",
       "      <th>quantity</th>\n",
       "      <th>price</th>\n",
       "      <th>payment_method</th>\n",
       "      <th>invoice_date</th>\n",
       "      <th>shopping_mall</th>\n",
       "      <th>category_quantity_mall_counts</th>\n",
       "      <th>category_quantity_mall_spent</th>\n",
       "    </tr>\n",
       "  </thead>\n",
       "  <tbody>\n",
       "    <tr>\n",
       "      <th>0</th>\n",
       "      <td>Female</td>\n",
       "      <td>56</td>\n",
       "      <td>Shoes</td>\n",
       "      <td>5</td>\n",
       "      <td>3000.85</td>\n",
       "      <td>Credit Card</td>\n",
       "      <td>2022-03-01</td>\n",
       "      <td>Metrocity</td>\n",
       "      <td>57</td>\n",
       "      <td>171048.45</td>\n",
       "    </tr>\n",
       "    <tr>\n",
       "      <th>1</th>\n",
       "      <td>Male</td>\n",
       "      <td>57</td>\n",
       "      <td>Clothing</td>\n",
       "      <td>4</td>\n",
       "      <td>1200.32</td>\n",
       "      <td>Cash</td>\n",
       "      <td>2022-03-01</td>\n",
       "      <td>Zorlu Center</td>\n",
       "      <td>79</td>\n",
       "      <td>94825.28</td>\n",
       "    </tr>\n",
       "    <tr>\n",
       "      <th>2</th>\n",
       "      <td>Male</td>\n",
       "      <td>47</td>\n",
       "      <td>Souvenir</td>\n",
       "      <td>3</td>\n",
       "      <td>35.19</td>\n",
       "      <td>Credit Card</td>\n",
       "      <td>2022-09-23</td>\n",
       "      <td>Istinye Park</td>\n",
       "      <td>19</td>\n",
       "      <td>668.61</td>\n",
       "    </tr>\n",
       "    <tr>\n",
       "      <th>3</th>\n",
       "      <td>Male</td>\n",
       "      <td>56</td>\n",
       "      <td>Food &amp; Beverage</td>\n",
       "      <td>4</td>\n",
       "      <td>20.92</td>\n",
       "      <td>Credit Card</td>\n",
       "      <td>2021-10-19</td>\n",
       "      <td>Zorlu Center</td>\n",
       "      <td>32</td>\n",
       "      <td>669.44</td>\n",
       "    </tr>\n",
       "    <tr>\n",
       "      <th>4</th>\n",
       "      <td>Male</td>\n",
       "      <td>29</td>\n",
       "      <td>Cosmetics</td>\n",
       "      <td>3</td>\n",
       "      <td>121.98</td>\n",
       "      <td>Cash</td>\n",
       "      <td>2021-07-25</td>\n",
       "      <td>Forum Istanbul</td>\n",
       "      <td>22</td>\n",
       "      <td>2683.56</td>\n",
       "    </tr>\n",
       "  </tbody>\n",
       "</table>\n",
       "</div>"
      ],
      "text/plain": [
       "   gender  age         category quantity    price payment_method invoice_date  \\\n",
       "0  Female   56            Shoes        5  3000.85    Credit Card   2022-03-01   \n",
       "1    Male   57         Clothing        4  1200.32           Cash   2022-03-01   \n",
       "2    Male   47         Souvenir        3    35.19    Credit Card   2022-09-23   \n",
       "3    Male   56  Food & Beverage        4    20.92    Credit Card   2021-10-19   \n",
       "4    Male   29        Cosmetics        3   121.98           Cash   2021-07-25   \n",
       "\n",
       "    shopping_mall  category_quantity_mall_counts  category_quantity_mall_spent  \n",
       "0       Metrocity                             57                     171048.45  \n",
       "1    Zorlu Center                             79                      94825.28  \n",
       "2    Istinye Park                             19                        668.61  \n",
       "3    Zorlu Center                             32                        669.44  \n",
       "4  Forum Istanbul                             22                       2683.56  "
      ]
     },
     "execution_count": 17,
     "metadata": {},
     "output_type": "execute_result"
    }
   ],
   "source": [
    "df = load_data(MARKETING_PATH, DATA_PART, FEATURES_TO_DEL, FEATURES_CAT, FEATURES_DATE, FEATURE_ORD_LEVELS)\n",
    "df.head()"
   ]
  },
  {
   "cell_type": "code",
   "execution_count": 18,
   "id": "487b8bae-3ad4-4086-a0e3-6cdc4b50af16",
   "metadata": {},
   "outputs": [
    {
     "data": {
      "text/plain": [
       "0"
      ]
     },
     "execution_count": 18,
     "metadata": {},
     "output_type": "execute_result"
    }
   ],
   "source": [
    "df.isna().sum().sum()"
   ]
  },
  {
   "cell_type": "code",
   "execution_count": 19,
   "id": "f168ad1b-23f4-47ab-aef3-0c1f79607647",
   "metadata": {},
   "outputs": [
    {
     "data": {
      "text/plain": [
       "gender                                 category\n",
       "age                                       int64\n",
       "category                               category\n",
       "quantity                               category\n",
       "price                                   float64\n",
       "payment_method                         category\n",
       "invoice_date                     datetime64[ns]\n",
       "shopping_mall                          category\n",
       "category_quantity_mall_counts             int64\n",
       "category_quantity_mall_spent            float64\n",
       "dtype: object"
      ]
     },
     "execution_count": 19,
     "metadata": {},
     "output_type": "execute_result"
    }
   ],
   "source": [
    "df.dtypes"
   ]
  },
  {
   "cell_type": "markdown",
   "id": "6e8b75ca-7f53-45d7-bd02-5e8ceafd6d5e",
   "metadata": {},
   "source": [
    "## 2 Feature Utility Scores"
   ]
  },
  {
   "cell_type": "markdown",
   "id": "633d4ce3-5283-4c68-8158-c1bedb29ac56",
   "metadata": {},
   "source": [
    "## 2.1 MI Scores"
   ]
  },
  {
   "cell_type": "code",
   "execution_count": 22,
   "id": "aca51e7c-e45e-416d-a90d-6b9f6a992b8f",
   "metadata": {},
   "outputs": [],
   "source": [
    "def make_mi_scores(X, y, random_state=0):\n",
    "    X = X.copy()\n",
    "    for feature in X.select_dtypes(['object', 'category', 'datetime64[ns]']):\n",
    "        X[feature], _ = X[feature].factorize()\n",
    "        \n",
    "    discrete_features = [pd.api.types.is_integer_dtype(t) for t in X.dtypes]\n",
    "    mi_scores = mutual_info_regression(X, y, discrete_features=discrete_features, random_state=random_state)\n",
    "    mi_scores = pd.Series(mi_scores, name='MI Scores', index=X.columns)\n",
    "    mi_scores = mi_scores.sort_values(ascending=False)\n",
    "    return mi_scores"
   ]
  },
  {
   "cell_type": "code",
   "execution_count": 23,
   "id": "f08ac495-2464-4300-be7f-c46418a5ffde",
   "metadata": {},
   "outputs": [],
   "source": [
    "def plot_mi_scores(scores):\n",
    "    scores = scores.sort_values(ascending=True)\n",
    "    width = np.arange(len(scores))\n",
    "    ticks = list(scores.index)\n",
    "    plt.barh(width, scores)\n",
    "    plt.yticks(width, ticks)\n",
    "    plt.title('Mutual Information Scores')"
   ]
  },
  {
   "cell_type": "code",
   "execution_count": 24,
   "id": "743c65ae-be57-4ca9-87d3-d4f5fa849898",
   "metadata": {},
   "outputs": [
    {
     "data": {
      "text/plain": [
       "category_quantity_mall_counts    4.552317\n",
       "price                            3.345940\n",
       "shopping_mall                    1.998951\n",
       "category                         1.819602\n",
       "quantity                         1.536964\n",
       "gender                           0.006361\n",
       "age                              0.001044\n",
       "payment_method                   0.000000\n",
       "invoice_date                     0.000000\n",
       "Name: MI Scores, dtype: float64"
      ]
     },
     "execution_count": 24,
     "metadata": {},
     "output_type": "execute_result"
    }
   ],
   "source": [
    "X_mi = df.copy()\n",
    "y_mi = X_mi.pop(MI_SCORES_FEATURE_TO_ESTIMATE)\n",
    "\n",
    "mi_scores = make_mi_scores(X_mi, y_mi, random_state=RANDOM_STATE)\n",
    "mi_scores"
   ]
  },
  {
   "cell_type": "code",
   "execution_count": 25,
   "id": "e94efc13-836d-491f-8812-ca19d064fd4f",
   "metadata": {},
   "outputs": [
    {
     "data": {
      "image/png": "[encoded data removed]",
      "text/plain": [
       "<Figure size 800x550 with 1 Axes>"
      ]
     },
     "metadata": {},
     "output_type": "display_data"
    }
   ],
   "source": [
    "plot_mi_scores(mi_scores)"
   ]
  },
  {
   "cell_type": "markdown",
   "id": "954cb858-092a-4300-9bfd-7697b5ee5483",
   "metadata": {},
   "source": [
    "## 3 Feature Engineering"
   ]
  },
  {
   "cell_type": "markdown",
   "id": "6a8fe82e-ebf3-4644-8529-13a4fb7e0380",
   "metadata": {},
   "source": [
    "## 3.1 Create Features with Pandas"
   ]
  },
  {
   "cell_type": "code",
   "execution_count": 26,
   "id": "24fd1dd1-3bcb-45ad-8258-af3d5c7bbe58",
   "metadata": {},
   "outputs": [],
   "source": [
    "def extractions(df, feature_ord_levels):\n",
    "    def split_by_age(age):\n",
    "        if age <= 18:\n",
    "            return 'Juvenile'\n",
    "        if 19 <= age <= 44:\n",
    "            return 'Youth'\n",
    "        elif 45 <= age <= 59:\n",
    "            return 'Average'\n",
    "        elif 60 <= age:\n",
    "            return 'Elderly'\n",
    "\n",
    "    def get_season(invoice_date):\n",
    "        season = invoice_date.dt.month % 12 // 3 + 1\n",
    "        season = season.replace({1: 'Winter', 2: 'Spring', 3: 'Summer', 4: 'Fall'})\n",
    "        return season\n",
    "\n",
    "    X = pd.DataFrame()\n",
    "    X['age_group'] = df.apply(lambda row: split_by_age(row['age']), axis=1) \\\n",
    "        .astype(CategoricalDtype(feature_ord_levels['age_group'], ordered=True))\n",
    "    X['season'] = get_season(df['invoice_date']).astype('category')\n",
    "    \n",
    "    return X"
   ]
  },
  {
   "cell_type": "markdown",
   "id": "4dbbf652-961c-4e25-9458-d9143c1eaa51",
   "metadata": {},
   "source": [
    "## 3.2 Create Final Dataset"
   ]
  },
  {
   "cell_type": "code",
   "execution_count": 27,
   "id": "ae2e2f8a-0a97-4c0d-a5e0-d2c688cce870",
   "metadata": {},
   "outputs": [],
   "source": [
    "def create_features(df, feature_target, mi_threshold, feature_outlier_thresholds, \n",
    "                    feature_new_ord_levels, feature_new_to_del, random_state=0):\n",
    "    X = df.copy()\n",
    "    \n",
    "    mi_scores = make_mi_scores(X.drop(columns=feature_target), X[feature_target], \n",
    "                               random_state=random_state)\n",
    "    #X = drop_uninformative(X, feature_target, mi_scores, mi_threshold)\n",
    "\n",
    "    outlier_indexes = get_outlier_indexes(X, feature_outlier_thresholds)\n",
    "    X = drop_outliers(X, outlier_indexes)\n",
    "    \n",
    "    #X = X.join(math_transforms(X, last_year))\n",
    "    #X = X.join(counts(X))\n",
    "    X = X.join(extractions(X, feature_new_ord_levels))\n",
    "    #X = X.join(group_transforms(X))\n",
    "    X = X.drop(columns=feature_new_to_del)\n",
    "    \n",
    "    return X"
   ]
  },
  {
   "cell_type": "code",
   "execution_count": 28,
   "id": "2a9dd7c2-2939-41e5-88c9-087db22d49ea",
   "metadata": {},
   "outputs": [],
   "source": [
    "df_new = create_features(\n",
    "    df, \n",
    "    MI_SCORES_FEATURE_TO_ESTIMATE,\n",
    "    MI_SCORES_THRESHOLD,\n",
    "    FEATURE_OUTLIER_THRESHOLDS,\n",
    "    FEATURE_NEW_ORD_LEVELS,\n",
    "    FEATURES_NEW_TO_DEL,\n",
    "    random_state=RANDOM_STATE,\n",
    ")"
   ]
  },
  {
   "cell_type": "code",
   "execution_count": 29,
   "id": "3424e71d-ab3f-43fd-b36a-81133dfee49d",
   "metadata": {},
   "outputs": [
    {
     "name": "stdout",
     "output_type": "stream",
     "text": [
      "<class 'pandas.core.frame.DataFrame'>\n",
      "Index: 19483 entries, 0 to 19890\n",
      "Data columns (total 10 columns):\n",
      " #   Column                         Non-Null Count  Dtype   \n",
      "---  ------                         --------------  -----   \n",
      " 0   gender                         19483 non-null  category\n",
      " 1   category                       19483 non-null  category\n",
      " 2   quantity                       19483 non-null  category\n",
      " 3   price                          19483 non-null  float64 \n",
      " 4   payment_method                 19483 non-null  category\n",
      " 5   shopping_mall                  19483 non-null  category\n",
      " 6   category_quantity_mall_counts  19483 non-null  int64   \n",
      " 7   category_quantity_mall_spent   19483 non-null  float64 \n",
      " 8   age_group                      19483 non-null  category\n",
      " 9   season                         19483 non-null  category\n",
      "dtypes: category(7), float64(2), int64(1)\n",
      "memory usage: 1.2 MB\n"
     ]
    }
   ],
   "source": [
    "df_new.info()"
   ]
  },
  {
   "cell_type": "markdown",
   "id": "18db9260-fc5d-4d30-86e4-f49acfeef4f7",
   "metadata": {},
   "source": [
    "## 3.3 MI Scores for New Features"
   ]
  },
  {
   "cell_type": "code",
   "execution_count": 30,
   "id": "c0a96c7a-22ce-4b7e-a942-277aac78a48f",
   "metadata": {},
   "outputs": [
    {
     "data": {
      "text/plain": [
       "category_quantity_mall_counts    4.552317\n",
       "price                            3.345940\n",
       "shopping_mall                    1.998951\n",
       "category                         1.819602\n",
       "quantity                         1.536964\n",
       "gender                           0.006361\n",
       "season                           0.005166\n",
       "payment_method                   0.000000\n",
       "age_group                        0.000000\n",
       "Name: MI Scores, dtype: float64"
      ]
     },
     "execution_count": 30,
     "metadata": {},
     "output_type": "execute_result"
    }
   ],
   "source": [
    "X_new_mi = df_new.copy()\n",
    "y_new_mi = X_new_mi.pop(MI_SCORES_FEATURE_TO_ESTIMATE)\n",
    "\n",
    "new_mi_scores = make_mi_scores(X_new_mi, y_new_mi, random_state=RANDOM_STATE)\n",
    "new_mi_scores"
   ]
  },
  {
   "cell_type": "code",
   "execution_count": 31,
   "id": "0eb4b92e-c896-42e6-ae11-4f505b5c442c",
   "metadata": {},
   "outputs": [
    {
     "data": {
      "image/png": "[encoded data removed]",
      "text/plain": [
       "<Figure size 800x550 with 1 Axes>"
      ]
     },
     "metadata": {},
     "output_type": "display_data"
    }
   ],
   "source": [
    "plot_mi_scores(new_mi_scores)"
   ]
  },
  {
   "cell_type": "markdown",
   "id": "2eecd61f-07cc-4320-9cca-0a4e5dc0045d",
   "metadata": {},
   "source": [
    "## 3.4 Feature Engineering Report"
   ]
  },
  {
   "cell_type": "code",
   "execution_count": 32,
   "id": "0778f8ad-e326-42d5-ae4c-268754449464",
   "metadata": {},
   "outputs": [],
   "source": [
    "profiling_report = ProfileReport(df_new, title='Feature Engineering Profile Report')"
   ]
  },
  {
   "cell_type": "code",
   "execution_count": 33,
   "id": "82a16dd2-1a07-4c73-bd7e-f9f8abfc6d78",
   "metadata": {},
   "outputs": [
    {
     "data": {
      "application/vnd.jupyter.widget-view+json": {
       "model_id": "c528ae6a0cec47cb8174ef63e1753b9a",
       "version_major": 2,
       "version_minor": 0
      },
      "text/plain": [
       "Summarize dataset:   0%|          | 0/5 [00:00<?, ?it/s]"
      ]
     },
     "metadata": {},
     "output_type": "display_data"
    },
    {
     "data": {
      "application/vnd.jupyter.widget-view+json": {
       "model_id": "9da4e705aff540ebb98eb3ff22c4d790",
       "version_major": 2,
       "version_minor": 0
      },
      "text/plain": [
       "Generate report structure:   0%|          | 0/1 [00:00<?, ?it/s]"
      ]
     },
     "metadata": {},
     "output_type": "display_data"
    },
    {
     "data": {
      "application/vnd.jupyter.widget-view+json": {
       "model_id": "0c4ffb77c1c44d0f8cf74b72b895d975",
       "version_major": 2,
       "version_minor": 0
      },
      "text/plain": [
       "Render HTML:   0%|          | 0/1 [00:00<?, ?it/s]"
      ]
     },
     "metadata": {},
     "output_type": "display_data"
    },
    {
     "data": {
      "application/vnd.jupyter.widget-view+json": {
       "model_id": "706384361abd41dda1201dab3967443b",
       "version_major": 2,
       "version_minor": 0
      },
      "text/plain": [
       "Export report to file:   0%|          | 0/1 [00:00<?, ?it/s]"
      ]
     },
     "metadata": {},
     "output_type": "display_data"
    }
   ],
   "source": [
    "profiling_report.to_file(REPORTS_DIR.joinpath('feature_engineering_report.html'))"
   ]
  },
  {
   "cell_type": "markdown",
   "id": "428bc46f-50de-4ccb-b783-1473a718c42e",
   "metadata": {},
   "source": [
    "## 3.5 Preprocessing Pipeline"
   ]
  },
  {
   "cell_type": "code",
   "execution_count": 34,
   "id": "6838240b-3926-45c7-be25-57e3239afb4c",
   "metadata": {},
   "outputs": [],
   "source": [
    "def get_preprocessor(df, feature_ord_levels):\n",
    "    features_num = list(df.select_dtypes(('int64', 'float64')).columns)\n",
    "    features_ord = list(feature_ord_levels.keys())\n",
    "    features_cat = [feature for feature in df.select_dtypes('category').columns \\\n",
    "                    if feature not in feature_ord_levels]\n",
    "\n",
    "    assert len(features_num) + len(features_ord) + len(features_cat) == df.shape[1]\n",
    "    \n",
    "    num_transformer = Pipeline([\n",
    "        ('scaler', StandardScaler()),\n",
    "        ('transformer', QuantileTransformer()),\n",
    "    ])\n",
    "\n",
    "    cat_transformer = Pipeline([\n",
    "        ('oh_encoder', OneHotEncoder(drop='first', handle_unknown='ignore')),\n",
    "    ])\n",
    "    \n",
    "    ord_transformer = Pipeline([\n",
    "        ('ord_encoder', OrdinalEncoder()),\n",
    "    ])\n",
    "\n",
    "    preprocessor = ColumnTransformer([\n",
    "        ('num', num_transformer, features_num),\n",
    "        ('ord', ord_transformer, features_ord),\n",
    "        ('cat', cat_transformer, features_cat),\n",
    "    ])\n",
    "    return preprocessor"
   ]
  },
  {
   "cell_type": "code",
   "execution_count": 35,
   "id": "17eaefe9-51bf-41bf-a053-068772884468",
   "metadata": {},
   "outputs": [],
   "source": [
    "preprocessor = get_preprocessor(df_new, FEATURE_NEW_ORD_LEVELS)"
   ]
  },
  {
   "cell_type": "code",
   "execution_count": 36,
   "id": "01fe6fc1-dfbe-47fc-bee6-11ee0a8f768f",
   "metadata": {},
   "outputs": [],
   "source": [
    "X = pd.DataFrame(preprocessor.fit_transform(df_new))\n",
    "X.columns = preprocessor.get_feature_names_out()"
   ]
  },
  {
   "cell_type": "code",
   "execution_count": 37,
   "id": "5561db5e-b267-433f-8653-4bb9d8a5bdf7",
   "metadata": {},
   "outputs": [
    {
     "name": "stdout",
     "output_type": "stream",
     "text": [
      "<class 'pandas.core.frame.DataFrame'>\n",
      "RangeIndex: 19483 entries, 0 to 19482\n",
      "Data columns (total 27 columns):\n",
      " #   Column                                Non-Null Count  Dtype  \n",
      "---  ------                                --------------  -----  \n",
      " 0   num__price                            19483 non-null  float64\n",
      " 1   num__category_quantity_mall_counts    19483 non-null  float64\n",
      " 2   num__category_quantity_mall_spent     19483 non-null  float64\n",
      " 3   ord__quantity                         19483 non-null  float64\n",
      " 4   ord__age_group                        19483 non-null  float64\n",
      " 5   cat__gender_Male                      19483 non-null  float64\n",
      " 6   cat__category_Clothing                19483 non-null  float64\n",
      " 7   cat__category_Cosmetics               19483 non-null  float64\n",
      " 8   cat__category_Food & Beverage         19483 non-null  float64\n",
      " 9   cat__category_Shoes                   19483 non-null  float64\n",
      " 10  cat__category_Souvenir                19483 non-null  float64\n",
      " 11  cat__category_Technology              19483 non-null  float64\n",
      " 12  cat__category_Toys                    19483 non-null  float64\n",
      " 13  cat__payment_method_Credit Card       19483 non-null  float64\n",
      " 14  cat__payment_method_Debit Card        19483 non-null  float64\n",
      " 15  cat__shopping_mall_Emaar Square Mall  19483 non-null  float64\n",
      " 16  cat__shopping_mall_Forum Istanbul     19483 non-null  float64\n",
      " 17  cat__shopping_mall_Istinye Park       19483 non-null  float64\n",
      " 18  cat__shopping_mall_Kanyon             19483 non-null  float64\n",
      " 19  cat__shopping_mall_Mall of Istanbul   19483 non-null  float64\n",
      " 20  cat__shopping_mall_Metrocity          19483 non-null  float64\n",
      " 21  cat__shopping_mall_Metropol AVM       19483 non-null  float64\n",
      " 22  cat__shopping_mall_Viaport Outlet     19483 non-null  float64\n",
      " 23  cat__shopping_mall_Zorlu Center       19483 non-null  float64\n",
      " 24  cat__season_Spring                    19483 non-null  float64\n",
      " 25  cat__season_Summer                    19483 non-null  float64\n",
      " 26  cat__season_Winter                    19483 non-null  float64\n",
      "dtypes: float64(27)\n",
      "memory usage: 4.0 MB\n"
     ]
    }
   ],
   "source": [
    "X.info()"
   ]
  },
  {
   "cell_type": "markdown",
   "id": "f7c887ec-cca1-4bee-958b-3424c0a84192",
   "metadata": {},
   "source": [
    "## 3.6 Dimensionality Reduction"
   ]
  },
  {
   "cell_type": "markdown",
   "id": "ba068d7a-e332-4668-9787-4d104fff83cd",
   "metadata": {},
   "source": [
    "### PCA"
   ]
  },
  {
   "cell_type": "code",
   "execution_count": 38,
   "id": "24e7a4a5-a5c3-44fa-ae5a-84432fbd94af",
   "metadata": {},
   "outputs": [],
   "source": [
    "def apply_pca(X, n_components=None, standardize=True, random_state=0):\n",
    "    if standardize:\n",
    "        X = (X - X.mean(axis=0)) / X.std(axis=0)\n",
    "\n",
    "    pca = PCA(n_components=n_components, random_state=random_state)\n",
    "    X_pca = pca.fit_transform(X)\n",
    "    \n",
    "    component_names = [f'PC{i + 1}' for i in range(X_pca.shape[1])]\n",
    "    X_pca = pd.DataFrame(X_pca, columns=component_names)\n",
    "    \n",
    "    loadings = pd.DataFrame(\n",
    "        pca.components_.T,\n",
    "        columns=component_names,\n",
    "        index=X.columns,\n",
    "    )\n",
    "    \n",
    "    return pca, X_pca, loadings"
   ]
  },
  {
   "cell_type": "code",
   "execution_count": 39,
   "id": "039f9851-5902-4f1a-8537-5aa607c4d59e",
   "metadata": {},
   "outputs": [],
   "source": [
    "def plot_variance(pca, width=8, dpi=100):\n",
    "    fig, ax = plt.subplots(1, 2)\n",
    "    n = pca.n_components_\n",
    "    grid = np.arange(1, n + 1)\n",
    "    \n",
    "    evr = pca.explained_variance_ratio_\n",
    "    ax[0].bar(grid, evr)\n",
    "    ax[0].set(\n",
    "        xlabel='Component',\n",
    "        title='% Explained Variance',\n",
    "        ylim=(0.0, 1.0),\n",
    "    )\n",
    "    \n",
    "    cv = np.cumsum(evr)\n",
    "    ax[1].plot(np.r_[0, grid], np.r_[0, cv], 'o-')\n",
    "    ax[1].set(\n",
    "        xlabel='Component',\n",
    "        title='% Cumulative Variance',\n",
    "        ylim=(0.0, 1.0),\n",
    "    )\n",
    "    \n",
    "    fig.set(figwidth=width, dpi=dpi)\n",
    "    plt.show()\n",
    "    return ax"
   ]
  },
  {
   "cell_type": "code",
   "execution_count": 40,
   "id": "817a0cc7-4ee2-4a7a-bf4a-ea868f668160",
   "metadata": {},
   "outputs": [],
   "source": [
    "pca, _, _ = apply_pca(X, standardize=False, random_state=RANDOM_STATE)"
   ]
  },
  {
   "cell_type": "code",
   "execution_count": 41,
   "id": "fb5e0347-bf8c-44ed-9f26-e09e87d5a4f7",
   "metadata": {},
   "outputs": [
    {
     "data": {
      "image/png": "[encoded data removed]",
      "text/plain": [
       "<Figure size 1000x550 with 2 Axes>"
      ]
     },
     "metadata": {},
     "output_type": "display_data"
    },
    {
     "data": {
      "text/plain": [
       "array([<Axes: title={'center': '% Explained Variance'}, xlabel='Component'>,\n",
       "       <Axes: title={'center': '% Cumulative Variance'}, xlabel='Component'>],\n",
       "      dtype=object)"
      ]
     },
     "execution_count": 41,
     "metadata": {},
     "output_type": "execute_result"
    }
   ],
   "source": [
    "plot_variance(pca, width=10)"
   ]
  },
  {
   "cell_type": "code",
   "execution_count": 42,
   "id": "9e725000-ed7a-43be-83ea-e61024deaacc",
   "metadata": {},
   "outputs": [],
   "source": [
    "_, X_reduced, loadings = apply_pca(X, n_components=PCA_N_COMPONENTS)"
   ]
  },
  {
   "cell_type": "code",
   "execution_count": 43,
   "id": "a821a5cb-d8c4-47fe-9d4b-5b2b39bb401a",
   "metadata": {},
   "outputs": [
    {
     "data": {
      "text/html": [
       "<div>\n",
       "<style scoped>\n",
       "    .dataframe tbody tr th:only-of-type {\n",
       "        vertical-align: middle;\n",
       "    }\n",
       "\n",
       "    .dataframe tbody tr th {\n",
       "        vertical-align: top;\n",
       "    }\n",
       "\n",
       "    .dataframe thead th {\n",
       "        text-align: right;\n",
       "    }\n",
       "</style>\n",
       "<table border=\"1\" class=\"dataframe\">\n",
       "  <thead>\n",
       "    <tr style=\"text-align: right;\">\n",
       "      <th></th>\n",
       "      <th>PC1</th>\n",
       "      <th>PC2</th>\n",
       "      <th>PC3</th>\n",
       "      <th>PC4</th>\n",
       "      <th>PC5</th>\n",
       "      <th>PC6</th>\n",
       "      <th>PC7</th>\n",
       "      <th>PC8</th>\n",
       "      <th>PC9</th>\n",
       "      <th>PC10</th>\n",
       "      <th>PC11</th>\n",
       "      <th>PC12</th>\n",
       "      <th>PC13</th>\n",
       "      <th>PC14</th>\n",
       "      <th>PC15</th>\n",
       "      <th>PC16</th>\n",
       "      <th>PC17</th>\n",
       "      <th>PC18</th>\n",
       "      <th>PC19</th>\n",
       "      <th>PC20</th>\n",
       "    </tr>\n",
       "  </thead>\n",
       "  <tbody>\n",
       "    <tr>\n",
       "      <th>num__category_quantity_mall_spent</th>\n",
       "      <td>-0.531897</td>\n",
       "      <td>0.066363</td>\n",
       "      <td>-0.000295</td>\n",
       "      <td>-0.012167</td>\n",
       "      <td>-0.001509</td>\n",
       "      <td>0.006079</td>\n",
       "      <td>0.035549</td>\n",
       "      <td>0.011342</td>\n",
       "      <td>-0.003935</td>\n",
       "      <td>0.013124</td>\n",
       "      <td>0.011195</td>\n",
       "      <td>0.003195</td>\n",
       "      <td>0.016722</td>\n",
       "      <td>-0.009320</td>\n",
       "      <td>0.000356</td>\n",
       "      <td>-0.009240</td>\n",
       "      <td>0.003505</td>\n",
       "      <td>-0.004834</td>\n",
       "      <td>-0.008258</td>\n",
       "      <td>0.034629</td>\n",
       "    </tr>\n",
       "    <tr>\n",
       "      <th>num__price</th>\n",
       "      <td>-0.462732</td>\n",
       "      <td>0.365304</td>\n",
       "      <td>0.008148</td>\n",
       "      <td>-0.006913</td>\n",
       "      <td>-0.009026</td>\n",
       "      <td>0.002724</td>\n",
       "      <td>0.042819</td>\n",
       "      <td>-0.013097</td>\n",
       "      <td>0.025819</td>\n",
       "      <td>0.024784</td>\n",
       "      <td>-0.015492</td>\n",
       "      <td>0.009489</td>\n",
       "      <td>-0.004929</td>\n",
       "      <td>-0.021352</td>\n",
       "      <td>0.001210</td>\n",
       "      <td>-0.011015</td>\n",
       "      <td>-0.000961</td>\n",
       "      <td>-0.007097</td>\n",
       "      <td>-0.015776</td>\n",
       "      <td>0.074841</td>\n",
       "    </tr>\n",
       "    <tr>\n",
       "      <th>cat__category_Clothing</th>\n",
       "      <td>-0.425518</td>\n",
       "      <td>-0.164168</td>\n",
       "      <td>0.027850</td>\n",
       "      <td>-0.007170</td>\n",
       "      <td>0.005579</td>\n",
       "      <td>-0.118041</td>\n",
       "      <td>-0.415567</td>\n",
       "      <td>-0.078505</td>\n",
       "      <td>-0.101570</td>\n",
       "      <td>-0.160556</td>\n",
       "      <td>-0.066051</td>\n",
       "      <td>-0.121159</td>\n",
       "      <td>-0.079935</td>\n",
       "      <td>-0.005522</td>\n",
       "      <td>0.014312</td>\n",
       "      <td>0.008708</td>\n",
       "      <td>-0.003861</td>\n",
       "      <td>-0.003893</td>\n",
       "      <td>0.021875</td>\n",
       "      <td>-0.099183</td>\n",
       "    </tr>\n",
       "    <tr>\n",
       "      <th>num__category_quantity_mall_counts</th>\n",
       "      <td>-0.377862</td>\n",
       "      <td>-0.500529</td>\n",
       "      <td>-0.013613</td>\n",
       "      <td>-0.013175</td>\n",
       "      <td>0.006495</td>\n",
       "      <td>0.021441</td>\n",
       "      <td>0.040358</td>\n",
       "      <td>0.023847</td>\n",
       "      <td>0.013216</td>\n",
       "      <td>0.030367</td>\n",
       "      <td>-0.006467</td>\n",
       "      <td>0.030729</td>\n",
       "      <td>0.038362</td>\n",
       "      <td>0.003019</td>\n",
       "      <td>-0.001267</td>\n",
       "      <td>0.003739</td>\n",
       "      <td>0.009390</td>\n",
       "      <td>0.008121</td>\n",
       "      <td>0.012692</td>\n",
       "      <td>-0.051176</td>\n",
       "    </tr>\n",
       "    <tr>\n",
       "      <th>cat__category_Food &amp; Beverage</th>\n",
       "      <td>0.273598</td>\n",
       "      <td>-0.324984</td>\n",
       "      <td>0.012778</td>\n",
       "      <td>-0.025563</td>\n",
       "      <td>-0.037665</td>\n",
       "      <td>-0.023412</td>\n",
       "      <td>-0.138725</td>\n",
       "      <td>-0.262265</td>\n",
       "      <td>0.149944</td>\n",
       "      <td>0.453695</td>\n",
       "      <td>-0.209356</td>\n",
       "      <td>0.108602</td>\n",
       "      <td>-0.047591</td>\n",
       "      <td>-0.173545</td>\n",
       "      <td>0.057631</td>\n",
       "      <td>0.016145</td>\n",
       "      <td>0.062532</td>\n",
       "      <td>-0.029509</td>\n",
       "      <td>0.031045</td>\n",
       "      <td>0.201732</td>\n",
       "    </tr>\n",
       "    <tr>\n",
       "      <th>cat__category_Souvenir</th>\n",
       "      <td>0.171852</td>\n",
       "      <td>0.057706</td>\n",
       "      <td>0.005677</td>\n",
       "      <td>0.014856</td>\n",
       "      <td>0.004629</td>\n",
       "      <td>0.019621</td>\n",
       "      <td>-0.071441</td>\n",
       "      <td>-0.059277</td>\n",
       "      <td>0.025445</td>\n",
       "      <td>-0.162107</td>\n",
       "      <td>0.097471</td>\n",
       "      <td>-0.336063</td>\n",
       "      <td>-0.118549</td>\n",
       "      <td>0.684097</td>\n",
       "      <td>-0.102877</td>\n",
       "      <td>-0.047385</td>\n",
       "      <td>-0.381324</td>\n",
       "      <td>-0.009271</td>\n",
       "      <td>-0.042500</td>\n",
       "      <td>0.083770</td>\n",
       "    </tr>\n",
       "    <tr>\n",
       "      <th>cat__category_Toys</th>\n",
       "      <td>0.127654</td>\n",
       "      <td>0.069701</td>\n",
       "      <td>-0.013735</td>\n",
       "      <td>-0.017561</td>\n",
       "      <td>0.030060</td>\n",
       "      <td>0.003459</td>\n",
       "      <td>0.045702</td>\n",
       "      <td>-0.125578</td>\n",
       "      <td>-0.252126</td>\n",
       "      <td>-0.195046</td>\n",
       "      <td>0.699032</td>\n",
       "      <td>0.135351</td>\n",
       "      <td>0.354770</td>\n",
       "      <td>-0.177344</td>\n",
       "      <td>-0.007098</td>\n",
       "      <td>-0.001930</td>\n",
       "      <td>0.157223</td>\n",
       "      <td>-0.056535</td>\n",
       "      <td>-0.008041</td>\n",
       "      <td>-0.056713</td>\n",
       "    </tr>\n",
       "    <tr>\n",
       "      <th>ord__quantity</th>\n",
       "      <td>-0.114982</td>\n",
       "      <td>0.095905</td>\n",
       "      <td>-0.031063</td>\n",
       "      <td>-0.060379</td>\n",
       "      <td>-0.026466</td>\n",
       "      <td>0.017140</td>\n",
       "      <td>0.147188</td>\n",
       "      <td>-0.038583</td>\n",
       "      <td>-0.464518</td>\n",
       "      <td>0.358131</td>\n",
       "      <td>0.090501</td>\n",
       "      <td>-0.161111</td>\n",
       "      <td>-0.068108</td>\n",
       "      <td>0.038441</td>\n",
       "      <td>0.008754</td>\n",
       "      <td>-0.049997</td>\n",
       "      <td>0.025883</td>\n",
       "      <td>-0.141201</td>\n",
       "      <td>-0.081707</td>\n",
       "      <td>0.675806</td>\n",
       "    </tr>\n",
       "    <tr>\n",
       "      <th>cat__category_Cosmetics</th>\n",
       "      <td>0.095219</td>\n",
       "      <td>-0.058024</td>\n",
       "      <td>-0.052100</td>\n",
       "      <td>0.022343</td>\n",
       "      <td>0.016678</td>\n",
       "      <td>0.081766</td>\n",
       "      <td>0.434699</td>\n",
       "      <td>0.621369</td>\n",
       "      <td>-0.225129</td>\n",
       "      <td>-0.209191</td>\n",
       "      <td>-0.287035</td>\n",
       "      <td>-0.029671</td>\n",
       "      <td>-0.114656</td>\n",
       "      <td>-0.098347</td>\n",
       "      <td>0.004093</td>\n",
       "      <td>-0.000423</td>\n",
       "      <td>0.103577</td>\n",
       "      <td>0.041156</td>\n",
       "      <td>-0.026500</td>\n",
       "      <td>-0.002655</td>\n",
       "    </tr>\n",
       "    <tr>\n",
       "      <th>cat__category_Shoes</th>\n",
       "      <td>-0.086412</td>\n",
       "      <td>0.431757</td>\n",
       "      <td>0.004104</td>\n",
       "      <td>0.000840</td>\n",
       "      <td>-0.021391</td>\n",
       "      <td>0.085568</td>\n",
       "      <td>0.320799</td>\n",
       "      <td>-0.135378</td>\n",
       "      <td>0.150043</td>\n",
       "      <td>0.482692</td>\n",
       "      <td>-0.032083</td>\n",
       "      <td>0.094158</td>\n",
       "      <td>-0.013085</td>\n",
       "      <td>0.080546</td>\n",
       "      <td>-0.063477</td>\n",
       "      <td>0.015367</td>\n",
       "      <td>-0.060938</td>\n",
       "      <td>0.100375</td>\n",
       "      <td>0.032349</td>\n",
       "      <td>-0.384821</td>\n",
       "    </tr>\n",
       "    <tr>\n",
       "      <th>cat__shopping_mall_Mall of Istanbul</th>\n",
       "      <td>-0.081991</td>\n",
       "      <td>-0.211300</td>\n",
       "      <td>0.059262</td>\n",
       "      <td>-0.004017</td>\n",
       "      <td>-0.098531</td>\n",
       "      <td>0.777594</td>\n",
       "      <td>0.181570</td>\n",
       "      <td>-0.184755</td>\n",
       "      <td>0.086463</td>\n",
       "      <td>-0.086296</td>\n",
       "      <td>0.083941</td>\n",
       "      <td>-0.039997</td>\n",
       "      <td>-0.050822</td>\n",
       "      <td>0.010703</td>\n",
       "      <td>-0.000926</td>\n",
       "      <td>0.000054</td>\n",
       "      <td>-0.021173</td>\n",
       "      <td>-0.002478</td>\n",
       "      <td>0.000182</td>\n",
       "      <td>0.019283</td>\n",
       "    </tr>\n",
       "    <tr>\n",
       "      <th>cat__shopping_mall_Kanyon</th>\n",
       "      <td>-0.072354</td>\n",
       "      <td>-0.230639</td>\n",
       "      <td>-0.031789</td>\n",
       "      <td>-0.008845</td>\n",
       "      <td>0.074438</td>\n",
       "      <td>-0.575568</td>\n",
       "      <td>0.518913</td>\n",
       "      <td>-0.212354</td>\n",
       "      <td>0.166647</td>\n",
       "      <td>-0.081304</td>\n",
       "      <td>0.099001</td>\n",
       "      <td>-0.029248</td>\n",
       "      <td>-0.041489</td>\n",
       "      <td>0.048271</td>\n",
       "      <td>-0.014400</td>\n",
       "      <td>-0.003417</td>\n",
       "      <td>-0.063777</td>\n",
       "      <td>0.051944</td>\n",
       "      <td>-0.039007</td>\n",
       "      <td>0.045936</td>\n",
       "    </tr>\n",
       "    <tr>\n",
       "      <th>cat__shopping_mall_Forum Istanbul</th>\n",
       "      <td>0.063900</td>\n",
       "      <td>0.134734</td>\n",
       "      <td>-0.000111</td>\n",
       "      <td>-0.003201</td>\n",
       "      <td>-0.023887</td>\n",
       "      <td>-0.049111</td>\n",
       "      <td>-0.142668</td>\n",
       "      <td>-0.065037</td>\n",
       "      <td>-0.055419</td>\n",
       "      <td>-0.080130</td>\n",
       "      <td>-0.058829</td>\n",
       "      <td>-0.094314</td>\n",
       "      <td>-0.245311</td>\n",
       "      <td>-0.325969</td>\n",
       "      <td>-0.660435</td>\n",
       "      <td>-0.478627</td>\n",
       "      <td>0.010260</td>\n",
       "      <td>-0.024163</td>\n",
       "      <td>0.058314</td>\n",
       "      <td>-0.018402</td>\n",
       "    </tr>\n",
       "    <tr>\n",
       "      <th>cat__shopping_mall_Viaport Outlet</th>\n",
       "      <td>0.063186</td>\n",
       "      <td>0.151551</td>\n",
       "      <td>0.040999</td>\n",
       "      <td>-0.005743</td>\n",
       "      <td>0.006569</td>\n",
       "      <td>-0.040816</td>\n",
       "      <td>-0.091197</td>\n",
       "      <td>-0.030703</td>\n",
       "      <td>-0.138977</td>\n",
       "      <td>-0.041231</td>\n",
       "      <td>0.000877</td>\n",
       "      <td>-0.111278</td>\n",
       "      <td>-0.213306</td>\n",
       "      <td>-0.319162</td>\n",
       "      <td>0.670383</td>\n",
       "      <td>-0.281308</td>\n",
       "      <td>-0.378972</td>\n",
       "      <td>-0.030099</td>\n",
       "      <td>-0.035133</td>\n",
       "      <td>-0.115118</td>\n",
       "    </tr>\n",
       "    <tr>\n",
       "      <th>cat__shopping_mall_Zorlu Center</th>\n",
       "      <td>0.053606</td>\n",
       "      <td>0.160363</td>\n",
       "      <td>0.038920</td>\n",
       "      <td>0.004406</td>\n",
       "      <td>0.005065</td>\n",
       "      <td>-0.047055</td>\n",
       "      <td>-0.128674</td>\n",
       "      <td>-0.091981</td>\n",
       "      <td>0.007368</td>\n",
       "      <td>-0.059266</td>\n",
       "      <td>-0.021723</td>\n",
       "      <td>-0.144288</td>\n",
       "      <td>-0.264737</td>\n",
       "      <td>0.233493</td>\n",
       "      <td>0.235508</td>\n",
       "      <td>-0.010082</td>\n",
       "      <td>0.777118</td>\n",
       "      <td>0.199742</td>\n",
       "      <td>-0.054764</td>\n",
       "      <td>-0.016571</td>\n",
       "    </tr>\n",
       "    <tr>\n",
       "      <th>cat__shopping_mall_Emaar Square Mall</th>\n",
       "      <td>0.051595</td>\n",
       "      <td>0.156590</td>\n",
       "      <td>0.010347</td>\n",
       "      <td>-0.005832</td>\n",
       "      <td>-0.007882</td>\n",
       "      <td>-0.043781</td>\n",
       "      <td>-0.107793</td>\n",
       "      <td>-0.043179</td>\n",
       "      <td>-0.102049</td>\n",
       "      <td>-0.073724</td>\n",
       "      <td>-0.019947</td>\n",
       "      <td>-0.110079</td>\n",
       "      <td>-0.220658</td>\n",
       "      <td>-0.244382</td>\n",
       "      <td>-0.150173</td>\n",
       "      <td>0.826220</td>\n",
       "      <td>-0.134443</td>\n",
       "      <td>-0.035884</td>\n",
       "      <td>0.072346</td>\n",
       "      <td>0.019565</td>\n",
       "    </tr>\n",
       "    <tr>\n",
       "      <th>cat__shopping_mall_Istinye Park</th>\n",
       "      <td>0.035684</td>\n",
       "      <td>0.090769</td>\n",
       "      <td>0.042821</td>\n",
       "      <td>0.007432</td>\n",
       "      <td>-0.053180</td>\n",
       "      <td>-0.043245</td>\n",
       "      <td>-0.081870</td>\n",
       "      <td>-0.002278</td>\n",
       "      <td>-0.089278</td>\n",
       "      <td>0.041352</td>\n",
       "      <td>-0.375853</td>\n",
       "      <td>-0.364426</td>\n",
       "      <td>0.754986</td>\n",
       "      <td>-0.000269</td>\n",
       "      <td>-0.001366</td>\n",
       "      <td>-0.001695</td>\n",
       "      <td>0.043428</td>\n",
       "      <td>-0.078173</td>\n",
       "      <td>-0.013402</td>\n",
       "      <td>-0.049761</td>\n",
       "    </tr>\n",
       "    <tr>\n",
       "      <th>cat__shopping_mall_Metrocity</th>\n",
       "      <td>-0.031051</td>\n",
       "      <td>-0.037197</td>\n",
       "      <td>-0.109301</td>\n",
       "      <td>0.022961</td>\n",
       "      <td>0.064573</td>\n",
       "      <td>-0.046684</td>\n",
       "      <td>-0.297119</td>\n",
       "      <td>0.618972</td>\n",
       "      <td>0.261001</td>\n",
       "      <td>0.374178</td>\n",
       "      <td>0.360440</td>\n",
       "      <td>0.024851</td>\n",
       "      <td>0.025139</td>\n",
       "      <td>0.070298</td>\n",
       "      <td>-0.018863</td>\n",
       "      <td>-0.005276</td>\n",
       "      <td>-0.040455</td>\n",
       "      <td>0.007570</td>\n",
       "      <td>0.005992</td>\n",
       "      <td>0.038847</td>\n",
       "    </tr>\n",
       "    <tr>\n",
       "      <th>cat__category_Technology</th>\n",
       "      <td>-0.017793</td>\n",
       "      <td>0.260326</td>\n",
       "      <td>0.017993</td>\n",
       "      <td>0.025039</td>\n",
       "      <td>-0.006177</td>\n",
       "      <td>0.031013</td>\n",
       "      <td>-0.015363</td>\n",
       "      <td>0.011526</td>\n",
       "      <td>0.580628</td>\n",
       "      <td>-0.339166</td>\n",
       "      <td>-0.092069</td>\n",
       "      <td>0.205612</td>\n",
       "      <td>0.119345</td>\n",
       "      <td>-0.117149</td>\n",
       "      <td>0.080173</td>\n",
       "      <td>-0.019903</td>\n",
       "      <td>-0.010301</td>\n",
       "      <td>-0.067017</td>\n",
       "      <td>-0.039705</td>\n",
       "      <td>0.513674</td>\n",
       "    </tr>\n",
       "    <tr>\n",
       "      <th>cat__payment_method_Debit Card</th>\n",
       "      <td>-0.016306</td>\n",
       "      <td>-0.002732</td>\n",
       "      <td>0.039697</td>\n",
       "      <td>0.699429</td>\n",
       "      <td>0.069652</td>\n",
       "      <td>0.007867</td>\n",
       "      <td>0.006916</td>\n",
       "      <td>-0.020755</td>\n",
       "      <td>-0.035749</td>\n",
       "      <td>0.034076</td>\n",
       "      <td>-0.002392</td>\n",
       "      <td>0.010541</td>\n",
       "      <td>-0.019049</td>\n",
       "      <td>0.001554</td>\n",
       "      <td>-0.005641</td>\n",
       "      <td>-0.010699</td>\n",
       "      <td>-0.023327</td>\n",
       "      <td>0.001265</td>\n",
       "      <td>0.019169</td>\n",
       "      <td>0.028764</td>\n",
       "    </tr>\n",
       "    <tr>\n",
       "      <th>cat__payment_method_Credit Card</th>\n",
       "      <td>0.010603</td>\n",
       "      <td>0.013340</td>\n",
       "      <td>-0.026775</td>\n",
       "      <td>-0.699772</td>\n",
       "      <td>-0.072360</td>\n",
       "      <td>0.000270</td>\n",
       "      <td>0.000424</td>\n",
       "      <td>0.041239</td>\n",
       "      <td>0.042101</td>\n",
       "      <td>-0.016939</td>\n",
       "      <td>-0.010288</td>\n",
       "      <td>-0.005545</td>\n",
       "      <td>-0.016629</td>\n",
       "      <td>0.018060</td>\n",
       "      <td>-0.003379</td>\n",
       "      <td>-0.009097</td>\n",
       "      <td>-0.021928</td>\n",
       "      <td>-0.002503</td>\n",
       "      <td>-0.002493</td>\n",
       "      <td>-0.024338</td>\n",
       "    </tr>\n",
       "    <tr>\n",
       "      <th>cat__shopping_mall_Metropol AVM</th>\n",
       "      <td>0.010182</td>\n",
       "      <td>0.064006</td>\n",
       "      <td>-0.012995</td>\n",
       "      <td>-0.024743</td>\n",
       "      <td>0.032126</td>\n",
       "      <td>-0.040572</td>\n",
       "      <td>-0.142422</td>\n",
       "      <td>-0.032762</td>\n",
       "      <td>-0.343420</td>\n",
       "      <td>-0.070805</td>\n",
       "      <td>-0.230567</td>\n",
       "      <td>0.751060</td>\n",
       "      <td>0.035925</td>\n",
       "      <td>0.315620</td>\n",
       "      <td>-0.014216</td>\n",
       "      <td>-0.016270</td>\n",
       "      <td>-0.081926</td>\n",
       "      <td>-0.082434</td>\n",
       "      <td>0.035040</td>\n",
       "      <td>0.008541</td>\n",
       "    </tr>\n",
       "    <tr>\n",
       "      <th>ord__age_group</th>\n",
       "      <td>0.006777</td>\n",
       "      <td>-0.016592</td>\n",
       "      <td>0.020615</td>\n",
       "      <td>0.004114</td>\n",
       "      <td>-0.025512</td>\n",
       "      <td>0.022002</td>\n",
       "      <td>-0.083132</td>\n",
       "      <td>-0.017821</td>\n",
       "      <td>-0.059482</td>\n",
       "      <td>0.013443</td>\n",
       "      <td>-0.015026</td>\n",
       "      <td>0.073363</td>\n",
       "      <td>0.066139</td>\n",
       "      <td>-0.085487</td>\n",
       "      <td>-0.091843</td>\n",
       "      <td>0.040176</td>\n",
       "      <td>-0.127663</td>\n",
       "      <td>0.587138</td>\n",
       "      <td>-0.772577</td>\n",
       "      <td>0.042334</td>\n",
       "    </tr>\n",
       "    <tr>\n",
       "      <th>cat__season_Winter</th>\n",
       "      <td>0.003079</td>\n",
       "      <td>-0.017349</td>\n",
       "      <td>0.790493</td>\n",
       "      <td>-0.038681</td>\n",
       "      <td>-0.012572</td>\n",
       "      <td>-0.049497</td>\n",
       "      <td>0.023672</td>\n",
       "      <td>0.096038</td>\n",
       "      <td>-0.002649</td>\n",
       "      <td>0.039411</td>\n",
       "      <td>0.043719</td>\n",
       "      <td>0.024408</td>\n",
       "      <td>-0.012025</td>\n",
       "      <td>0.016665</td>\n",
       "      <td>-0.026322</td>\n",
       "      <td>-0.000876</td>\n",
       "      <td>-0.005357</td>\n",
       "      <td>-0.011309</td>\n",
       "      <td>0.007939</td>\n",
       "      <td>0.020903</td>\n",
       "    </tr>\n",
       "    <tr>\n",
       "      <th>cat__gender_Male</th>\n",
       "      <td>0.002969</td>\n",
       "      <td>-0.007728</td>\n",
       "      <td>-0.000963</td>\n",
       "      <td>0.019241</td>\n",
       "      <td>0.036928</td>\n",
       "      <td>-0.006059</td>\n",
       "      <td>0.015066</td>\n",
       "      <td>0.001008</td>\n",
       "      <td>0.085389</td>\n",
       "      <td>0.020187</td>\n",
       "      <td>-0.018213</td>\n",
       "      <td>-0.003840</td>\n",
       "      <td>-0.104709</td>\n",
       "      <td>0.018754</td>\n",
       "      <td>-0.024915</td>\n",
       "      <td>0.031185</td>\n",
       "      <td>0.113002</td>\n",
       "      <td>-0.745011</td>\n",
       "      <td>-0.610638</td>\n",
       "      <td>-0.190257</td>\n",
       "    </tr>\n",
       "    <tr>\n",
       "      <th>cat__season_Spring</th>\n",
       "      <td>-0.002812</td>\n",
       "      <td>0.001862</td>\n",
       "      <td>-0.437574</td>\n",
       "      <td>0.088562</td>\n",
       "      <td>-0.684221</td>\n",
       "      <td>-0.060137</td>\n",
       "      <td>-0.004970</td>\n",
       "      <td>-0.008788</td>\n",
       "      <td>0.001271</td>\n",
       "      <td>-0.029220</td>\n",
       "      <td>0.015453</td>\n",
       "      <td>0.012973</td>\n",
       "      <td>-0.018235</td>\n",
       "      <td>0.016529</td>\n",
       "      <td>0.033182</td>\n",
       "      <td>0.000180</td>\n",
       "      <td>0.006277</td>\n",
       "      <td>-0.013632</td>\n",
       "      <td>-0.012362</td>\n",
       "      <td>-0.018900</td>\n",
       "    </tr>\n",
       "    <tr>\n",
       "      <th>cat__season_Summer</th>\n",
       "      <td>0.001628</td>\n",
       "      <td>0.019326</td>\n",
       "      <td>-0.392079</td>\n",
       "      <td>-0.060246</td>\n",
       "      <td>0.701160</td>\n",
       "      <td>0.113445</td>\n",
       "      <td>-0.015583</td>\n",
       "      <td>-0.090399</td>\n",
       "      <td>-0.002754</td>\n",
       "      <td>-0.002454</td>\n",
       "      <td>-0.069474</td>\n",
       "      <td>-0.052506</td>\n",
       "      <td>0.017802</td>\n",
       "      <td>-0.024384</td>\n",
       "      <td>0.004601</td>\n",
       "      <td>-0.003320</td>\n",
       "      <td>0.002469</td>\n",
       "      <td>0.032528</td>\n",
       "      <td>-0.005551</td>\n",
       "      <td>0.012377</td>\n",
       "    </tr>\n",
       "  </tbody>\n",
       "</table>\n",
       "</div>"
      ],
      "text/plain": [
       "                                           PC1       PC2       PC3       PC4  \\\n",
       "num__category_quantity_mall_spent    -0.531897  0.066363 -0.000295 -0.012167   \n",
       "num__price                           -0.462732  0.365304  0.008148 -0.006913   \n",
       "cat__category_Clothing               -0.425518 -0.164168  0.027850 -0.007170   \n",
       "num__category_quantity_mall_counts   -0.377862 -0.500529 -0.013613 -0.013175   \n",
       "cat__category_Food & Beverage         0.273598 -0.324984  0.012778 -0.025563   \n",
       "cat__category_Souvenir                0.171852  0.057706  0.005677  0.014856   \n",
       "cat__category_Toys                    0.127654  0.069701 -0.013735 -0.017561   \n",
       "ord__quantity                        -0.114982  0.095905 -0.031063 -0.060379   \n",
       "cat__category_Cosmetics               0.095219 -0.058024 -0.052100  0.022343   \n",
       "cat__category_Shoes                  -0.086412  0.431757  0.004104  0.000840   \n",
       "cat__shopping_mall_Mall of Istanbul  -0.081991 -0.211300  0.059262 -0.004017   \n",
       "cat__shopping_mall_Kanyon            -0.072354 -0.230639 -0.031789 -0.008845   \n",
       "cat__shopping_mall_Forum Istanbul     0.063900  0.134734 -0.000111 -0.003201   \n",
       "cat__shopping_mall_Viaport Outlet     0.063186  0.151551  0.040999 -0.005743   \n",
       "cat__shopping_mall_Zorlu Center       0.053606  0.160363  0.038920  0.004406   \n",
       "cat__shopping_mall_Emaar Square Mall  0.051595  0.156590  0.010347 -0.005832   \n",
       "cat__shopping_mall_Istinye Park       0.035684  0.090769  0.042821  0.007432   \n",
       "cat__shopping_mall_Metrocity         -0.031051 -0.037197 -0.109301  0.022961   \n",
       "cat__category_Technology             -0.017793  0.260326  0.017993  0.025039   \n",
       "cat__payment_method_Debit Card       -0.016306 -0.002732  0.039697  0.699429   \n",
       "cat__payment_method_Credit Card       0.010603  0.013340 -0.026775 -0.699772   \n",
       "cat__shopping_mall_Metropol AVM       0.010182  0.064006 -0.012995 -0.024743   \n",
       "ord__age_group                        0.006777 -0.016592  0.020615  0.004114   \n",
       "cat__season_Winter                    0.003079 -0.017349  0.790493 -0.038681   \n",
       "cat__gender_Male                      0.002969 -0.007728 -0.000963  0.019241   \n",
       "cat__season_Spring                   -0.002812  0.001862 -0.437574  0.088562   \n",
       "cat__season_Summer                    0.001628  0.019326 -0.392079 -0.060246   \n",
       "\n",
       "                                           PC5       PC6       PC7       PC8  \\\n",
       "num__category_quantity_mall_spent    -0.001509  0.006079  0.035549  0.011342   \n",
       "num__price                           -0.009026  0.002724  0.042819 -0.013097   \n",
       "cat__category_Clothing                0.005579 -0.118041 -0.415567 -0.078505   \n",
       "num__category_quantity_mall_counts    0.006495  0.021441  0.040358  0.023847   \n",
       "cat__category_Food & Beverage        -0.037665 -0.023412 -0.138725 -0.262265   \n",
       "cat__category_Souvenir                0.004629  0.019621 -0.071441 -0.059277   \n",
       "cat__category_Toys                    0.030060  0.003459  0.045702 -0.125578   \n",
       "ord__quantity                        -0.026466  0.017140  0.147188 -0.038583   \n",
       "cat__category_Cosmetics               0.016678  0.081766  0.434699  0.621369   \n",
       "cat__category_Shoes                  -0.021391  0.085568  0.320799 -0.135378   \n",
       "cat__shopping_mall_Mall of Istanbul  -0.098531  0.777594  0.181570 -0.184755   \n",
       "cat__shopping_mall_Kanyon             0.074438 -0.575568  0.518913 -0.212354   \n",
       "cat__shopping_mall_Forum Istanbul    -0.023887 -0.049111 -0.142668 -0.065037   \n",
       "cat__shopping_mall_Viaport Outlet     0.006569 -0.040816 -0.091197 -0.030703   \n",
       "cat__shopping_mall_Zorlu Center       0.005065 -0.047055 -0.128674 -0.091981   \n",
       "cat__shopping_mall_Emaar Square Mall -0.007882 -0.043781 -0.107793 -0.043179   \n",
       "cat__shopping_mall_Istinye Park      -0.053180 -0.043245 -0.081870 -0.002278   \n",
       "cat__shopping_mall_Metrocity          0.064573 -0.046684 -0.297119  0.618972   \n",
       "cat__category_Technology             -0.006177  0.031013 -0.015363  0.011526   \n",
       "cat__payment_method_Debit Card        0.069652  0.007867  0.006916 -0.020755   \n",
       "cat__payment_method_Credit Card      -0.072360  0.000270  0.000424  0.041239   \n",
       "cat__shopping_mall_Metropol AVM       0.032126 -0.040572 -0.142422 -0.032762   \n",
       "ord__age_group                       -0.025512  0.022002 -0.083132 -0.017821   \n",
       "cat__season_Winter                   -0.012572 -0.049497  0.023672  0.096038   \n",
       "cat__gender_Male                      0.036928 -0.006059  0.015066  0.001008   \n",
       "cat__season_Spring                   -0.684221 -0.060137 -0.004970 -0.008788   \n",
       "cat__season_Summer                    0.701160  0.113445 -0.015583 -0.090399   \n",
       "\n",
       "                                           PC9      PC10      PC11      PC12  \\\n",
       "num__category_quantity_mall_spent    -0.003935  0.013124  0.011195  0.003195   \n",
       "num__price                            0.025819  0.024784 -0.015492  0.009489   \n",
       "cat__category_Clothing               -0.101570 -0.160556 -0.066051 -0.121159   \n",
       "num__category_quantity_mall_counts    0.013216  0.030367 -0.006467  0.030729   \n",
       "cat__category_Food & Beverage         0.149944  0.453695 -0.209356  0.108602   \n",
       "cat__category_Souvenir                0.025445 -0.162107  0.097471 -0.336063   \n",
       "cat__category_Toys                   -0.252126 -0.195046  0.699032  0.135351   \n",
       "ord__quantity                        -0.464518  0.358131  0.090501 -0.161111   \n",
       "cat__category_Cosmetics              -0.225129 -0.209191 -0.287035 -0.029671   \n",
       "cat__category_Shoes                   0.150043  0.482692 -0.032083  0.094158   \n",
       "cat__shopping_mall_Mall of Istanbul   0.086463 -0.086296  0.083941 -0.039997   \n",
       "cat__shopping_mall_Kanyon             0.166647 -0.081304  0.099001 -0.029248   \n",
       "cat__shopping_mall_Forum Istanbul    -0.055419 -0.080130 -0.058829 -0.094314   \n",
       "cat__shopping_mall_Viaport Outlet    -0.138977 -0.041231  0.000877 -0.111278   \n",
       "cat__shopping_mall_Zorlu Center       0.007368 -0.059266 -0.021723 -0.144288   \n",
       "cat__shopping_mall_Emaar Square Mall -0.102049 -0.073724 -0.019947 -0.110079   \n",
       "cat__shopping_mall_Istinye Park      -0.089278  0.041352 -0.375853 -0.364426   \n",
       "cat__shopping_mall_Metrocity          0.261001  0.374178  0.360440  0.024851   \n",
       "cat__category_Technology              0.580628 -0.339166 -0.092069  0.205612   \n",
       "cat__payment_method_Debit Card       -0.035749  0.034076 -0.002392  0.010541   \n",
       "cat__payment_method_Credit Card       0.042101 -0.016939 -0.010288 -0.005545   \n",
       "cat__shopping_mall_Metropol AVM      -0.343420 -0.070805 -0.230567  0.751060   \n",
       "ord__age_group                       -0.059482  0.013443 -0.015026  0.073363   \n",
       "cat__season_Winter                   -0.002649  0.039411  0.043719  0.024408   \n",
       "cat__gender_Male                      0.085389  0.020187 -0.018213 -0.003840   \n",
       "cat__season_Spring                    0.001271 -0.029220  0.015453  0.012973   \n",
       "cat__season_Summer                   -0.002754 -0.002454 -0.069474 -0.052506   \n",
       "\n",
       "                                          PC13      PC14      PC15      PC16  \\\n",
       "num__category_quantity_mall_spent     0.016722 -0.009320  0.000356 -0.009240   \n",
       "num__price                           -0.004929 -0.021352  0.001210 -0.011015   \n",
       "cat__category_Clothing               -0.079935 -0.005522  0.014312  0.008708   \n",
       "num__category_quantity_mall_counts    0.038362  0.003019 -0.001267  0.003739   \n",
       "cat__category_Food & Beverage        -0.047591 -0.173545  0.057631  0.016145   \n",
       "cat__category_Souvenir               -0.118549  0.684097 -0.102877 -0.047385   \n",
       "cat__category_Toys                    0.354770 -0.177344 -0.007098 -0.001930   \n",
       "ord__quantity                        -0.068108  0.038441  0.008754 -0.049997   \n",
       "cat__category_Cosmetics              -0.114656 -0.098347  0.004093 -0.000423   \n",
       "cat__category_Shoes                  -0.013085  0.080546 -0.063477  0.015367   \n",
       "cat__shopping_mall_Mall of Istanbul  -0.050822  0.010703 -0.000926  0.000054   \n",
       "cat__shopping_mall_Kanyon            -0.041489  0.048271 -0.014400 -0.003417   \n",
       "cat__shopping_mall_Forum Istanbul    -0.245311 -0.325969 -0.660435 -0.478627   \n",
       "cat__shopping_mall_Viaport Outlet    -0.213306 -0.319162  0.670383 -0.281308   \n",
       "cat__shopping_mall_Zorlu Center      -0.264737  0.233493  0.235508 -0.010082   \n",
       "cat__shopping_mall_Emaar Square Mall -0.220658 -0.244382 -0.150173  0.826220   \n",
       "cat__shopping_mall_Istinye Park       0.754986 -0.000269 -0.001366 -0.001695   \n",
       "cat__shopping_mall_Metrocity          0.025139  0.070298 -0.018863 -0.005276   \n",
       "cat__category_Technology              0.119345 -0.117149  0.080173 -0.019903   \n",
       "cat__payment_method_Debit Card       -0.019049  0.001554 -0.005641 -0.010699   \n",
       "cat__payment_method_Credit Card      -0.016629  0.018060 -0.003379 -0.009097   \n",
       "cat__shopping_mall_Metropol AVM       0.035925  0.315620 -0.014216 -0.016270   \n",
       "ord__age_group                        0.066139 -0.085487 -0.091843  0.040176   \n",
       "cat__season_Winter                   -0.012025  0.016665 -0.026322 -0.000876   \n",
       "cat__gender_Male                     -0.104709  0.018754 -0.024915  0.031185   \n",
       "cat__season_Spring                   -0.018235  0.016529  0.033182  0.000180   \n",
       "cat__season_Summer                    0.017802 -0.024384  0.004601 -0.003320   \n",
       "\n",
       "                                          PC17      PC18      PC19      PC20  \n",
       "num__category_quantity_mall_spent     0.003505 -0.004834 -0.008258  0.034629  \n",
       "num__price                           -0.000961 -0.007097 -0.015776  0.074841  \n",
       "cat__category_Clothing               -0.003861 -0.003893  0.021875 -0.099183  \n",
       "num__category_quantity_mall_counts    0.009390  0.008121  0.012692 -0.051176  \n",
       "cat__category_Food & Beverage         0.062532 -0.029509  0.031045  0.201732  \n",
       "cat__category_Souvenir               -0.381324 -0.009271 -0.042500  0.083770  \n",
       "cat__category_Toys                    0.157223 -0.056535 -0.008041 -0.056713  \n",
       "ord__quantity                         0.025883 -0.141201 -0.081707  0.675806  \n",
       "cat__category_Cosmetics               0.103577  0.041156 -0.026500 -0.002655  \n",
       "cat__category_Shoes                  -0.060938  0.100375  0.032349 -0.384821  \n",
       "cat__shopping_mall_Mall of Istanbul  -0.021173 -0.002478  0.000182  0.019283  \n",
       "cat__shopping_mall_Kanyon            -0.063777  0.051944 -0.039007  0.045936  \n",
       "cat__shopping_mall_Forum Istanbul     0.010260 -0.024163  0.058314 -0.018402  \n",
       "cat__shopping_mall_Viaport Outlet    -0.378972 -0.030099 -0.035133 -0.115118  \n",
       "cat__shopping_mall_Zorlu Center       0.777118  0.199742 -0.054764 -0.016571  \n",
       "cat__shopping_mall_Emaar Square Mall -0.134443 -0.035884  0.072346  0.019565  \n",
       "cat__shopping_mall_Istinye Park       0.043428 -0.078173 -0.013402 -0.049761  \n",
       "cat__shopping_mall_Metrocity         -0.040455  0.007570  0.005992  0.038847  \n",
       "cat__category_Technology             -0.010301 -0.067017 -0.039705  0.513674  \n",
       "cat__payment_method_Debit Card       -0.023327  0.001265  0.019169  0.028764  \n",
       "cat__payment_method_Credit Card      -0.021928 -0.002503 -0.002493 -0.024338  \n",
       "cat__shopping_mall_Metropol AVM      -0.081926 -0.082434  0.035040  0.008541  \n",
       "ord__age_group                       -0.127663  0.587138 -0.772577  0.042334  \n",
       "cat__season_Winter                   -0.005357 -0.011309  0.007939  0.020903  \n",
       "cat__gender_Male                      0.113002 -0.745011 -0.610638 -0.190257  \n",
       "cat__season_Spring                    0.006277 -0.013632 -0.012362 -0.018900  \n",
       "cat__season_Summer                    0.002469  0.032528 -0.005551  0.012377  "
      ]
     },
     "execution_count": 43,
     "metadata": {},
     "output_type": "execute_result"
    }
   ],
   "source": [
    "loadings.sort_values(by='PC1', key=abs, ascending=False)"
   ]
  },
  {
   "cell_type": "markdown",
   "id": "6fb2d339-be89-4a3b-93da-700987815dc2",
   "metadata": {},
   "source": [
    "## 4 Clustering"
   ]
  },
  {
   "cell_type": "markdown",
   "id": "a1bd41a7-b962-417d-8623-502bd03d9a72",
   "metadata": {},
   "source": [
    "## 4.1 Hopkins Statistics"
   ]
  },
  {
   "cell_type": "code",
   "execution_count": 44,
   "id": "173f78e5-73c1-40fd-995b-e3e4ebd50b96",
   "metadata": {},
   "outputs": [],
   "source": [
    "def get_hopkins_score(df, n_neighbours=2, hopkins_b=2):\n",
    "    def hopkins(df, n_neighbours=n_neighbours):\n",
    "        d = df.shape[1]\n",
    "        n = len(df)\n",
    "        m = int(0.1 * n) \n",
    "        nbrs = NearestNeighbors(n_neighbors=n_neighbours).fit(df.values)\n",
    "     \n",
    "        rand_df = random.sample(range(0, n, 1), m)\n",
    "     \n",
    "        ujd = []\n",
    "        wjd = []\n",
    "        for j in tqdm(range(0, m)):\n",
    "            u_dist, _ = nbrs.kneighbors(\n",
    "                np.random.uniform(np.amin(df, axis=0), np.amax(df, axis=0),d).reshape(1, -1), 2, return_distance=True)\n",
    "            ujd.append(u_dist[0][1])\n",
    "            w_dist, _ = nbrs.kneighbors(df.iloc[rand_df[j]].values.reshape(1, -1), 2, return_distance=True)\n",
    "            wjd.append(w_dist[0][1])\n",
    "     \n",
    "        H = sum(ujd) / (sum(ujd) + sum(wjd))\n",
    "        if math.isnan(H):\n",
    "            print(ujd, wjd)\n",
    "            H = 0\n",
    "        return H\n",
    "    \n",
    "    return np.array([hopkins(df, n_neighbours) for _ in range(hopkins_b)]).mean() "
   ]
  },
  {
   "cell_type": "code",
   "execution_count": 45,
   "id": "5b8de7c8-0f67-4a3d-942a-1ab22aed911c",
   "metadata": {},
   "outputs": [
    {
     "name": "stderr",
     "output_type": "stream",
     "text": [
      "100%|███████████████████████████████████████| 1948/1948 [00:20<00:00, 94.19it/s]\n",
      "100%|███████████████████████████████████████| 1948/1948 [00:19<00:00, 99.13it/s]"
     ]
    },
    {
     "name": "stdout",
     "output_type": "stream",
     "text": [
      "Hopkins Score: 0.9468927209883684\n"
     ]
    },
    {
     "name": "stderr",
     "output_type": "stream",
     "text": [
      "\n"
     ]
    }
   ],
   "source": [
    "print(f'Hopkins Score: {get_hopkins_score(X_reduced)}')"
   ]
  },
  {
   "cell_type": "markdown",
   "id": "f8117c25-392b-4ea8-abc6-2dccf3f2d94e",
   "metadata": {},
   "source": [
    "## 4.2 KMeans and Number of Clusters"
   ]
  },
  {
   "cell_type": "markdown",
   "id": "56d5c35e-ab76-4929-84c6-3b32b9fcec4f",
   "metadata": {},
   "source": [
    "### Distortion Score"
   ]
  },
  {
   "cell_type": "code",
   "execution_count": 46,
   "id": "c1a1f5c1-ba4a-4a08-a9ab-4d4f0b315d82",
   "metadata": {},
   "outputs": [],
   "source": [
    "def plot_distortion_elbow(df, k=(1, 10), random_state=0):\n",
    "    kmeans = KMeans(random_state=random_state)\n",
    "    visualizer = KElbowVisualizer(kmeans, k=k, metric='distortion').fit(df)\n",
    "    visualizer.show()\n",
    "\n",
    "    print(f'Optimal clusters number: {visualizer.elbow_value_}')"
   ]
  },
  {
   "cell_type": "code",
   "execution_count": 47,
   "id": "cbcfb65d-f666-4e20-bf9a-a12e91b74cb0",
   "metadata": {},
   "outputs": [
    {
     "data": {
      "image/png": "[encoded data removed]",
      "text/plain": [
       "<Figure size 800x550 with 2 Axes>"
      ]
     },
     "metadata": {},
     "output_type": "display_data"
    },
    {
     "name": "stdout",
     "output_type": "stream",
     "text": [
      "Optimal clusters number: 8\n"
     ]
    }
   ],
   "source": [
    "plot_distortion_elbow(X_reduced, k=(1, 15), random_state=RANDOM_STATE)"
   ]
  },
  {
   "cell_type": "markdown",
   "id": "fd59019f-a6c5-4fb7-ae1f-0ec5178afd5e",
   "metadata": {},
   "source": [
    "### Silhouette Method"
   ]
  },
  {
   "cell_type": "code",
   "execution_count": 48,
   "id": "6fed5b9d-1c5f-42bf-9e74-76b873fb3199",
   "metadata": {},
   "outputs": [],
   "source": [
    "def plot_silhouette_elbow(df, k=(2, 10), random_state=0):\n",
    "    kmeans = KMeans(random_state=random_state)\n",
    "    visualizer = KElbowVisualizer(kmeans, k=k, metric='silhouette').fit(df)\n",
    "    visualizer.show()\n",
    "\n",
    "    print(f'Optimal clusters number: {visualizer.elbow_value_}')"
   ]
  },
  {
   "cell_type": "code",
   "execution_count": 49,
   "id": "5fd7c657-4427-4f44-a8a8-2734d7762fb8",
   "metadata": {},
   "outputs": [],
   "source": [
    "def plot_silhouette_visualization(df, k=2):\n",
    "    kmeans = KMeans(k, random_state=RANDOM_STATE)\n",
    "    visualizer = SilhouetteVisualizer(kmeans, colors='yellowbrick')\n",
    "    visualizer.fit(df)        \n",
    "    visualizer.show()\n",
    "\n",
    "    print(f'Average silhouette score: {visualizer.silhouette_score_}')"
   ]
  },
  {
   "cell_type": "code",
   "execution_count": 50,
   "id": "b9fafc4d-6b9a-40c2-ad2a-43c4966cedf7",
   "metadata": {},
   "outputs": [
    {
     "data": {
      "image/png": "[encoded data removed]",
      "text/plain": [
       "<Figure size 800x550 with 2 Axes>"
      ]
     },
     "metadata": {},
     "output_type": "display_data"
    },
    {
     "name": "stdout",
     "output_type": "stream",
     "text": [
      "Optimal clusters number: 3\n"
     ]
    }
   ],
   "source": [
    "plot_silhouette_elbow(X_reduced, k=(2, 12), random_state=RANDOM_STATE)"
   ]
  },
  {
   "cell_type": "code",
   "execution_count": 68,
   "id": "e32ba20b-26e2-4e1f-959b-a009891212de",
   "metadata": {},
   "outputs": [
    {
     "data": {
      "image/png": "[encoded data removed]",
      "text/plain": [
       "<Figure size 800x550 with 1 Axes>"
      ]
     },
     "metadata": {},
     "output_type": "display_data"
    },
    {
     "name": "stdout",
     "output_type": "stream",
     "text": [
      "Average silhouette score: 0.12932519504618428\n"
     ]
    }
   ],
   "source": [
    "plot_silhouette_visualization(X_reduced, 3)"
   ]
  },
  {
   "cell_type": "markdown",
   "id": "56bd7ad9-1c75-4069-b758-0fcc62d3a360",
   "metadata": {},
   "source": [
    "## 4.3 Agglomerative Clustering"
   ]
  },
  {
   "cell_type": "code",
   "execution_count": 62,
   "id": "1b7c3e86-825f-4b1e-90c2-595f03b7e1c0",
   "metadata": {},
   "outputs": [],
   "source": [
    "def plot_cut_dendrogram(*args, **kwargs):\n",
    "    max_d = kwargs.pop('max_d', None)\n",
    "    \n",
    "    if max_d and 'color_threshold' not in kwargs:\n",
    "        kwargs['color_threshold'] = max_d\n",
    "        \n",
    "    annotate_above = kwargs.pop('annotate_above', 0)\n",
    "\n",
    "    ddata = dendrogram(*args, **kwargs)\n",
    "\n",
    "    if not kwargs.get('no_plot', False):\n",
    "        plt.title('Dendrogram')\n",
    "        plt.xlabel('Number of elements (or cluster size)')\n",
    "        plt.ylabel('Distance')\n",
    "        for i, d, c in zip(ddata['icoord'], ddata['dcoord'], ddata['color_list']):\n",
    "            x = 0.5 * sum(i[1:3])\n",
    "            y = d[1]\n",
    "            if y > annotate_above:\n",
    "                plt.plot(x, y, 'o', c=c)\n",
    "                plt.annotate(f'{y:.3g}', (x, y), xytext=(0, -5), textcoords='offset points', va='top', ha='center')\n",
    "        if max_d:\n",
    "            plt.axhline(y=max_d, c='k')\n",
    "    return ddata"
   ]
  },
  {
   "cell_type": "code",
   "execution_count": 66,
   "id": "5410482f-bd61-427c-b3ea-5dbf3ca39bab",
   "metadata": {},
   "outputs": [
    {
     "data": {
      "image/png": "[encoded data removed]",
      "text/plain": [
       "<Figure size 800x550 with 1 Axes>"
      ]
     },
     "metadata": {},
     "output_type": "display_data"
    }
   ],
   "source": [
    "plot_cut_dendrogram(\n",
    "    linkage(X_reduced, method='ward'),\n",
    "    truncate_mode='lastp',\n",
    "    p=12,\n",
    "    leaf_rotation=90.,\n",
    "    leaf_font_size=12.,\n",
    "    show_contracted=True,\n",
    "    annotate_above=10,\n",
    "    max_d=205,\n",
    ")\n",
    "plt.show()"
   ]
  },
  {
   "cell_type": "code",
   "execution_count": 64,
   "id": "8653fa2c-3724-42f7-95c0-2b40349d8e4b",
   "metadata": {},
   "outputs": [],
   "source": [
    "agglomerative = AgglomerativeClustering(n_clusters=N_CLUSTERS)\n",
    "agglomerative.fit(X_reduced)\n",
    "agglomerative_labels = list(agglomerative.labels_)"
   ]
  },
  {
   "cell_type": "markdown",
   "id": "7031dd30-52d9-4525-a57b-13befcd79e1c",
   "metadata": {},
   "source": [
    "## 4.4 Evaluation"
   ]
  },
  {
   "cell_type": "code",
   "execution_count": 81,
   "id": "8a9b6efa-06ee-4f32-9ec2-165f5600277f",
   "metadata": {},
   "outputs": [],
   "source": [
    "def prop_transforms(df):\n",
    "    delta = 0.0001\n",
    "    \n",
    "    X = pd.DataFrame()\n",
    "    X['prop_counts'] = df['category_quantity_mall_counts'] / (df['category_quantity_mall_counts'].sum() + delta) * 100\n",
    "    X['prop_spent'] = df['category_quantity_mall_spent'] / (df['category_quantity_mall_spent'].sum() + delta) * 100\n",
    "    return X"
   ]
  },
  {
   "cell_type": "code",
   "execution_count": 82,
   "id": "af3f5a1a-25d5-4a1f-a6dd-853e29b19b87",
   "metadata": {},
   "outputs": [],
   "source": [
    "def describe_features_num(df, cluster, features_num_interesting):\n",
    "    return df.loc[df['cluster'] == cluster, features_num_interesting].describe().T"
   ]
  },
  {
   "cell_type": "code",
   "execution_count": 83,
   "id": "b34e5ec2-79bb-4dfa-bc40-e0d293315a5f",
   "metadata": {},
   "outputs": [],
   "source": [
    "def describe_features_cat(df, cluster, features_cat_interesting):\n",
    "    for feature in features_cat_interesting:\n",
    "        print(df.loc[df['cluster'] == cluster, feature].value_counts(normalize=True))\n",
    "        print()"
   ]
  },
  {
   "cell_type": "code",
   "execution_count": 84,
   "id": "c65326ab-965b-448e-9a0b-601236dd0010",
   "metadata": {},
   "outputs": [],
   "source": [
    "df_new_props = df_new.join(prop_transforms(df_new))\n",
    "df_new_props['cluster'] = agglomerative_labels"
   ]
  },
  {
   "cell_type": "markdown",
   "id": "e8f3ca6e-df21-41b6-9ca5-bb6936c2b35e",
   "metadata": {},
   "source": [
    "### Group 1"
   ]
  },
  {
   "cell_type": "code",
   "execution_count": 85,
   "id": "80a7285a-bb7b-4caa-8a41-06a9ab77498d",
   "metadata": {},
   "outputs": [
    {
     "data": {
      "text/html": [
       "<div>\n",
       "<style scoped>\n",
       "    .dataframe tbody tr th:only-of-type {\n",
       "        vertical-align: middle;\n",
       "    }\n",
       "\n",
       "    .dataframe tbody tr th {\n",
       "        vertical-align: top;\n",
       "    }\n",
       "\n",
       "    .dataframe thead th {\n",
       "        text-align: right;\n",
       "    }\n",
       "</style>\n",
       "<table border=\"1\" class=\"dataframe\">\n",
       "  <thead>\n",
       "    <tr style=\"text-align: right;\">\n",
       "      <th></th>\n",
       "      <th>count</th>\n",
       "      <th>mean</th>\n",
       "      <th>std</th>\n",
       "      <th>min</th>\n",
       "      <th>25%</th>\n",
       "      <th>50%</th>\n",
       "      <th>75%</th>\n",
       "      <th>max</th>\n",
       "    </tr>\n",
       "  </thead>\n",
       "  <tbody>\n",
       "    <tr>\n",
       "      <th>price</th>\n",
       "      <td>3616.0</td>\n",
       "      <td>442.533197</td>\n",
       "      <td>652.031652</td>\n",
       "      <td>5.230000</td>\n",
       "      <td>30.300000</td>\n",
       "      <td>81.320000</td>\n",
       "      <td>600.170000</td>\n",
       "      <td>3000.850000</td>\n",
       "    </tr>\n",
       "    <tr>\n",
       "      <th>prop_counts</th>\n",
       "      <td>3616.0</td>\n",
       "      <td>0.001839</td>\n",
       "      <td>0.001013</td>\n",
       "      <td>0.000239</td>\n",
       "      <td>0.001050</td>\n",
       "      <td>0.001527</td>\n",
       "      <td>0.002863</td>\n",
       "      <td>0.004008</td>\n",
       "    </tr>\n",
       "    <tr>\n",
       "      <th>prop_spent</th>\n",
       "      <td>3616.0</td>\n",
       "      <td>0.001464</td>\n",
       "      <td>0.002135</td>\n",
       "      <td>0.000006</td>\n",
       "      <td>0.000046</td>\n",
       "      <td>0.000170</td>\n",
       "      <td>0.002395</td>\n",
       "      <td>0.007330</td>\n",
       "    </tr>\n",
       "  </tbody>\n",
       "</table>\n",
       "</div>"
      ],
      "text/plain": [
       "              count        mean         std       min        25%        50%  \\\n",
       "price        3616.0  442.533197  652.031652  5.230000  30.300000  81.320000   \n",
       "prop_counts  3616.0    0.001839    0.001013  0.000239   0.001050   0.001527   \n",
       "prop_spent   3616.0    0.001464    0.002135  0.000006   0.000046   0.000170   \n",
       "\n",
       "                    75%          max  \n",
       "price        600.170000  3000.850000  \n",
       "prop_counts    0.002863     0.004008  \n",
       "prop_spent     0.002395     0.007330  "
      ]
     },
     "execution_count": 85,
     "metadata": {},
     "output_type": "execute_result"
    }
   ],
   "source": [
    "describe_features_num(df_new_props, 0, FEATURES_NUM_INTERESTING)"
   ]
  },
  {
   "cell_type": "code",
   "execution_count": 86,
   "id": "546e54bc-2613-4928-a460-2d4d7265886e",
   "metadata": {},
   "outputs": [
    {
     "name": "stdout",
     "output_type": "stream",
     "text": [
      "gender\n",
      "Female    0.595962\n",
      "Male      0.404038\n",
      "Name: proportion, dtype: float64\n",
      "\n",
      "category\n",
      "Clothing           0.280973\n",
      "Souvenir           0.261062\n",
      "Food & Beverage    0.128872\n",
      "Cosmetics          0.119469\n",
      "Toys               0.086007\n",
      "Shoes              0.084624\n",
      "Books              0.038993\n",
      "Technology         0.000000\n",
      "Name: proportion, dtype: float64\n",
      "\n",
      "quantity\n",
      "1    0.202157\n",
      "4    0.201604\n",
      "3    0.199945\n",
      "2    0.199115\n",
      "5    0.197179\n",
      "Name: proportion, dtype: float64\n",
      "\n",
      "payment_method\n",
      "Cash           0.444690\n",
      "Credit Card    0.359513\n",
      "Debit Card     0.195796\n",
      "Name: proportion, dtype: float64\n",
      "\n",
      "shopping_mall\n",
      "Forum Istanbul       0.268805\n",
      "Zorlu Center         0.257190\n",
      "Viaport Outlet       0.254978\n",
      "Mall of Istanbul     0.058905\n",
      "Kanyon               0.053374\n",
      "Metrocity            0.040100\n",
      "Istinye Park         0.029591\n",
      "Metropol AVM         0.023783\n",
      "Cevahir AVM          0.013274\n",
      "Emaar Square Mall    0.000000\n",
      "Name: proportion, dtype: float64\n",
      "\n",
      "age_group\n",
      "Youth       0.498617\n",
      "Average     0.288993\n",
      "Elderly     0.190265\n",
      "Juvenile    0.022124\n",
      "Name: proportion, dtype: float64\n",
      "\n",
      "season\n",
      "Winter    0.308628\n",
      "Spring    0.239768\n",
      "Summer    0.235896\n",
      "Fall      0.215708\n",
      "Name: proportion, dtype: float64\n",
      "\n"
     ]
    }
   ],
   "source": [
    "describe_features_cat(df_new_props, 0, FEATURES_CAT_INTERESTING)"
   ]
  },
  {
   "cell_type": "markdown",
   "id": "1709dcdb-0673-487f-abe6-e2f098d3d5d3",
   "metadata": {},
   "source": [
    "### Group 2"
   ]
  },
  {
   "cell_type": "code",
   "execution_count": 87,
   "id": "a52cbef2-26d0-42c9-af69-85143fec660e",
   "metadata": {},
   "outputs": [
    {
     "data": {
      "text/html": [
       "<div>\n",
       "<style scoped>\n",
       "    .dataframe tbody tr th:only-of-type {\n",
       "        vertical-align: middle;\n",
       "    }\n",
       "\n",
       "    .dataframe tbody tr th {\n",
       "        vertical-align: top;\n",
       "    }\n",
       "\n",
       "    .dataframe thead th {\n",
       "        text-align: right;\n",
       "    }\n",
       "</style>\n",
       "<table border=\"1\" class=\"dataframe\">\n",
       "  <thead>\n",
       "    <tr style=\"text-align: right;\">\n",
       "      <th></th>\n",
       "      <th>count</th>\n",
       "      <th>mean</th>\n",
       "      <th>std</th>\n",
       "      <th>min</th>\n",
       "      <th>25%</th>\n",
       "      <th>50%</th>\n",
       "      <th>75%</th>\n",
       "      <th>max</th>\n",
       "    </tr>\n",
       "  </thead>\n",
       "  <tbody>\n",
       "    <tr>\n",
       "      <th>price</th>\n",
       "      <td>8539.0</td>\n",
       "      <td>208.057383</td>\n",
       "      <td>354.465997</td>\n",
       "      <td>5.230000</td>\n",
       "      <td>26.150000</td>\n",
       "      <td>81.320000</td>\n",
       "      <td>179.200000</td>\n",
       "      <td>1500.400000</td>\n",
       "    </tr>\n",
       "    <tr>\n",
       "      <th>prop_counts</th>\n",
       "      <td>8539.0</td>\n",
       "      <td>0.004284</td>\n",
       "      <td>0.001828</td>\n",
       "      <td>0.000191</td>\n",
       "      <td>0.002815</td>\n",
       "      <td>0.004198</td>\n",
       "      <td>0.005868</td>\n",
       "      <td>0.007490</td>\n",
       "    </tr>\n",
       "    <tr>\n",
       "      <th>prop_spent</th>\n",
       "      <td>8539.0</td>\n",
       "      <td>0.001729</td>\n",
       "      <td>0.003501</td>\n",
       "      <td>0.000008</td>\n",
       "      <td>0.000125</td>\n",
       "      <td>0.000316</td>\n",
       "      <td>0.001083</td>\n",
       "      <td>0.015796</td>\n",
       "    </tr>\n",
       "  </tbody>\n",
       "</table>\n",
       "</div>"
      ],
      "text/plain": [
       "              count        mean         std       min        25%        50%  \\\n",
       "price        8539.0  208.057383  354.465997  5.230000  26.150000  81.320000   \n",
       "prop_counts  8539.0    0.004284    0.001828  0.000191   0.002815   0.004198   \n",
       "prop_spent   8539.0    0.001729    0.003501  0.000008   0.000125   0.000316   \n",
       "\n",
       "                    75%          max  \n",
       "price        179.200000  1500.400000  \n",
       "prop_counts    0.005868     0.007490  \n",
       "prop_spent     0.001083     0.015796  "
      ]
     },
     "execution_count": 87,
     "metadata": {},
     "output_type": "execute_result"
    }
   ],
   "source": [
    "describe_features_num(df_new_props, 1, FEATURES_NUM_INTERESTING)"
   ]
  },
  {
   "cell_type": "code",
   "execution_count": 88,
   "id": "6509d6e2-2ece-432a-a663-c2c4f331f09a",
   "metadata": {},
   "outputs": [
    {
     "name": "stdout",
     "output_type": "stream",
     "text": [
      "gender\n",
      "Female    0.596323\n",
      "Male      0.403677\n",
      "Name: proportion, dtype: float64\n",
      "\n",
      "category\n",
      "Cosmetics          0.284577\n",
      "Food & Beverage    0.279775\n",
      "Toys               0.188781\n",
      "Clothing           0.157630\n",
      "Books              0.089238\n",
      "Shoes              0.000000\n",
      "Souvenir           0.000000\n",
      "Technology         0.000000\n",
      "Name: proportion, dtype: float64\n",
      "\n",
      "quantity\n",
      "3    0.204825\n",
      "5    0.204239\n",
      "2    0.198033\n",
      "1    0.196510\n",
      "4    0.196393\n",
      "Name: proportion, dtype: float64\n",
      "\n",
      "payment_method\n",
      "Cash           0.458719\n",
      "Credit Card    0.349573\n",
      "Debit Card     0.191709\n",
      "Name: proportion, dtype: float64\n",
      "\n",
      "shopping_mall\n",
      "Kanyon               0.213491\n",
      "Mall of Istanbul     0.210798\n",
      "Metropol AVM         0.190069\n",
      "Istinye Park         0.176719\n",
      "Metrocity            0.153999\n",
      "Cevahir AVM          0.054924\n",
      "Emaar Square Mall    0.000000\n",
      "Forum Istanbul       0.000000\n",
      "Viaport Outlet       0.000000\n",
      "Zorlu Center         0.000000\n",
      "Name: proportion, dtype: float64\n",
      "\n",
      "age_group\n",
      "Youth       0.510598\n",
      "Average     0.279307\n",
      "Elderly     0.190303\n",
      "Juvenile    0.019792\n",
      "Name: proportion, dtype: float64\n",
      "\n",
      "season\n",
      "Winter    0.292891\n",
      "Spring    0.240543\n",
      "Summer    0.233751\n",
      "Fall      0.232814\n",
      "Name: proportion, dtype: float64\n",
      "\n"
     ]
    }
   ],
   "source": [
    "describe_features_cat(df_new_props, 1, FEATURES_CAT_INTERESTING)"
   ]
  },
  {
   "cell_type": "markdown",
   "id": "2337c8f9-a2c4-4655-9d25-f83ec77b3623",
   "metadata": {},
   "source": [
    "### Group 3"
   ]
  },
  {
   "cell_type": "code",
   "execution_count": 89,
   "id": "0e2b56fd-bd2f-4030-b258-e819b74cc8dc",
   "metadata": {},
   "outputs": [
    {
     "data": {
      "text/html": [
       "<div>\n",
       "<style scoped>\n",
       "    .dataframe tbody tr th:only-of-type {\n",
       "        vertical-align: middle;\n",
       "    }\n",
       "\n",
       "    .dataframe tbody tr th {\n",
       "        vertical-align: top;\n",
       "    }\n",
       "\n",
       "    .dataframe thead th {\n",
       "        text-align: right;\n",
       "    }\n",
       "</style>\n",
       "<table border=\"1\" class=\"dataframe\">\n",
       "  <thead>\n",
       "    <tr style=\"text-align: right;\">\n",
       "      <th></th>\n",
       "      <th>count</th>\n",
       "      <th>mean</th>\n",
       "      <th>std</th>\n",
       "      <th>min</th>\n",
       "      <th>25%</th>\n",
       "      <th>50%</th>\n",
       "      <th>75%</th>\n",
       "      <th>max</th>\n",
       "    </tr>\n",
       "  </thead>\n",
       "  <tbody>\n",
       "    <tr>\n",
       "      <th>price</th>\n",
       "      <td>4226.0</td>\n",
       "      <td>893.778268</td>\n",
       "      <td>423.347418</td>\n",
       "      <td>300.080000</td>\n",
       "      <td>600.160000</td>\n",
       "      <td>900.240000</td>\n",
       "      <td>1200.320000</td>\n",
       "      <td>1500.400000</td>\n",
       "    </tr>\n",
       "    <tr>\n",
       "      <th>prop_counts</th>\n",
       "      <td>4226.0</td>\n",
       "      <td>0.011732</td>\n",
       "      <td>0.002884</td>\n",
       "      <td>0.002863</td>\n",
       "      <td>0.010639</td>\n",
       "      <td>0.012691</td>\n",
       "      <td>0.013454</td>\n",
       "      <td>0.015028</td>\n",
       "    </tr>\n",
       "    <tr>\n",
       "      <th>prop_spent</th>\n",
       "      <td>4226.0</td>\n",
       "      <td>0.015017</td>\n",
       "      <td>0.007983</td>\n",
       "      <td>0.001466</td>\n",
       "      <td>0.006442</td>\n",
       "      <td>0.013009</td>\n",
       "      <td>0.021557</td>\n",
       "      <td>0.029527</td>\n",
       "    </tr>\n",
       "  </tbody>\n",
       "</table>\n",
       "</div>"
      ],
      "text/plain": [
       "              count        mean         std         min         25%  \\\n",
       "price        4226.0  893.778268  423.347418  300.080000  600.160000   \n",
       "prop_counts  4226.0    0.011732    0.002884    0.002863    0.010639   \n",
       "prop_spent   4226.0    0.015017    0.007983    0.001466    0.006442   \n",
       "\n",
       "                    50%          75%          max  \n",
       "price        900.240000  1200.320000  1500.400000  \n",
       "prop_counts    0.012691     0.013454     0.015028  \n",
       "prop_spent     0.013009     0.021557     0.029527  "
      ]
     },
     "execution_count": 89,
     "metadata": {},
     "output_type": "execute_result"
    }
   ],
   "source": [
    "describe_features_num(df_new_props, 2, FEATURES_NUM_INTERESTING)"
   ]
  },
  {
   "cell_type": "code",
   "execution_count": 90,
   "id": "2849140c-0906-45d3-bc49-330a9e69a944",
   "metadata": {},
   "outputs": [
    {
     "name": "stdout",
     "output_type": "stream",
     "text": [
      "gender\n",
      "Female    0.592286\n",
      "Male      0.407714\n",
      "Name: proportion, dtype: float64\n",
      "\n",
      "category\n",
      "Clothing           1.0\n",
      "Books              0.0\n",
      "Cosmetics          0.0\n",
      "Food & Beverage    0.0\n",
      "Shoes              0.0\n",
      "Souvenir           0.0\n",
      "Technology         0.0\n",
      "Toys               0.0\n",
      "Name: proportion, dtype: float64\n",
      "\n",
      "quantity\n",
      "2    0.211548\n",
      "1    0.199716\n",
      "4    0.199006\n",
      "5    0.195220\n",
      "3    0.194510\n",
      "Name: proportion, dtype: float64\n",
      "\n",
      "payment_method\n",
      "Cash           0.450544\n",
      "Credit Card    0.336252\n",
      "Debit Card     0.213204\n",
      "Name: proportion, dtype: float64\n",
      "\n",
      "shopping_mall\n",
      "Mall of Istanbul     0.331756\n",
      "Kanyon               0.326550\n",
      "Metrocity            0.257690\n",
      "Cevahir AVM          0.084004\n",
      "Emaar Square Mall    0.000000\n",
      "Forum Istanbul       0.000000\n",
      "Istinye Park         0.000000\n",
      "Metropol AVM         0.000000\n",
      "Viaport Outlet       0.000000\n",
      "Zorlu Center         0.000000\n",
      "Name: proportion, dtype: float64\n",
      "\n",
      "age_group\n",
      "Youth       0.510175\n",
      "Average     0.291529\n",
      "Elderly     0.183152\n",
      "Juvenile    0.015144\n",
      "Name: proportion, dtype: float64\n",
      "\n",
      "season\n",
      "Winter    0.298628\n",
      "Spring    0.238760\n",
      "Fall      0.235211\n",
      "Summer    0.227402\n",
      "Name: proportion, dtype: float64\n",
      "\n"
     ]
    }
   ],
   "source": [
    "describe_features_cat(df_new_props, 2, FEATURES_CAT_INTERESTING)"
   ]
  }
 ],
 "metadata": {
  "kernelspec": {
   "display_name": "Python 3 (ipykernel)",
   "language": "python",
   "name": "python3"
  },
  "language_info": {
   "codemirror_mode": {
    "name": "ipython",
    "version": 3
   },
   "file_extension": ".py",
   "mimetype": "text/x-python",
   "name": "python",
   "nbconvert_exporter": "python",
   "pygments_lexer": "ipython3",
   "version": "3.11.5"
  }
 },
 "nbformat": 4,
 "nbformat_minor": 5
}
