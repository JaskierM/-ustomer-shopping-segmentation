{
 "cells": [
  {
   "cell_type": "markdown",
   "id": "519495d1-6735-4e35-abd4-ea2a42643b3f",
   "metadata": {},
   "source": [
    "## 1 Preliminaries"
   ]
  },
  {
   "cell_type": "markdown",
   "id": "05727ff3-3918-471e-bc35-711263da4beb",
   "metadata": {},
   "source": [
    "## 1.1 Imports and Configurations"
   ]
  },
  {
   "cell_type": "markdown",
   "id": "9f4c9cf1-a939-4c9e-b34a-0525563e6898",
   "metadata": {},
   "source": [
    "### Imports"
   ]
  },
  {
   "cell_type": "code",
   "execution_count": 1,
   "id": "e87775a7-4c5d-4154-8565-4092ed107ea5",
   "metadata": {},
   "outputs": [],
   "source": [
    "import warnings\n",
    "import numpy as np\n",
    "import pandas as pd\n",
    "import matplotlib.pyplot as plt\n",
    "import seaborn as sns\n",
    "import sklearn\n",
    "import random\n",
    "import math\n",
    "\n",
    "from pathlib import Path\n",
    "from pandas.api.types import CategoricalDtype\n",
    "from ydata_profiling import ProfileReport\n",
    "from yellowbrick.cluster import KElbowVisualizer, SilhouetteVisualizer\n",
    "from scipy.cluster.hierarchy import linkage, dendrogram\n",
    "from sklearn.feature_selection import mutual_info_regression\n",
    "from sklearn.pipeline import Pipeline\n",
    "from sklearn.compose import ColumnTransformer\n",
    "from sklearn.impute import SimpleImputer\n",
    "from sklearn.preprocessing import StandardScaler, QuantileTransformer, OneHotEncoder, OrdinalEncoder\n",
    "from sklearn.decomposition import PCA\n",
    "from sklearn.neighbors import NearestNeighbors\n",
    "from sklearn.cluster import KMeans, AgglomerativeClustering, DBSCAN"
   ]
  },
  {
   "cell_type": "markdown",
   "id": "aba0bdfb-49d1-4636-a45a-9c348ebb05ed",
   "metadata": {},
   "source": [
    "### Constants"
   ]
  },
  {
   "cell_type": "code",
   "execution_count": 44,
   "id": "eaa92e43-fd45-4bc1-bb20-12d0bd787c5c",
   "metadata": {},
   "outputs": [],
   "source": [
    "# 1 Preliminaries\n",
    "\n",
    "RANDOM_STATE = 42\n",
    "\n",
    "MARKETING_PATH =  Path('../data/raw/customer_shopping_data.csv')\n",
    "REPORTS_DIR = Path('../reports/')\n",
    "\n",
    "FEATURES_TO_DEL = ['invoice_no', 'customer_id']\n",
    "\n",
    "FEATURE_OUTLIER_THRESHOLDS = {\n",
    "    'price': {'upper': 4000},\n",
    "}\n",
    "\n",
    "FEATURES_CAT = ['gender', 'category', 'payment_method', 'shopping_mall']\n",
    "FEATURES_DATE = ['invoice_date']\n",
    "\n",
    "FEATURE_ORD_LEVELS = {\n",
    "    'quantity': ['1', '2', '3', '4', '5'],\n",
    "}\n",
    "\n",
    "# 2 Feature Utility Scores\n",
    "\n",
    "MI_SCORES_FEATURE_TO_ESTIMATE = 'price'\n",
    "MI_SCORES_THRESHOLD = 0"
   ]
  },
  {
   "cell_type": "markdown",
   "id": "32a27c62-0089-42b2-94da-8e1adc9898b0",
   "metadata": {},
   "source": [
    "### Configs"
   ]
  },
  {
   "cell_type": "code",
   "execution_count": 3,
   "id": "f80f6ae9-f3a1-47ed-88ee-b108e68002e4",
   "metadata": {},
   "outputs": [],
   "source": [
    "warnings.filterwarnings('ignore')\n",
    "\n",
    "random.seed(RANDOM_STATE)\n",
    "np.random.seed(RANDOM_STATE)\n",
    "\n",
    "REPORTS_DIR.mkdir(exist_ok=True)"
   ]
  },
  {
   "cell_type": "markdown",
   "id": "104fa4fb-a335-4de5-ad77-9fb6a5bd5a3a",
   "metadata": {},
   "source": [
    "## 1.2 Data Preprocessing"
   ]
  },
  {
   "cell_type": "markdown",
   "id": "0c798984-adf5-48a7-9127-8a7dc56d696a",
   "metadata": {},
   "source": [
    "### Read"
   ]
  },
  {
   "cell_type": "code",
   "execution_count": 4,
   "id": "6ca4cbdb-0f69-4c0a-bc27-5ecd78f1c721",
   "metadata": {},
   "outputs": [],
   "source": [
    "def read_data(path):\n",
    "    return pd.read_csv(path)"
   ]
  },
  {
   "cell_type": "code",
   "execution_count": 5,
   "id": "1a4ce77a-ac30-4b08-9073-970f20835709",
   "metadata": {},
   "outputs": [
    {
     "data": {
      "text/html": [
       "<div>\n",
       "<style scoped>\n",
       "    .dataframe tbody tr th:only-of-type {\n",
       "        vertical-align: middle;\n",
       "    }\n",
       "\n",
       "    .dataframe tbody tr th {\n",
       "        vertical-align: top;\n",
       "    }\n",
       "\n",
       "    .dataframe thead th {\n",
       "        text-align: right;\n",
       "    }\n",
       "</style>\n",
       "<table border=\"1\" class=\"dataframe\">\n",
       "  <thead>\n",
       "    <tr style=\"text-align: right;\">\n",
       "      <th></th>\n",
       "      <th>invoice_no</th>\n",
       "      <th>customer_id</th>\n",
       "      <th>gender</th>\n",
       "      <th>age</th>\n",
       "      <th>category</th>\n",
       "      <th>quantity</th>\n",
       "      <th>price</th>\n",
       "      <th>payment_method</th>\n",
       "      <th>invoice_date</th>\n",
       "      <th>shopping_mall</th>\n",
       "    </tr>\n",
       "  </thead>\n",
       "  <tbody>\n",
       "    <tr>\n",
       "      <th>0</th>\n",
       "      <td>I138884</td>\n",
       "      <td>C241288</td>\n",
       "      <td>Female</td>\n",
       "      <td>28</td>\n",
       "      <td>Clothing</td>\n",
       "      <td>5</td>\n",
       "      <td>1500.40</td>\n",
       "      <td>Credit Card</td>\n",
       "      <td>5/8/2022</td>\n",
       "      <td>Kanyon</td>\n",
       "    </tr>\n",
       "    <tr>\n",
       "      <th>1</th>\n",
       "      <td>I317333</td>\n",
       "      <td>C111565</td>\n",
       "      <td>Male</td>\n",
       "      <td>21</td>\n",
       "      <td>Shoes</td>\n",
       "      <td>3</td>\n",
       "      <td>1800.51</td>\n",
       "      <td>Debit Card</td>\n",
       "      <td>12/12/2021</td>\n",
       "      <td>Forum Istanbul</td>\n",
       "    </tr>\n",
       "    <tr>\n",
       "      <th>2</th>\n",
       "      <td>I127801</td>\n",
       "      <td>C266599</td>\n",
       "      <td>Male</td>\n",
       "      <td>20</td>\n",
       "      <td>Clothing</td>\n",
       "      <td>1</td>\n",
       "      <td>300.08</td>\n",
       "      <td>Cash</td>\n",
       "      <td>9/11/2021</td>\n",
       "      <td>Metrocity</td>\n",
       "    </tr>\n",
       "    <tr>\n",
       "      <th>3</th>\n",
       "      <td>I173702</td>\n",
       "      <td>C988172</td>\n",
       "      <td>Female</td>\n",
       "      <td>66</td>\n",
       "      <td>Shoes</td>\n",
       "      <td>5</td>\n",
       "      <td>3000.85</td>\n",
       "      <td>Credit Card</td>\n",
       "      <td>16/05/2021</td>\n",
       "      <td>Metropol AVM</td>\n",
       "    </tr>\n",
       "    <tr>\n",
       "      <th>4</th>\n",
       "      <td>I337046</td>\n",
       "      <td>C189076</td>\n",
       "      <td>Female</td>\n",
       "      <td>53</td>\n",
       "      <td>Books</td>\n",
       "      <td>4</td>\n",
       "      <td>60.60</td>\n",
       "      <td>Cash</td>\n",
       "      <td>24/10/2021</td>\n",
       "      <td>Kanyon</td>\n",
       "    </tr>\n",
       "  </tbody>\n",
       "</table>\n",
       "</div>"
      ],
      "text/plain": [
       "  invoice_no customer_id  gender  age  category  quantity    price  \\\n",
       "0    I138884     C241288  Female   28  Clothing         5  1500.40   \n",
       "1    I317333     C111565    Male   21     Shoes         3  1800.51   \n",
       "2    I127801     C266599    Male   20  Clothing         1   300.08   \n",
       "3    I173702     C988172  Female   66     Shoes         5  3000.85   \n",
       "4    I337046     C189076  Female   53     Books         4    60.60   \n",
       "\n",
       "  payment_method invoice_date   shopping_mall  \n",
       "0    Credit Card     5/8/2022          Kanyon  \n",
       "1     Debit Card   12/12/2021  Forum Istanbul  \n",
       "2           Cash    9/11/2021       Metrocity  \n",
       "3    Credit Card   16/05/2021    Metropol AVM  \n",
       "4           Cash   24/10/2021          Kanyon  "
      ]
     },
     "execution_count": 5,
     "metadata": {},
     "output_type": "execute_result"
    }
   ],
   "source": [
    "df = read_data(MARKETING_PATH)\n",
    "df.head()"
   ]
  },
  {
   "cell_type": "markdown",
   "id": "c6f92338-a391-4b3f-a89c-4c01daca2c75",
   "metadata": {},
   "source": [
    "### Clean"
   ]
  },
  {
   "cell_type": "code",
   "execution_count": 6,
   "id": "7527961e-a85d-4c5f-850a-542bffd811dc",
   "metadata": {},
   "outputs": [],
   "source": [
    "def clean(df, features_to_del):\n",
    "    df = df.drop(columns=features_to_del)\n",
    "    return df"
   ]
  },
  {
   "cell_type": "code",
   "execution_count": 7,
   "id": "b9ded247-8ed1-4d41-b82f-2fd4d93f9264",
   "metadata": {},
   "outputs": [
    {
     "data": {
      "text/html": [
       "<div>\n",
       "<style scoped>\n",
       "    .dataframe tbody tr th:only-of-type {\n",
       "        vertical-align: middle;\n",
       "    }\n",
       "\n",
       "    .dataframe tbody tr th {\n",
       "        vertical-align: top;\n",
       "    }\n",
       "\n",
       "    .dataframe thead th {\n",
       "        text-align: right;\n",
       "    }\n",
       "</style>\n",
       "<table border=\"1\" class=\"dataframe\">\n",
       "  <thead>\n",
       "    <tr style=\"text-align: right;\">\n",
       "      <th></th>\n",
       "      <th>gender</th>\n",
       "      <th>age</th>\n",
       "      <th>category</th>\n",
       "      <th>quantity</th>\n",
       "      <th>price</th>\n",
       "      <th>payment_method</th>\n",
       "      <th>invoice_date</th>\n",
       "      <th>shopping_mall</th>\n",
       "    </tr>\n",
       "  </thead>\n",
       "  <tbody>\n",
       "    <tr>\n",
       "      <th>0</th>\n",
       "      <td>Female</td>\n",
       "      <td>28</td>\n",
       "      <td>Clothing</td>\n",
       "      <td>5</td>\n",
       "      <td>1500.40</td>\n",
       "      <td>Credit Card</td>\n",
       "      <td>5/8/2022</td>\n",
       "      <td>Kanyon</td>\n",
       "    </tr>\n",
       "    <tr>\n",
       "      <th>1</th>\n",
       "      <td>Male</td>\n",
       "      <td>21</td>\n",
       "      <td>Shoes</td>\n",
       "      <td>3</td>\n",
       "      <td>1800.51</td>\n",
       "      <td>Debit Card</td>\n",
       "      <td>12/12/2021</td>\n",
       "      <td>Forum Istanbul</td>\n",
       "    </tr>\n",
       "    <tr>\n",
       "      <th>2</th>\n",
       "      <td>Male</td>\n",
       "      <td>20</td>\n",
       "      <td>Clothing</td>\n",
       "      <td>1</td>\n",
       "      <td>300.08</td>\n",
       "      <td>Cash</td>\n",
       "      <td>9/11/2021</td>\n",
       "      <td>Metrocity</td>\n",
       "    </tr>\n",
       "    <tr>\n",
       "      <th>3</th>\n",
       "      <td>Female</td>\n",
       "      <td>66</td>\n",
       "      <td>Shoes</td>\n",
       "      <td>5</td>\n",
       "      <td>3000.85</td>\n",
       "      <td>Credit Card</td>\n",
       "      <td>16/05/2021</td>\n",
       "      <td>Metropol AVM</td>\n",
       "    </tr>\n",
       "    <tr>\n",
       "      <th>4</th>\n",
       "      <td>Female</td>\n",
       "      <td>53</td>\n",
       "      <td>Books</td>\n",
       "      <td>4</td>\n",
       "      <td>60.60</td>\n",
       "      <td>Cash</td>\n",
       "      <td>24/10/2021</td>\n",
       "      <td>Kanyon</td>\n",
       "    </tr>\n",
       "  </tbody>\n",
       "</table>\n",
       "</div>"
      ],
      "text/plain": [
       "   gender  age  category  quantity    price payment_method invoice_date  \\\n",
       "0  Female   28  Clothing         5  1500.40    Credit Card     5/8/2022   \n",
       "1    Male   21     Shoes         3  1800.51     Debit Card   12/12/2021   \n",
       "2    Male   20  Clothing         1   300.08           Cash    9/11/2021   \n",
       "3  Female   66     Shoes         5  3000.85    Credit Card   16/05/2021   \n",
       "4  Female   53     Books         4    60.60           Cash   24/10/2021   \n",
       "\n",
       "    shopping_mall  \n",
       "0          Kanyon  \n",
       "1  Forum Istanbul  \n",
       "2       Metrocity  \n",
       "3    Metropol AVM  \n",
       "4          Kanyon  "
      ]
     },
     "execution_count": 7,
     "metadata": {},
     "output_type": "execute_result"
    }
   ],
   "source": [
    "df = clean(df, FEATURES_TO_DEL) \n",
    "df.head()"
   ]
  },
  {
   "cell_type": "markdown",
   "id": "41a4f101-a861-4c28-b7f7-6eb39ba707e6",
   "metadata": {},
   "source": [
    "### Missing Values"
   ]
  },
  {
   "cell_type": "code",
   "execution_count": 8,
   "id": "e133392c-8bc3-48b2-bba8-5126a214ad34",
   "metadata": {},
   "outputs": [
    {
     "data": {
      "text/plain": [
       "0"
      ]
     },
     "execution_count": 8,
     "metadata": {},
     "output_type": "execute_result"
    }
   ],
   "source": [
    "df.isna().sum().sum()"
   ]
  },
  {
   "cell_type": "markdown",
   "id": "a41993de-d793-4605-adb9-ba4178ff8d6f",
   "metadata": {},
   "source": [
    "### Outliers"
   ]
  },
  {
   "cell_type": "code",
   "execution_count": 9,
   "id": "2357d96f-86af-4355-ae23-f99b487797c0",
   "metadata": {},
   "outputs": [],
   "source": [
    "def get_outlier_indexes(df, feature_outlier_thresholds):\n",
    "    outlier_indexes = set()\n",
    "    \n",
    "    for feature, thresholds in feature_outlier_thresholds.items():\n",
    "        if 'upper' in thresholds.keys():\n",
    "            outlier_indexes = outlier_indexes.union(set(df[df[feature] > thresholds['upper']].index))\n",
    "        elif 'lower' in thresholds.keys():\n",
    "            outlier_indexes = outlier_indexes.union(set(df[df[feature] < thresholds['lower']].index))\n",
    "\n",
    "    return list(outlier_indexes)"
   ]
  },
  {
   "cell_type": "code",
   "execution_count": 10,
   "id": "228b95f7-af7a-4df6-9d5f-625445eb0166",
   "metadata": {},
   "outputs": [],
   "source": [
    "def drop_outliers(df, outlier_indexes):\n",
    "    return df.drop(index=outlier_indexes)"
   ]
  },
  {
   "cell_type": "code",
   "execution_count": 13,
   "id": "0445a264-524d-4256-9c2d-f1e314de0970",
   "metadata": {},
   "outputs": [
    {
     "data": {
      "text/plain": [
       "2002"
      ]
     },
     "execution_count": 13,
     "metadata": {},
     "output_type": "execute_result"
    }
   ],
   "source": [
    "outlier_indexes = get_outlier_indexes(df, FEATURE_OUTLIER_THRESHOLDS)\n",
    "len(outlier_indexes)"
   ]
  },
  {
   "cell_type": "code",
   "execution_count": 14,
   "id": "8b903f76-f76b-4c5e-8cc8-42c502b109ff",
   "metadata": {},
   "outputs": [
    {
     "data": {
      "text/plain": [
       "(97455, 8)"
      ]
     },
     "execution_count": 14,
     "metadata": {},
     "output_type": "execute_result"
    }
   ],
   "source": [
    "df_without_outliers = drop_outliers(df, outlier_indexes)\n",
    "df_without_outliers.shape"
   ]
  },
  {
   "cell_type": "markdown",
   "id": "3e5f1e11-eb31-4f14-a397-1cddb8bbaece",
   "metadata": {},
   "source": [
    "### Encode"
   ]
  },
  {
   "cell_type": "code",
   "execution_count": 17,
   "id": "44b6df64-cdf3-4217-82c0-7412239fc3f0",
   "metadata": {},
   "outputs": [],
   "source": [
    "def encode(df, features_cat, features_date, feature_ord_levels, format='%d-%m-%Y'):\n",
    "    \n",
    "    def encode_cat(df, features_cat):\n",
    "        for feature in features_cat:\n",
    "            df[feature] = df[feature].astype('category')\n",
    "        return df\n",
    "\n",
    "    def encode_date(df, features_date):\n",
    "        for feature in features_date:\n",
    "            df[feature] = pd.to_datetime(df[feature], format=format)\n",
    "        return df\n",
    "\n",
    "    def encode_ord(df, feature_ord_levels):\n",
    "        for feature, levels in feature_ord_levels.items():\n",
    "            df[feature] = df[feature].astype(CategoricalDtype(levels, ordered=True))\n",
    "        return df\n",
    "    \n",
    "    df = encode_cat(df, features_cat)\n",
    "    df = encode_date(df, features_date)\n",
    "    df = encode_ord(df, feature_ord_levels)\n",
    "    return df"
   ]
  },
  {
   "cell_type": "code",
   "execution_count": 18,
   "id": "f1f95f05-8b8c-4d82-a067-8dd2d73ab569",
   "metadata": {},
   "outputs": [
    {
     "data": {
      "text/html": [
       "<div>\n",
       "<style scoped>\n",
       "    .dataframe tbody tr th:only-of-type {\n",
       "        vertical-align: middle;\n",
       "    }\n",
       "\n",
       "    .dataframe tbody tr th {\n",
       "        vertical-align: top;\n",
       "    }\n",
       "\n",
       "    .dataframe thead th {\n",
       "        text-align: right;\n",
       "    }\n",
       "</style>\n",
       "<table border=\"1\" class=\"dataframe\">\n",
       "  <thead>\n",
       "    <tr style=\"text-align: right;\">\n",
       "      <th></th>\n",
       "      <th>gender</th>\n",
       "      <th>age</th>\n",
       "      <th>category</th>\n",
       "      <th>quantity</th>\n",
       "      <th>price</th>\n",
       "      <th>payment_method</th>\n",
       "      <th>invoice_date</th>\n",
       "      <th>shopping_mall</th>\n",
       "    </tr>\n",
       "  </thead>\n",
       "  <tbody>\n",
       "    <tr>\n",
       "      <th>0</th>\n",
       "      <td>Female</td>\n",
       "      <td>28</td>\n",
       "      <td>Clothing</td>\n",
       "      <td>NaN</td>\n",
       "      <td>1500.40</td>\n",
       "      <td>Credit Card</td>\n",
       "      <td>2022-08-05</td>\n",
       "      <td>Kanyon</td>\n",
       "    </tr>\n",
       "    <tr>\n",
       "      <th>1</th>\n",
       "      <td>Male</td>\n",
       "      <td>21</td>\n",
       "      <td>Shoes</td>\n",
       "      <td>NaN</td>\n",
       "      <td>1800.51</td>\n",
       "      <td>Debit Card</td>\n",
       "      <td>2021-12-12</td>\n",
       "      <td>Forum Istanbul</td>\n",
       "    </tr>\n",
       "    <tr>\n",
       "      <th>2</th>\n",
       "      <td>Male</td>\n",
       "      <td>20</td>\n",
       "      <td>Clothing</td>\n",
       "      <td>NaN</td>\n",
       "      <td>300.08</td>\n",
       "      <td>Cash</td>\n",
       "      <td>2021-11-09</td>\n",
       "      <td>Metrocity</td>\n",
       "    </tr>\n",
       "    <tr>\n",
       "      <th>3</th>\n",
       "      <td>Female</td>\n",
       "      <td>66</td>\n",
       "      <td>Shoes</td>\n",
       "      <td>NaN</td>\n",
       "      <td>3000.85</td>\n",
       "      <td>Credit Card</td>\n",
       "      <td>2021-05-16</td>\n",
       "      <td>Metropol AVM</td>\n",
       "    </tr>\n",
       "    <tr>\n",
       "      <th>4</th>\n",
       "      <td>Female</td>\n",
       "      <td>53</td>\n",
       "      <td>Books</td>\n",
       "      <td>NaN</td>\n",
       "      <td>60.60</td>\n",
       "      <td>Cash</td>\n",
       "      <td>2021-10-24</td>\n",
       "      <td>Kanyon</td>\n",
       "    </tr>\n",
       "  </tbody>\n",
       "</table>\n",
       "</div>"
      ],
      "text/plain": [
       "   gender  age  category quantity    price payment_method invoice_date  \\\n",
       "0  Female   28  Clothing      NaN  1500.40    Credit Card   2022-08-05   \n",
       "1    Male   21     Shoes      NaN  1800.51     Debit Card   2021-12-12   \n",
       "2    Male   20  Clothing      NaN   300.08           Cash   2021-11-09   \n",
       "3  Female   66     Shoes      NaN  3000.85    Credit Card   2021-05-16   \n",
       "4  Female   53     Books      NaN    60.60           Cash   2021-10-24   \n",
       "\n",
       "    shopping_mall  \n",
       "0          Kanyon  \n",
       "1  Forum Istanbul  \n",
       "2       Metrocity  \n",
       "3    Metropol AVM  \n",
       "4          Kanyon  "
      ]
     },
     "execution_count": 18,
     "metadata": {},
     "output_type": "execute_result"
    }
   ],
   "source": [
    "df = encode(df, FEATURES_CAT,  FEATURES_DATE, FEATURE_ORD_LEVELS, format='%d/%m/%Y')\n",
    "df.head()"
   ]
  },
  {
   "cell_type": "code",
   "execution_count": 19,
   "id": "3653e3b1-9127-44a9-a7cf-2b44b71f9e01",
   "metadata": {},
   "outputs": [
    {
     "data": {
      "text/plain": [
       "gender                  category\n",
       "age                        int64\n",
       "category                category\n",
       "quantity                category\n",
       "price                    float64\n",
       "payment_method          category\n",
       "invoice_date      datetime64[ns]\n",
       "shopping_mall           category\n",
       "dtype: object"
      ]
     },
     "execution_count": 19,
     "metadata": {},
     "output_type": "execute_result"
    }
   ],
   "source": [
    "df.dtypes"
   ]
  },
  {
   "cell_type": "markdown",
   "id": "490c4dc1-d85c-4f45-8dcc-a27cd89c5d7f",
   "metadata": {},
   "source": [
    "### Summary"
   ]
  },
  {
   "cell_type": "code",
   "execution_count": 24,
   "id": "9c9363c0-64e2-4db9-bc1a-51b4351fa9e2",
   "metadata": {},
   "outputs": [],
   "source": [
    "def load_data(path, features_to_del, features_cat, features_date, feature_ord_levels):\n",
    "    df = read_data(path)\n",
    "    df = clean(df, features_to_del)\n",
    "    #df = impute(df)\n",
    "\n",
    "    outlier_indexes = get_outlier_indexes(df, FEATURE_OUTLIER_THRESHOLDS)\n",
    "    df = drop_outliers(df, outlier_indexes)\n",
    "    \n",
    "    df = encode(df, features_cat, features_date, feature_ord_levels, format='%d/%m/%Y')\n",
    "    return df"
   ]
  },
  {
   "cell_type": "code",
   "execution_count": 25,
   "id": "30134bd5-079e-4be5-b745-a65f026c091a",
   "metadata": {},
   "outputs": [
    {
     "data": {
      "text/html": [
       "<div>\n",
       "<style scoped>\n",
       "    .dataframe tbody tr th:only-of-type {\n",
       "        vertical-align: middle;\n",
       "    }\n",
       "\n",
       "    .dataframe tbody tr th {\n",
       "        vertical-align: top;\n",
       "    }\n",
       "\n",
       "    .dataframe thead th {\n",
       "        text-align: right;\n",
       "    }\n",
       "</style>\n",
       "<table border=\"1\" class=\"dataframe\">\n",
       "  <thead>\n",
       "    <tr style=\"text-align: right;\">\n",
       "      <th></th>\n",
       "      <th>gender</th>\n",
       "      <th>age</th>\n",
       "      <th>category</th>\n",
       "      <th>quantity</th>\n",
       "      <th>price</th>\n",
       "      <th>payment_method</th>\n",
       "      <th>invoice_date</th>\n",
       "      <th>shopping_mall</th>\n",
       "    </tr>\n",
       "  </thead>\n",
       "  <tbody>\n",
       "    <tr>\n",
       "      <th>0</th>\n",
       "      <td>Female</td>\n",
       "      <td>28</td>\n",
       "      <td>Clothing</td>\n",
       "      <td>NaN</td>\n",
       "      <td>1500.40</td>\n",
       "      <td>Credit Card</td>\n",
       "      <td>2022-08-05</td>\n",
       "      <td>Kanyon</td>\n",
       "    </tr>\n",
       "    <tr>\n",
       "      <th>1</th>\n",
       "      <td>Male</td>\n",
       "      <td>21</td>\n",
       "      <td>Shoes</td>\n",
       "      <td>NaN</td>\n",
       "      <td>1800.51</td>\n",
       "      <td>Debit Card</td>\n",
       "      <td>2021-12-12</td>\n",
       "      <td>Forum Istanbul</td>\n",
       "    </tr>\n",
       "    <tr>\n",
       "      <th>2</th>\n",
       "      <td>Male</td>\n",
       "      <td>20</td>\n",
       "      <td>Clothing</td>\n",
       "      <td>NaN</td>\n",
       "      <td>300.08</td>\n",
       "      <td>Cash</td>\n",
       "      <td>2021-11-09</td>\n",
       "      <td>Metrocity</td>\n",
       "    </tr>\n",
       "    <tr>\n",
       "      <th>3</th>\n",
       "      <td>Female</td>\n",
       "      <td>66</td>\n",
       "      <td>Shoes</td>\n",
       "      <td>NaN</td>\n",
       "      <td>3000.85</td>\n",
       "      <td>Credit Card</td>\n",
       "      <td>2021-05-16</td>\n",
       "      <td>Metropol AVM</td>\n",
       "    </tr>\n",
       "    <tr>\n",
       "      <th>4</th>\n",
       "      <td>Female</td>\n",
       "      <td>53</td>\n",
       "      <td>Books</td>\n",
       "      <td>NaN</td>\n",
       "      <td>60.60</td>\n",
       "      <td>Cash</td>\n",
       "      <td>2021-10-24</td>\n",
       "      <td>Kanyon</td>\n",
       "    </tr>\n",
       "  </tbody>\n",
       "</table>\n",
       "</div>"
      ],
      "text/plain": [
       "   gender  age  category quantity    price payment_method invoice_date  \\\n",
       "0  Female   28  Clothing      NaN  1500.40    Credit Card   2022-08-05   \n",
       "1    Male   21     Shoes      NaN  1800.51     Debit Card   2021-12-12   \n",
       "2    Male   20  Clothing      NaN   300.08           Cash   2021-11-09   \n",
       "3  Female   66     Shoes      NaN  3000.85    Credit Card   2021-05-16   \n",
       "4  Female   53     Books      NaN    60.60           Cash   2021-10-24   \n",
       "\n",
       "    shopping_mall  \n",
       "0          Kanyon  \n",
       "1  Forum Istanbul  \n",
       "2       Metrocity  \n",
       "3    Metropol AVM  \n",
       "4          Kanyon  "
      ]
     },
     "execution_count": 25,
     "metadata": {},
     "output_type": "execute_result"
    }
   ],
   "source": [
    "df = load_data(MARKETING_PATH, FEATURES_TO_DEL, FEATURES_CAT, FEATURES_DATE, FEATURE_ORD_LEVELS)\n",
    "df.head()"
   ]
  },
  {
   "cell_type": "code",
   "execution_count": 27,
   "id": "487b8bae-3ad4-4086-a0e3-6cdc4b50af16",
   "metadata": {},
   "outputs": [
    {
     "data": {
      "text/plain": [
       "97455"
      ]
     },
     "execution_count": 27,
     "metadata": {},
     "output_type": "execute_result"
    }
   ],
   "source": [
    "df.isna().sum().sum()"
   ]
  },
  {
   "cell_type": "code",
   "execution_count": 28,
   "id": "f168ad1b-23f4-47ab-aef3-0c1f79607647",
   "metadata": {},
   "outputs": [
    {
     "data": {
      "text/plain": [
       "gender                  category\n",
       "age                        int64\n",
       "category                category\n",
       "quantity                category\n",
       "price                    float64\n",
       "payment_method          category\n",
       "invoice_date      datetime64[ns]\n",
       "shopping_mall           category\n",
       "dtype: object"
      ]
     },
     "execution_count": 28,
     "metadata": {},
     "output_type": "execute_result"
    }
   ],
   "source": [
    "df.dtypes"
   ]
  },
  {
   "cell_type": "markdown",
   "id": "6e8b75ca-7f53-45d7-bd02-5e8ceafd6d5e",
   "metadata": {},
   "source": [
    "## 2 Feature Utility Scores"
   ]
  },
  {
   "cell_type": "markdown",
   "id": "633d4ce3-5283-4c68-8158-c1bedb29ac56",
   "metadata": {},
   "source": [
    "## 2.1 MI Scores"
   ]
  },
  {
   "cell_type": "code",
   "execution_count": 45,
   "id": "aca51e7c-e45e-416d-a90d-6b9f6a992b8f",
   "metadata": {},
   "outputs": [],
   "source": [
    "def make_mi_scores(X, y, random_state=0):\n",
    "    X = X.copy()\n",
    "    for feature in X.select_dtypes(['object', 'category', 'datetime64[ns]']):\n",
    "        X[feature], _ = X[feature].factorize()\n",
    "        \n",
    "    discrete_features = [pd.api.types.is_integer_dtype(t) for t in X.dtypes]\n",
    "    mi_scores = mutual_info_regression(X, y, discrete_features=discrete_features, random_state=random_state)\n",
    "    mi_scores = pd.Series(mi_scores, name='MI Scores', index=X.columns)\n",
    "    mi_scores = mi_scores.sort_values(ascending=False)\n",
    "    return mi_scores"
   ]
  },
  {
   "cell_type": "code",
   "execution_count": 46,
   "id": "f08ac495-2464-4300-be7f-c46418a5ffde",
   "metadata": {},
   "outputs": [],
   "source": [
    "def plot_mi_scores(scores):\n",
    "    scores = scores.sort_values(ascending=True)\n",
    "    width = np.arange(len(scores))\n",
    "    ticks = list(scores.index)\n",
    "    plt.barh(width, scores)\n",
    "    plt.yticks(width, ticks)\n",
    "    plt.title('Mutual Information Scores')"
   ]
  },
  {
   "cell_type": "code",
   "execution_count": 47,
   "id": "743c65ae-be57-4ca9-87d3-d4f5fa849898",
   "metadata": {},
   "outputs": [
    {
     "data": {
      "text/plain": [
       "category          1.823628\n",
       "invoice_date      0.003821\n",
       "age               0.002029\n",
       "quantity          0.000898\n",
       "gender            0.000000\n",
       "payment_method    0.000000\n",
       "shopping_mall     0.000000\n",
       "Name: MI Scores, dtype: float64"
      ]
     },
     "execution_count": 47,
     "metadata": {},
     "output_type": "execute_result"
    }
   ],
   "source": [
    "X_mi = df.copy()\n",
    "y_mi = X_mi.pop(MI_SCORES_FEATURE_TO_ESTIMATE)\n",
    "\n",
    "mi_scores = make_mi_scores(X_mi, y_mi, random_state=RANDOM_STATE)\n",
    "mi_scores"
   ]
  },
  {
   "cell_type": "code",
   "execution_count": 48,
   "id": "e94efc13-836d-491f-8812-ca19d064fd4f",
   "metadata": {},
   "outputs": [
    {
     "data": {
      "image/png": "[encoded data removed]",
      "text/plain": [
       "<Figure size 800x550 with 1 Axes>"
      ]
     },
     "metadata": {},
     "output_type": "display_data"
    }
   ],
   "source": [
    "plot_mi_scores(mi_scores)"
   ]
  }
 ],
 "metadata": {
  "kernelspec": {
   "display_name": "Python 3 (ipykernel)",
   "language": "python",
   "name": "python3"
  },
  "language_info": {
   "codemirror_mode": {
    "name": "ipython",
    "version": 3
   },
   "file_extension": ".py",
   "mimetype": "text/x-python",
   "name": "python",
   "nbconvert_exporter": "python",
   "pygments_lexer": "ipython3",
   "version": "3.11.5"
  }
 },
 "nbformat": 4,
 "nbformat_minor": 5
}
